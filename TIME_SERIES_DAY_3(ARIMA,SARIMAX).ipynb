{
  "nbformat": 4,
  "nbformat_minor": 0,
  "metadata": {
    "colab": {
      "provenance": []
    },
    "kernelspec": {
      "name": "python3",
      "display_name": "Python 3"
    },
    "language_info": {
      "name": "python"
    }
  },
  "cells": [
    {
      "cell_type": "code",
      "execution_count": null,
      "metadata": {
        "id": "LKUg2364dP_I"
      },
      "outputs": [],
      "source": [
        "import pandas as pd\n"
      ]
    },
    {
      "cell_type": "code",
      "source": [
        "data=pd.read_csv(\"/content/drive/MyDrive/dataset/time series/airline_passengers.csv\")"
      ],
      "metadata": {
        "id": "89BGhkbgeM5B"
      },
      "execution_count": null,
      "outputs": []
    },
    {
      "cell_type": "code",
      "source": [
        "passanger=pd.read_csv(\"/content/drive/MyDrive/dataset/time series/airline_passengers.csv\")"
      ],
      "metadata": {
        "id": "ZifzQx-kgixa"
      },
      "execution_count": null,
      "outputs": []
    },
    {
      "cell_type": "code",
      "source": [
        "data.head()"
      ],
      "metadata": {
        "colab": {
          "base_uri": "https://localhost:8080/",
          "height": 206
        },
        "id": "Lbxi1NAbeckU",
        "outputId": "f4091a95-d558-4cc8-de79-517973ac9815"
      },
      "execution_count": null,
      "outputs": [
        {
          "output_type": "execute_result",
          "data": {
            "text/plain": [
              "     Month  Thousands of Passengers\n",
              "0  1949-01                    112.0\n",
              "1  1949-02                    118.0\n",
              "2  1949-03                    132.0\n",
              "3  1949-04                    129.0\n",
              "4  1949-05                    121.0"
            ],
            "text/html": [
              "\n",
              "  <div id=\"df-48e7f6ea-3b18-4659-8e86-278ca9e5e926\">\n",
              "    <div class=\"colab-df-container\">\n",
              "      <div>\n",
              "<style scoped>\n",
              "    .dataframe tbody tr th:only-of-type {\n",
              "        vertical-align: middle;\n",
              "    }\n",
              "\n",
              "    .dataframe tbody tr th {\n",
              "        vertical-align: top;\n",
              "    }\n",
              "\n",
              "    .dataframe thead th {\n",
              "        text-align: right;\n",
              "    }\n",
              "</style>\n",
              "<table border=\"1\" class=\"dataframe\">\n",
              "  <thead>\n",
              "    <tr style=\"text-align: right;\">\n",
              "      <th></th>\n",
              "      <th>Month</th>\n",
              "      <th>Thousands of Passengers</th>\n",
              "    </tr>\n",
              "  </thead>\n",
              "  <tbody>\n",
              "    <tr>\n",
              "      <th>0</th>\n",
              "      <td>1949-01</td>\n",
              "      <td>112.0</td>\n",
              "    </tr>\n",
              "    <tr>\n",
              "      <th>1</th>\n",
              "      <td>1949-02</td>\n",
              "      <td>118.0</td>\n",
              "    </tr>\n",
              "    <tr>\n",
              "      <th>2</th>\n",
              "      <td>1949-03</td>\n",
              "      <td>132.0</td>\n",
              "    </tr>\n",
              "    <tr>\n",
              "      <th>3</th>\n",
              "      <td>1949-04</td>\n",
              "      <td>129.0</td>\n",
              "    </tr>\n",
              "    <tr>\n",
              "      <th>4</th>\n",
              "      <td>1949-05</td>\n",
              "      <td>121.0</td>\n",
              "    </tr>\n",
              "  </tbody>\n",
              "</table>\n",
              "</div>\n",
              "      <button class=\"colab-df-convert\" onclick=\"convertToInteractive('df-48e7f6ea-3b18-4659-8e86-278ca9e5e926')\"\n",
              "              title=\"Convert this dataframe to an interactive table.\"\n",
              "              style=\"display:none;\">\n",
              "        \n",
              "  <svg xmlns=\"http://www.w3.org/2000/svg\" height=\"24px\"viewBox=\"0 0 24 24\"\n",
              "       width=\"24px\">\n",
              "    <path d=\"M0 0h24v24H0V0z\" fill=\"none\"/>\n",
              "    <path d=\"M18.56 5.44l.94 2.06.94-2.06 2.06-.94-2.06-.94-.94-2.06-.94 2.06-2.06.94zm-11 1L8.5 8.5l.94-2.06 2.06-.94-2.06-.94L8.5 2.5l-.94 2.06-2.06.94zm10 10l.94 2.06.94-2.06 2.06-.94-2.06-.94-.94-2.06-.94 2.06-2.06.94z\"/><path d=\"M17.41 7.96l-1.37-1.37c-.4-.4-.92-.59-1.43-.59-.52 0-1.04.2-1.43.59L10.3 9.45l-7.72 7.72c-.78.78-.78 2.05 0 2.83L4 21.41c.39.39.9.59 1.41.59.51 0 1.02-.2 1.41-.59l7.78-7.78 2.81-2.81c.8-.78.8-2.07 0-2.86zM5.41 20L4 18.59l7.72-7.72 1.47 1.35L5.41 20z\"/>\n",
              "  </svg>\n",
              "      </button>\n",
              "      \n",
              "  <style>\n",
              "    .colab-df-container {\n",
              "      display:flex;\n",
              "      flex-wrap:wrap;\n",
              "      gap: 12px;\n",
              "    }\n",
              "\n",
              "    .colab-df-convert {\n",
              "      background-color: #E8F0FE;\n",
              "      border: none;\n",
              "      border-radius: 50%;\n",
              "      cursor: pointer;\n",
              "      display: none;\n",
              "      fill: #1967D2;\n",
              "      height: 32px;\n",
              "      padding: 0 0 0 0;\n",
              "      width: 32px;\n",
              "    }\n",
              "\n",
              "    .colab-df-convert:hover {\n",
              "      background-color: #E2EBFA;\n",
              "      box-shadow: 0px 1px 2px rgba(60, 64, 67, 0.3), 0px 1px 3px 1px rgba(60, 64, 67, 0.15);\n",
              "      fill: #174EA6;\n",
              "    }\n",
              "\n",
              "    [theme=dark] .colab-df-convert {\n",
              "      background-color: #3B4455;\n",
              "      fill: #D2E3FC;\n",
              "    }\n",
              "\n",
              "    [theme=dark] .colab-df-convert:hover {\n",
              "      background-color: #434B5C;\n",
              "      box-shadow: 0px 1px 3px 1px rgba(0, 0, 0, 0.15);\n",
              "      filter: drop-shadow(0px 1px 2px rgba(0, 0, 0, 0.3));\n",
              "      fill: #FFFFFF;\n",
              "    }\n",
              "  </style>\n",
              "\n",
              "      <script>\n",
              "        const buttonEl =\n",
              "          document.querySelector('#df-48e7f6ea-3b18-4659-8e86-278ca9e5e926 button.colab-df-convert');\n",
              "        buttonEl.style.display =\n",
              "          google.colab.kernel.accessAllowed ? 'block' : 'none';\n",
              "\n",
              "        async function convertToInteractive(key) {\n",
              "          const element = document.querySelector('#df-48e7f6ea-3b18-4659-8e86-278ca9e5e926');\n",
              "          const dataTable =\n",
              "            await google.colab.kernel.invokeFunction('convertToInteractive',\n",
              "                                                     [key], {});\n",
              "          if (!dataTable) return;\n",
              "\n",
              "          const docLinkHtml = 'Like what you see? Visit the ' +\n",
              "            '<a target=\"_blank\" href=https://colab.research.google.com/notebooks/data_table.ipynb>data table notebook</a>'\n",
              "            + ' to learn more about interactive tables.';\n",
              "          element.innerHTML = '';\n",
              "          dataTable['output_type'] = 'display_data';\n",
              "          await google.colab.output.renderOutput(dataTable, element);\n",
              "          const docLink = document.createElement('div');\n",
              "          docLink.innerHTML = docLinkHtml;\n",
              "          element.appendChild(docLink);\n",
              "        }\n",
              "      </script>\n",
              "    </div>\n",
              "  </div>\n",
              "  "
            ]
          },
          "metadata": {},
          "execution_count": 102
        }
      ]
    },
    {
      "cell_type": "code",
      "source": [
        "data.plot()"
      ],
      "metadata": {
        "colab": {
          "base_uri": "https://localhost:8080/",
          "height": 282
        },
        "id": "SuOoSOhIeTom",
        "outputId": "01292eae-cffa-43e1-c4ad-7e5450647236"
      },
      "execution_count": null,
      "outputs": [
        {
          "output_type": "execute_result",
          "data": {
            "text/plain": [
              "<matplotlib.axes._subplots.AxesSubplot at 0x7fae944bb590>"
            ]
          },
          "metadata": {},
          "execution_count": 103
        },
        {
          "output_type": "display_data",
          "data": {
            "text/plain": [
              "<Figure size 432x288 with 1 Axes>"
            ],
            "image/png": "[encoded data removed]"
          },
          "metadata": {
            "needs_background": "light"
          }
        }
      ]
    },
    {
      "cell_type": "code",
      "source": [
        "data['pass']=data['Thousands of Passengers'].ewm(span=5).mean()"
      ],
      "metadata": {
        "id": "DxN2f3spenSh"
      },
      "execution_count": null,
      "outputs": []
    },
    {
      "cell_type": "code",
      "source": [
        "data[['Thousands of Passengers','pass']].plot(figsize=(15,6))"
      ],
      "metadata": {
        "colab": {
          "base_uri": "https://localhost:8080/",
          "height": 291
        },
        "id": "GayFjlU6e9cO",
        "outputId": "d5b4027f-8c5b-4644-fef4-b2280ff42cff"
      },
      "execution_count": null,
      "outputs": [
        {
          "output_type": "execute_result",
          "data": {
            "text/plain": [
              "<matplotlib.axes._subplots.AxesSubplot at 0x7fae94489ed0>"
            ]
          },
          "metadata": {},
          "execution_count": 105
        },
        {
          "output_type": "display_data",
          "data": {
            "text/plain": [
              "<Figure size 1080x432 with 1 Axes>"
            ],
            "image/png": "[encoded data removed]"
          },
          "metadata": {
            "needs_background": "light"
          }
        }
      ]
    },
    {
      "cell_type": "code",
      "source": [
        "data['pass_2']=data['Thousands of Passengers'].ewm(alpha=0.6,adjust=False).mean()"
      ],
      "metadata": {
        "id": "715QIDlsfjVx"
      },
      "execution_count": null,
      "outputs": []
    },
    {
      "cell_type": "code",
      "source": [
        "data[['Thousands of Passengers','pass','pass_2']].plot(figsize=(15,6))"
      ],
      "metadata": {
        "colab": {
          "base_uri": "https://localhost:8080/",
          "height": 291
        },
        "id": "KnrRSQBXgLhg",
        "outputId": "b05df3ad-a4fe-4ccf-c8db-5dbc90954450"
      },
      "execution_count": null,
      "outputs": [
        {
          "output_type": "execute_result",
          "data": {
            "text/plain": [
              "<matplotlib.axes._subplots.AxesSubplot at 0x7fae943f17d0>"
            ]
          },
          "metadata": {},
          "execution_count": 107
        },
        {
          "output_type": "display_data",
          "data": {
            "text/plain": [
              "<Figure size 1080x432 with 1 Axes>"
            ],
            "image/png": "[encoded data removed]"
          },
          "metadata": {
            "needs_background": "light"
          }
        }
      ]
    },
    {
      "cell_type": "code",
      "source": [],
      "metadata": {
        "id": "nEzP4JZrnuIY"
      },
      "execution_count": null,
      "outputs": []
    },
    {
      "cell_type": "code",
      "source": [
        "passanger=passanger.dropna()"
      ],
      "metadata": {
        "id": "1WOBom2agQ6a"
      },
      "execution_count": null,
      "outputs": []
    },
    {
      "cell_type": "code",
      "source": [
        "passanger.isnull().sum()"
      ],
      "metadata": {
        "colab": {
          "base_uri": "https://localhost:8080/"
        },
        "id": "H9_EVBDCnvBe",
        "outputId": "33fde585-404a-4d54-a769-a1e3ef13e897"
      },
      "execution_count": null,
      "outputs": [
        {
          "output_type": "execute_result",
          "data": {
            "text/plain": [
              "Month                      0\n",
              "Thousands of Passengers    0\n",
              "dtype: int64"
            ]
          },
          "metadata": {},
          "execution_count": 109
        }
      ]
    },
    {
      "cell_type": "code",
      "source": [
        "passanger.info()"
      ],
      "metadata": {
        "colab": {
          "base_uri": "https://localhost:8080/"
        },
        "id": "LlHbHPwjnxhe",
        "outputId": "76466b1a-5232-47e5-dce1-7d3a6a25aa49"
      },
      "execution_count": null,
      "outputs": [
        {
          "output_type": "stream",
          "name": "stdout",
          "text": [
            "<class 'pandas.core.frame.DataFrame'>\n",
            "Int64Index: 144 entries, 0 to 143\n",
            "Data columns (total 2 columns):\n",
            " #   Column                   Non-Null Count  Dtype  \n",
            "---  ------                   --------------  -----  \n",
            " 0   Month                    144 non-null    object \n",
            " 1   Thousands of Passengers  144 non-null    float64\n",
            "dtypes: float64(1), object(1)\n",
            "memory usage: 3.4+ KB\n"
          ]
        }
      ]
    },
    {
      "cell_type": "code",
      "source": [
        "## converting oject into datetime\n",
        "passanger['Month']=pd.to_datetime(passanger['Month'])"
      ],
      "metadata": {
        "colab": {
          "base_uri": "https://localhost:8080/"
        },
        "id": "gPxBtUnCn3bK",
        "outputId": "54fa3d7e-c767-4c6e-91a7-415f99b0d0fc"
      },
      "execution_count": null,
      "outputs": [
        {
          "output_type": "stream",
          "name": "stderr",
          "text": [
            "/usr/local/lib/python3.7/dist-packages/ipykernel_launcher.py:2: SettingWithCopyWarning: \n",
            "A value is trying to be set on a copy of a slice from a DataFrame.\n",
            "Try using .loc[row_indexer,col_indexer] = value instead\n",
            "\n",
            "See the caveats in the documentation: https://pandas.pydata.org/pandas-docs/stable/user_guide/indexing.html#returning-a-view-versus-a-copy\n",
            "  \n"
          ]
        }
      ]
    },
    {
      "cell_type": "code",
      "source": [
        "passanger.info()"
      ],
      "metadata": {
        "colab": {
          "base_uri": "https://localhost:8080/"
        },
        "id": "8PP-hq6LoEum",
        "outputId": "0e5898bd-092e-490a-dc29-c101144ffb9b"
      },
      "execution_count": null,
      "outputs": [
        {
          "output_type": "stream",
          "name": "stdout",
          "text": [
            "<class 'pandas.core.frame.DataFrame'>\n",
            "Int64Index: 144 entries, 0 to 143\n",
            "Data columns (total 2 columns):\n",
            " #   Column                   Non-Null Count  Dtype         \n",
            "---  ------                   --------------  -----         \n",
            " 0   Month                    144 non-null    datetime64[ns]\n",
            " 1   Thousands of Passengers  144 non-null    float64       \n",
            "dtypes: datetime64[ns](1), float64(1)\n",
            "memory usage: 3.4 KB\n"
          ]
        }
      ]
    },
    {
      "cell_type": "code",
      "source": [
        "passanger.head()"
      ],
      "metadata": {
        "colab": {
          "base_uri": "https://localhost:8080/",
          "height": 206
        },
        "id": "5MZc6RRDoQrc",
        "outputId": "9016d982-574d-4bed-9abd-3582ce518268"
      },
      "execution_count": null,
      "outputs": [
        {
          "output_type": "execute_result",
          "data": {
            "text/plain": [
              "       Month  Thousands of Passengers\n",
              "0 1949-01-01                    112.0\n",
              "1 1949-02-01                    118.0\n",
              "2 1949-03-01                    132.0\n",
              "3 1949-04-01                    129.0\n",
              "4 1949-05-01                    121.0"
            ],
            "text/html": [
              "\n",
              "  <div id=\"df-048bcb53-0969-42dd-bff7-f464cb22066d\">\n",
              "    <div class=\"colab-df-container\">\n",
              "      <div>\n",
              "<style scoped>\n",
              "    .dataframe tbody tr th:only-of-type {\n",
              "        vertical-align: middle;\n",
              "    }\n",
              "\n",
              "    .dataframe tbody tr th {\n",
              "        vertical-align: top;\n",
              "    }\n",
              "\n",
              "    .dataframe thead th {\n",
              "        text-align: right;\n",
              "    }\n",
              "</style>\n",
              "<table border=\"1\" class=\"dataframe\">\n",
              "  <thead>\n",
              "    <tr style=\"text-align: right;\">\n",
              "      <th></th>\n",
              "      <th>Month</th>\n",
              "      <th>Thousands of Passengers</th>\n",
              "    </tr>\n",
              "  </thead>\n",
              "  <tbody>\n",
              "    <tr>\n",
              "      <th>0</th>\n",
              "      <td>1949-01-01</td>\n",
              "      <td>112.0</td>\n",
              "    </tr>\n",
              "    <tr>\n",
              "      <th>1</th>\n",
              "      <td>1949-02-01</td>\n",
              "      <td>118.0</td>\n",
              "    </tr>\n",
              "    <tr>\n",
              "      <th>2</th>\n",
              "      <td>1949-03-01</td>\n",
              "      <td>132.0</td>\n",
              "    </tr>\n",
              "    <tr>\n",
              "      <th>3</th>\n",
              "      <td>1949-04-01</td>\n",
              "      <td>129.0</td>\n",
              "    </tr>\n",
              "    <tr>\n",
              "      <th>4</th>\n",
              "      <td>1949-05-01</td>\n",
              "      <td>121.0</td>\n",
              "    </tr>\n",
              "  </tbody>\n",
              "</table>\n",
              "</div>\n",
              "      <button class=\"colab-df-convert\" onclick=\"convertToInteractive('df-048bcb53-0969-42dd-bff7-f464cb22066d')\"\n",
              "              title=\"Convert this dataframe to an interactive table.\"\n",
              "              style=\"display:none;\">\n",
              "        \n",
              "  <svg xmlns=\"http://www.w3.org/2000/svg\" height=\"24px\"viewBox=\"0 0 24 24\"\n",
              "       width=\"24px\">\n",
              "    <path d=\"M0 0h24v24H0V0z\" fill=\"none\"/>\n",
              "    <path d=\"M18.56 5.44l.94 2.06.94-2.06 2.06-.94-2.06-.94-.94-2.06-.94 2.06-2.06.94zm-11 1L8.5 8.5l.94-2.06 2.06-.94-2.06-.94L8.5 2.5l-.94 2.06-2.06.94zm10 10l.94 2.06.94-2.06 2.06-.94-2.06-.94-.94-2.06-.94 2.06-2.06.94z\"/><path d=\"M17.41 7.96l-1.37-1.37c-.4-.4-.92-.59-1.43-.59-.52 0-1.04.2-1.43.59L10.3 9.45l-7.72 7.72c-.78.78-.78 2.05 0 2.83L4 21.41c.39.39.9.59 1.41.59.51 0 1.02-.2 1.41-.59l7.78-7.78 2.81-2.81c.8-.78.8-2.07 0-2.86zM5.41 20L4 18.59l7.72-7.72 1.47 1.35L5.41 20z\"/>\n",
              "  </svg>\n",
              "      </button>\n",
              "      \n",
              "  <style>\n",
              "    .colab-df-container {\n",
              "      display:flex;\n",
              "      flex-wrap:wrap;\n",
              "      gap: 12px;\n",
              "    }\n",
              "\n",
              "    .colab-df-convert {\n",
              "      background-color: #E8F0FE;\n",
              "      border: none;\n",
              "      border-radius: 50%;\n",
              "      cursor: pointer;\n",
              "      display: none;\n",
              "      fill: #1967D2;\n",
              "      height: 32px;\n",
              "      padding: 0 0 0 0;\n",
              "      width: 32px;\n",
              "    }\n",
              "\n",
              "    .colab-df-convert:hover {\n",
              "      background-color: #E2EBFA;\n",
              "      box-shadow: 0px 1px 2px rgba(60, 64, 67, 0.3), 0px 1px 3px 1px rgba(60, 64, 67, 0.15);\n",
              "      fill: #174EA6;\n",
              "    }\n",
              "\n",
              "    [theme=dark] .colab-df-convert {\n",
              "      background-color: #3B4455;\n",
              "      fill: #D2E3FC;\n",
              "    }\n",
              "\n",
              "    [theme=dark] .colab-df-convert:hover {\n",
              "      background-color: #434B5C;\n",
              "      box-shadow: 0px 1px 3px 1px rgba(0, 0, 0, 0.15);\n",
              "      filter: drop-shadow(0px 1px 2px rgba(0, 0, 0, 0.3));\n",
              "      fill: #FFFFFF;\n",
              "    }\n",
              "  </style>\n",
              "\n",
              "      <script>\n",
              "        const buttonEl =\n",
              "          document.querySelector('#df-048bcb53-0969-42dd-bff7-f464cb22066d button.colab-df-convert');\n",
              "        buttonEl.style.display =\n",
              "          google.colab.kernel.accessAllowed ? 'block' : 'none';\n",
              "\n",
              "        async function convertToInteractive(key) {\n",
              "          const element = document.querySelector('#df-048bcb53-0969-42dd-bff7-f464cb22066d');\n",
              "          const dataTable =\n",
              "            await google.colab.kernel.invokeFunction('convertToInteractive',\n",
              "                                                     [key], {});\n",
              "          if (!dataTable) return;\n",
              "\n",
              "          const docLinkHtml = 'Like what you see? Visit the ' +\n",
              "            '<a target=\"_blank\" href=https://colab.research.google.com/notebooks/data_table.ipynb>data table notebook</a>'\n",
              "            + ' to learn more about interactive tables.';\n",
              "          element.innerHTML = '';\n",
              "          dataTable['output_type'] = 'display_data';\n",
              "          await google.colab.output.renderOutput(dataTable, element);\n",
              "          const docLink = document.createElement('div');\n",
              "          docLink.innerHTML = docLinkHtml;\n",
              "          element.appendChild(docLink);\n",
              "        }\n",
              "      </script>\n",
              "    </div>\n",
              "  </div>\n",
              "  "
            ]
          },
          "metadata": {},
          "execution_count": 113
        }
      ]
    },
    {
      "cell_type": "code",
      "source": [
        "passanger.set_index('Month',inplace=True)\n",
        "## converting month colum into index"
      ],
      "metadata": {
        "id": "O2bcDzZJoXLk"
      },
      "execution_count": null,
      "outputs": []
    },
    {
      "cell_type": "code",
      "source": [
        "passanger.head()"
      ],
      "metadata": {
        "colab": {
          "base_uri": "https://localhost:8080/",
          "height": 238
        },
        "id": "kvBIJXJFoqXG",
        "outputId": "18b91e91-0768-43ea-c956-0ddb5c5a584e"
      },
      "execution_count": null,
      "outputs": [
        {
          "output_type": "execute_result",
          "data": {
            "text/plain": [
              "            Thousands of Passengers\n",
              "Month                              \n",
              "1949-01-01                    112.0\n",
              "1949-02-01                    118.0\n",
              "1949-03-01                    132.0\n",
              "1949-04-01                    129.0\n",
              "1949-05-01                    121.0"
            ],
            "text/html": [
              "\n",
              "  <div id=\"df-e88f1028-8b4f-41e2-b5e8-ead705e8b8d0\">\n",
              "    <div class=\"colab-df-container\">\n",
              "      <div>\n",
              "<style scoped>\n",
              "    .dataframe tbody tr th:only-of-type {\n",
              "        vertical-align: middle;\n",
              "    }\n",
              "\n",
              "    .dataframe tbody tr th {\n",
              "        vertical-align: top;\n",
              "    }\n",
              "\n",
              "    .dataframe thead th {\n",
              "        text-align: right;\n",
              "    }\n",
              "</style>\n",
              "<table border=\"1\" class=\"dataframe\">\n",
              "  <thead>\n",
              "    <tr style=\"text-align: right;\">\n",
              "      <th></th>\n",
              "      <th>Thousands of Passengers</th>\n",
              "    </tr>\n",
              "    <tr>\n",
              "      <th>Month</th>\n",
              "      <th></th>\n",
              "    </tr>\n",
              "  </thead>\n",
              "  <tbody>\n",
              "    <tr>\n",
              "      <th>1949-01-01</th>\n",
              "      <td>112.0</td>\n",
              "    </tr>\n",
              "    <tr>\n",
              "      <th>1949-02-01</th>\n",
              "      <td>118.0</td>\n",
              "    </tr>\n",
              "    <tr>\n",
              "      <th>1949-03-01</th>\n",
              "      <td>132.0</td>\n",
              "    </tr>\n",
              "    <tr>\n",
              "      <th>1949-04-01</th>\n",
              "      <td>129.0</td>\n",
              "    </tr>\n",
              "    <tr>\n",
              "      <th>1949-05-01</th>\n",
              "      <td>121.0</td>\n",
              "    </tr>\n",
              "  </tbody>\n",
              "</table>\n",
              "</div>\n",
              "      <button class=\"colab-df-convert\" onclick=\"convertToInteractive('df-e88f1028-8b4f-41e2-b5e8-ead705e8b8d0')\"\n",
              "              title=\"Convert this dataframe to an interactive table.\"\n",
              "              style=\"display:none;\">\n",
              "        \n",
              "  <svg xmlns=\"http://www.w3.org/2000/svg\" height=\"24px\"viewBox=\"0 0 24 24\"\n",
              "       width=\"24px\">\n",
              "    <path d=\"M0 0h24v24H0V0z\" fill=\"none\"/>\n",
              "    <path d=\"M18.56 5.44l.94 2.06.94-2.06 2.06-.94-2.06-.94-.94-2.06-.94 2.06-2.06.94zm-11 1L8.5 8.5l.94-2.06 2.06-.94-2.06-.94L8.5 2.5l-.94 2.06-2.06.94zm10 10l.94 2.06.94-2.06 2.06-.94-2.06-.94-.94-2.06-.94 2.06-2.06.94z\"/><path d=\"M17.41 7.96l-1.37-1.37c-.4-.4-.92-.59-1.43-.59-.52 0-1.04.2-1.43.59L10.3 9.45l-7.72 7.72c-.78.78-.78 2.05 0 2.83L4 21.41c.39.39.9.59 1.41.59.51 0 1.02-.2 1.41-.59l7.78-7.78 2.81-2.81c.8-.78.8-2.07 0-2.86zM5.41 20L4 18.59l7.72-7.72 1.47 1.35L5.41 20z\"/>\n",
              "  </svg>\n",
              "      </button>\n",
              "      \n",
              "  <style>\n",
              "    .colab-df-container {\n",
              "      display:flex;\n",
              "      flex-wrap:wrap;\n",
              "      gap: 12px;\n",
              "    }\n",
              "\n",
              "    .colab-df-convert {\n",
              "      background-color: #E8F0FE;\n",
              "      border: none;\n",
              "      border-radius: 50%;\n",
              "      cursor: pointer;\n",
              "      display: none;\n",
              "      fill: #1967D2;\n",
              "      height: 32px;\n",
              "      padding: 0 0 0 0;\n",
              "      width: 32px;\n",
              "    }\n",
              "\n",
              "    .colab-df-convert:hover {\n",
              "      background-color: #E2EBFA;\n",
              "      box-shadow: 0px 1px 2px rgba(60, 64, 67, 0.3), 0px 1px 3px 1px rgba(60, 64, 67, 0.15);\n",
              "      fill: #174EA6;\n",
              "    }\n",
              "\n",
              "    [theme=dark] .colab-df-convert {\n",
              "      background-color: #3B4455;\n",
              "      fill: #D2E3FC;\n",
              "    }\n",
              "\n",
              "    [theme=dark] .colab-df-convert:hover {\n",
              "      background-color: #434B5C;\n",
              "      box-shadow: 0px 1px 3px 1px rgba(0, 0, 0, 0.15);\n",
              "      filter: drop-shadow(0px 1px 2px rgba(0, 0, 0, 0.3));\n",
              "      fill: #FFFFFF;\n",
              "    }\n",
              "  </style>\n",
              "\n",
              "      <script>\n",
              "        const buttonEl =\n",
              "          document.querySelector('#df-e88f1028-8b4f-41e2-b5e8-ead705e8b8d0 button.colab-df-convert');\n",
              "        buttonEl.style.display =\n",
              "          google.colab.kernel.accessAllowed ? 'block' : 'none';\n",
              "\n",
              "        async function convertToInteractive(key) {\n",
              "          const element = document.querySelector('#df-e88f1028-8b4f-41e2-b5e8-ead705e8b8d0');\n",
              "          const dataTable =\n",
              "            await google.colab.kernel.invokeFunction('convertToInteractive',\n",
              "                                                     [key], {});\n",
              "          if (!dataTable) return;\n",
              "\n",
              "          const docLinkHtml = 'Like what you see? Visit the ' +\n",
              "            '<a target=\"_blank\" href=https://colab.research.google.com/notebooks/data_table.ipynb>data table notebook</a>'\n",
              "            + ' to learn more about interactive tables.';\n",
              "          element.innerHTML = '';\n",
              "          dataTable['output_type'] = 'display_data';\n",
              "          await google.colab.output.renderOutput(dataTable, element);\n",
              "          const docLink = document.createElement('div');\n",
              "          docLink.innerHTML = docLinkHtml;\n",
              "          element.appendChild(docLink);\n",
              "        }\n",
              "      </script>\n",
              "    </div>\n",
              "  </div>\n",
              "  "
            ]
          },
          "metadata": {},
          "execution_count": 115
        }
      ]
    },
    {
      "cell_type": "code",
      "source": [
        "passanger.plot()"
      ],
      "metadata": {
        "colab": {
          "base_uri": "https://localhost:8080/",
          "height": 296
        },
        "id": "iine3Eq9or2U",
        "outputId": "868e3f79-1988-494b-e5ee-a829ff949095"
      },
      "execution_count": null,
      "outputs": [
        {
          "output_type": "execute_result",
          "data": {
            "text/plain": [
              "<matplotlib.axes._subplots.AxesSubplot at 0x7fae9451c450>"
            ]
          },
          "metadata": {},
          "execution_count": 116
        },
        {
          "output_type": "display_data",
          "data": {
            "text/plain": [
              "<Figure size 432x288 with 1 Axes>"
            ],
            "image/png": "[encoded data removed]"
          },
          "metadata": {
            "needs_background": "light"
          }
        }
      ]
    },
    {
      "cell_type": "code",
      "source": [
        "### checking the data is stationary or nat doing a test"
      ],
      "metadata": {
        "id": "7taKzNzlpCA2"
      },
      "execution_count": null,
      "outputs": []
    },
    {
      "cell_type": "markdown",
      "source": [
        "Dkifuller  test"
      ],
      "metadata": {
        "id": "vXQTTPpJpjPd"
      }
    },
    {
      "cell_type": "code",
      "source": [
        "from statsmodels.tsa.stattools import adfuller\n",
        "def test(series):\n",
        "  result=adfuller(series)\n",
        "  print('ADF-value:{}'.format(result[0]))\n",
        "  print('p-value:{}'.format(result[1]))\n",
        "  if result[1]<=0.05:\n",
        "    print('rejecting null hypothesis, data is stationary and have no unit root')\n",
        "  else:\n",
        "    print('accept null hypothesis ,data is not stationary and have  unit root')"
      ],
      "metadata": {
        "id": "M9P9yOGDpikG"
      },
      "execution_count": null,
      "outputs": []
    },
    {
      "cell_type": "code",
      "source": [
        "test(passanger['Thousands of Passengers'])"
      ],
      "metadata": {
        "colab": {
          "base_uri": "https://localhost:8080/"
        },
        "id": "3ojrIAN0rj7D",
        "outputId": "24d53824-2840-45f4-cf2a-c8a9df9577ed"
      },
      "execution_count": null,
      "outputs": [
        {
          "output_type": "stream",
          "name": "stdout",
          "text": [
            "ADF-value:0.8153688792060472\n",
            "p-value:0.991880243437641\n",
            "accept null hypothesis ,data is not stationary and have  unit root\n"
          ]
        }
      ]
    },
    {
      "cell_type": "code",
      "source": [
        "## making the data stationary by differencing"
      ],
      "metadata": {
        "id": "cnigrOKMrwjR"
      },
      "execution_count": null,
      "outputs": []
    },
    {
      "cell_type": "code",
      "source": [
        "passanger['Thousands of Passengers_1']=passanger['Thousands of Passengers']-passanger['Thousands of Passengers'].shift(1)"
      ],
      "metadata": {
        "id": "Px6bsf00sxwf"
      },
      "execution_count": null,
      "outputs": []
    },
    {
      "cell_type": "code",
      "source": [
        "passanger.head()"
      ],
      "metadata": {
        "colab": {
          "base_uri": "https://localhost:8080/",
          "height": 238
        },
        "id": "P9Up3OMhtDV6",
        "outputId": "4de9b1bc-4ae7-4061-e8f0-198452ac3ce2"
      },
      "execution_count": null,
      "outputs": [
        {
          "output_type": "execute_result",
          "data": {
            "text/plain": [
              "            Thousands of Passengers  Thousands of Passengers_1\n",
              "Month                                                         \n",
              "1949-01-01                    112.0                        NaN\n",
              "1949-02-01                    118.0                        6.0\n",
              "1949-03-01                    132.0                       14.0\n",
              "1949-04-01                    129.0                       -3.0\n",
              "1949-05-01                    121.0                       -8.0"
            ],
            "text/html": [
              "\n",
              "  <div id=\"df-8281e331-2a5a-4d0d-a486-9ed5720c76e9\">\n",
              "    <div class=\"colab-df-container\">\n",
              "      <div>\n",
              "<style scoped>\n",
              "    .dataframe tbody tr th:only-of-type {\n",
              "        vertical-align: middle;\n",
              "    }\n",
              "\n",
              "    .dataframe tbody tr th {\n",
              "        vertical-align: top;\n",
              "    }\n",
              "\n",
              "    .dataframe thead th {\n",
              "        text-align: right;\n",
              "    }\n",
              "</style>\n",
              "<table border=\"1\" class=\"dataframe\">\n",
              "  <thead>\n",
              "    <tr style=\"text-align: right;\">\n",
              "      <th></th>\n",
              "      <th>Thousands of Passengers</th>\n",
              "      <th>Thousands of Passengers_1</th>\n",
              "    </tr>\n",
              "    <tr>\n",
              "      <th>Month</th>\n",
              "      <th></th>\n",
              "      <th></th>\n",
              "    </tr>\n",
              "  </thead>\n",
              "  <tbody>\n",
              "    <tr>\n",
              "      <th>1949-01-01</th>\n",
              "      <td>112.0</td>\n",
              "      <td>NaN</td>\n",
              "    </tr>\n",
              "    <tr>\n",
              "      <th>1949-02-01</th>\n",
              "      <td>118.0</td>\n",
              "      <td>6.0</td>\n",
              "    </tr>\n",
              "    <tr>\n",
              "      <th>1949-03-01</th>\n",
              "      <td>132.0</td>\n",
              "      <td>14.0</td>\n",
              "    </tr>\n",
              "    <tr>\n",
              "      <th>1949-04-01</th>\n",
              "      <td>129.0</td>\n",
              "      <td>-3.0</td>\n",
              "    </tr>\n",
              "    <tr>\n",
              "      <th>1949-05-01</th>\n",
              "      <td>121.0</td>\n",
              "      <td>-8.0</td>\n",
              "    </tr>\n",
              "  </tbody>\n",
              "</table>\n",
              "</div>\n",
              "      <button class=\"colab-df-convert\" onclick=\"convertToInteractive('df-8281e331-2a5a-4d0d-a486-9ed5720c76e9')\"\n",
              "              title=\"Convert this dataframe to an interactive table.\"\n",
              "              style=\"display:none;\">\n",
              "        \n",
              "  <svg xmlns=\"http://www.w3.org/2000/svg\" height=\"24px\"viewBox=\"0 0 24 24\"\n",
              "       width=\"24px\">\n",
              "    <path d=\"M0 0h24v24H0V0z\" fill=\"none\"/>\n",
              "    <path d=\"M18.56 5.44l.94 2.06.94-2.06 2.06-.94-2.06-.94-.94-2.06-.94 2.06-2.06.94zm-11 1L8.5 8.5l.94-2.06 2.06-.94-2.06-.94L8.5 2.5l-.94 2.06-2.06.94zm10 10l.94 2.06.94-2.06 2.06-.94-2.06-.94-.94-2.06-.94 2.06-2.06.94z\"/><path d=\"M17.41 7.96l-1.37-1.37c-.4-.4-.92-.59-1.43-.59-.52 0-1.04.2-1.43.59L10.3 9.45l-7.72 7.72c-.78.78-.78 2.05 0 2.83L4 21.41c.39.39.9.59 1.41.59.51 0 1.02-.2 1.41-.59l7.78-7.78 2.81-2.81c.8-.78.8-2.07 0-2.86zM5.41 20L4 18.59l7.72-7.72 1.47 1.35L5.41 20z\"/>\n",
              "  </svg>\n",
              "      </button>\n",
              "      \n",
              "  <style>\n",
              "    .colab-df-container {\n",
              "      display:flex;\n",
              "      flex-wrap:wrap;\n",
              "      gap: 12px;\n",
              "    }\n",
              "\n",
              "    .colab-df-convert {\n",
              "      background-color: #E8F0FE;\n",
              "      border: none;\n",
              "      border-radius: 50%;\n",
              "      cursor: pointer;\n",
              "      display: none;\n",
              "      fill: #1967D2;\n",
              "      height: 32px;\n",
              "      padding: 0 0 0 0;\n",
              "      width: 32px;\n",
              "    }\n",
              "\n",
              "    .colab-df-convert:hover {\n",
              "      background-color: #E2EBFA;\n",
              "      box-shadow: 0px 1px 2px rgba(60, 64, 67, 0.3), 0px 1px 3px 1px rgba(60, 64, 67, 0.15);\n",
              "      fill: #174EA6;\n",
              "    }\n",
              "\n",
              "    [theme=dark] .colab-df-convert {\n",
              "      background-color: #3B4455;\n",
              "      fill: #D2E3FC;\n",
              "    }\n",
              "\n",
              "    [theme=dark] .colab-df-convert:hover {\n",
              "      background-color: #434B5C;\n",
              "      box-shadow: 0px 1px 3px 1px rgba(0, 0, 0, 0.15);\n",
              "      filter: drop-shadow(0px 1px 2px rgba(0, 0, 0, 0.3));\n",
              "      fill: #FFFFFF;\n",
              "    }\n",
              "  </style>\n",
              "\n",
              "      <script>\n",
              "        const buttonEl =\n",
              "          document.querySelector('#df-8281e331-2a5a-4d0d-a486-9ed5720c76e9 button.colab-df-convert');\n",
              "        buttonEl.style.display =\n",
              "          google.colab.kernel.accessAllowed ? 'block' : 'none';\n",
              "\n",
              "        async function convertToInteractive(key) {\n",
              "          const element = document.querySelector('#df-8281e331-2a5a-4d0d-a486-9ed5720c76e9');\n",
              "          const dataTable =\n",
              "            await google.colab.kernel.invokeFunction('convertToInteractive',\n",
              "                                                     [key], {});\n",
              "          if (!dataTable) return;\n",
              "\n",
              "          const docLinkHtml = 'Like what you see? Visit the ' +\n",
              "            '<a target=\"_blank\" href=https://colab.research.google.com/notebooks/data_table.ipynb>data table notebook</a>'\n",
              "            + ' to learn more about interactive tables.';\n",
              "          element.innerHTML = '';\n",
              "          dataTable['output_type'] = 'display_data';\n",
              "          await google.colab.output.renderOutput(dataTable, element);\n",
              "          const docLink = document.createElement('div');\n",
              "          docLink.innerHTML = docLinkHtml;\n",
              "          element.appendChild(docLink);\n",
              "        }\n",
              "      </script>\n",
              "    </div>\n",
              "  </div>\n",
              "  "
            ]
          },
          "metadata": {},
          "execution_count": 122
        }
      ]
    },
    {
      "cell_type": "code",
      "source": [
        "## doing test to check data get stationary or not"
      ],
      "metadata": {
        "id": "fdsOLEL1tGYn"
      },
      "execution_count": null,
      "outputs": []
    },
    {
      "cell_type": "code",
      "source": [
        "test(passanger['Thousands of Passengers_1'].dropna())"
      ],
      "metadata": {
        "colab": {
          "base_uri": "https://localhost:8080/"
        },
        "id": "WFAsg0_wtSu6",
        "outputId": "4a86c7e0-bdbf-40db-85c7-ca1058de6e87"
      },
      "execution_count": null,
      "outputs": [
        {
          "output_type": "stream",
          "name": "stdout",
          "text": [
            "ADF-value:-2.8292668241700056\n",
            "p-value:0.054213290283824704\n",
            "accept null hypothesis ,data is not stationary and have  unit root\n"
          ]
        }
      ]
    },
    {
      "cell_type": "code",
      "source": [
        "passanger['Thousands of Passengers_2']=passanger['Thousands of Passengers_1']-passanger['Thousands of Passengers_1'].shift(1)"
      ],
      "metadata": {
        "id": "rNzVHinbtWZe"
      },
      "execution_count": null,
      "outputs": []
    },
    {
      "cell_type": "code",
      "source": [
        "passanger.head()"
      ],
      "metadata": {
        "colab": {
          "base_uri": "https://localhost:8080/",
          "height": 386
        },
        "id": "hs6l7I6jvRt7",
        "outputId": "b1dae5d2-8b25-4a2e-fad2-799d2ac41f3c"
      },
      "execution_count": null,
      "outputs": [
        {
          "output_type": "execute_result",
          "data": {
            "text/plain": [
              "            Thousands of Passengers  Thousands of Passengers_1  \\\n",
              "Month                                                            \n",
              "1949-01-01                    112.0                        NaN   \n",
              "1949-02-01                    118.0                        6.0   \n",
              "1949-03-01                    132.0                       14.0   \n",
              "1949-04-01                    129.0                       -3.0   \n",
              "1949-05-01                    121.0                       -8.0   \n",
              "\n",
              "            Thousands of Passengers_2  \n",
              "Month                                  \n",
              "1949-01-01                        NaN  \n",
              "1949-02-01                        NaN  \n",
              "1949-03-01                        8.0  \n",
              "1949-04-01                      -17.0  \n",
              "1949-05-01                       -5.0  "
            ],
            "text/html": [
              "\n",
              "  <div id=\"df-63823384-841e-4427-9b94-baa2926a2fee\">\n",
              "    <div class=\"colab-df-container\">\n",
              "      <div>\n",
              "<style scoped>\n",
              "    .dataframe tbody tr th:only-of-type {\n",
              "        vertical-align: middle;\n",
              "    }\n",
              "\n",
              "    .dataframe tbody tr th {\n",
              "        vertical-align: top;\n",
              "    }\n",
              "\n",
              "    .dataframe thead th {\n",
              "        text-align: right;\n",
              "    }\n",
              "</style>\n",
              "<table border=\"1\" class=\"dataframe\">\n",
              "  <thead>\n",
              "    <tr style=\"text-align: right;\">\n",
              "      <th></th>\n",
              "      <th>Thousands of Passengers</th>\n",
              "      <th>Thousands of Passengers_1</th>\n",
              "      <th>Thousands of Passengers_2</th>\n",
              "    </tr>\n",
              "    <tr>\n",
              "      <th>Month</th>\n",
              "      <th></th>\n",
              "      <th></th>\n",
              "      <th></th>\n",
              "    </tr>\n",
              "  </thead>\n",
              "  <tbody>\n",
              "    <tr>\n",
              "      <th>1949-01-01</th>\n",
              "      <td>112.0</td>\n",
              "      <td>NaN</td>\n",
              "      <td>NaN</td>\n",
              "    </tr>\n",
              "    <tr>\n",
              "      <th>1949-02-01</th>\n",
              "      <td>118.0</td>\n",
              "      <td>6.0</td>\n",
              "      <td>NaN</td>\n",
              "    </tr>\n",
              "    <tr>\n",
              "      <th>1949-03-01</th>\n",
              "      <td>132.0</td>\n",
              "      <td>14.0</td>\n",
              "      <td>8.0</td>\n",
              "    </tr>\n",
              "    <tr>\n",
              "      <th>1949-04-01</th>\n",
              "      <td>129.0</td>\n",
              "      <td>-3.0</td>\n",
              "      <td>-17.0</td>\n",
              "    </tr>\n",
              "    <tr>\n",
              "      <th>1949-05-01</th>\n",
              "      <td>121.0</td>\n",
              "      <td>-8.0</td>\n",
              "      <td>-5.0</td>\n",
              "    </tr>\n",
              "  </tbody>\n",
              "</table>\n",
              "</div>\n",
              "      <button class=\"colab-df-convert\" onclick=\"convertToInteractive('df-63823384-841e-4427-9b94-baa2926a2fee')\"\n",
              "              title=\"Convert this dataframe to an interactive table.\"\n",
              "              style=\"display:none;\">\n",
              "        \n",
              "  <svg xmlns=\"http://www.w3.org/2000/svg\" height=\"24px\"viewBox=\"0 0 24 24\"\n",
              "       width=\"24px\">\n",
              "    <path d=\"M0 0h24v24H0V0z\" fill=\"none\"/>\n",
              "    <path d=\"M18.56 5.44l.94 2.06.94-2.06 2.06-.94-2.06-.94-.94-2.06-.94 2.06-2.06.94zm-11 1L8.5 8.5l.94-2.06 2.06-.94-2.06-.94L8.5 2.5l-.94 2.06-2.06.94zm10 10l.94 2.06.94-2.06 2.06-.94-2.06-.94-.94-2.06-.94 2.06-2.06.94z\"/><path d=\"M17.41 7.96l-1.37-1.37c-.4-.4-.92-.59-1.43-.59-.52 0-1.04.2-1.43.59L10.3 9.45l-7.72 7.72c-.78.78-.78 2.05 0 2.83L4 21.41c.39.39.9.59 1.41.59.51 0 1.02-.2 1.41-.59l7.78-7.78 2.81-2.81c.8-.78.8-2.07 0-2.86zM5.41 20L4 18.59l7.72-7.72 1.47 1.35L5.41 20z\"/>\n",
              "  </svg>\n",
              "      </button>\n",
              "      \n",
              "  <style>\n",
              "    .colab-df-container {\n",
              "      display:flex;\n",
              "      flex-wrap:wrap;\n",
              "      gap: 12px;\n",
              "    }\n",
              "\n",
              "    .colab-df-convert {\n",
              "      background-color: #E8F0FE;\n",
              "      border: none;\n",
              "      border-radius: 50%;\n",
              "      cursor: pointer;\n",
              "      display: none;\n",
              "      fill: #1967D2;\n",
              "      height: 32px;\n",
              "      padding: 0 0 0 0;\n",
              "      width: 32px;\n",
              "    }\n",
              "\n",
              "    .colab-df-convert:hover {\n",
              "      background-color: #E2EBFA;\n",
              "      box-shadow: 0px 1px 2px rgba(60, 64, 67, 0.3), 0px 1px 3px 1px rgba(60, 64, 67, 0.15);\n",
              "      fill: #174EA6;\n",
              "    }\n",
              "\n",
              "    [theme=dark] .colab-df-convert {\n",
              "      background-color: #3B4455;\n",
              "      fill: #D2E3FC;\n",
              "    }\n",
              "\n",
              "    [theme=dark] .colab-df-convert:hover {\n",
              "      background-color: #434B5C;\n",
              "      box-shadow: 0px 1px 3px 1px rgba(0, 0, 0, 0.15);\n",
              "      filter: drop-shadow(0px 1px 2px rgba(0, 0, 0, 0.3));\n",
              "      fill: #FFFFFF;\n",
              "    }\n",
              "  </style>\n",
              "\n",
              "      <script>\n",
              "        const buttonEl =\n",
              "          document.querySelector('#df-63823384-841e-4427-9b94-baa2926a2fee button.colab-df-convert');\n",
              "        buttonEl.style.display =\n",
              "          google.colab.kernel.accessAllowed ? 'block' : 'none';\n",
              "\n",
              "        async function convertToInteractive(key) {\n",
              "          const element = document.querySelector('#df-63823384-841e-4427-9b94-baa2926a2fee');\n",
              "          const dataTable =\n",
              "            await google.colab.kernel.invokeFunction('convertToInteractive',\n",
              "                                                     [key], {});\n",
              "          if (!dataTable) return;\n",
              "\n",
              "          const docLinkHtml = 'Like what you see? Visit the ' +\n",
              "            '<a target=\"_blank\" href=https://colab.research.google.com/notebooks/data_table.ipynb>data table notebook</a>'\n",
              "            + ' to learn more about interactive tables.';\n",
              "          element.innerHTML = '';\n",
              "          dataTable['output_type'] = 'display_data';\n",
              "          await google.colab.output.renderOutput(dataTable, element);\n",
              "          const docLink = document.createElement('div');\n",
              "          docLink.innerHTML = docLinkHtml;\n",
              "          element.appendChild(docLink);\n",
              "        }\n",
              "      </script>\n",
              "    </div>\n",
              "  </div>\n",
              "  "
            ]
          },
          "metadata": {},
          "execution_count": 126
        }
      ]
    },
    {
      "cell_type": "code",
      "source": [
        "test(passanger['Thousands of Passengers_2'].dropna())"
      ],
      "metadata": {
        "colab": {
          "base_uri": "https://localhost:8080/"
        },
        "id": "4Jcod-_xvUVi",
        "outputId": "685e020b-2f43-40c9-a907-a39d91f0f732"
      },
      "execution_count": null,
      "outputs": [
        {
          "output_type": "stream",
          "name": "stdout",
          "text": [
            "ADF-value:-16.384231542468495\n",
            "p-value:2.7328918500143186e-29\n",
            "rejecting null hypothesis, data is stationary and have no unit root\n"
          ]
        }
      ]
    },
    {
      "cell_type": "code",
      "source": [
        "## when ever data is sessional do differencing for 12 month"
      ],
      "metadata": {
        "id": "Q62wQNqVvZAv"
      },
      "execution_count": null,
      "outputs": []
    },
    {
      "cell_type": "code",
      "source": [
        "passanger['Thousands of Passengers_12']=passanger['Thousands of Passengers']-passanger['Thousands of Passengers'].shift(12)"
      ],
      "metadata": {
        "id": "ug6o-Q2jwxnk"
      },
      "execution_count": null,
      "outputs": []
    },
    {
      "cell_type": "code",
      "source": [
        "test(passanger['Thousands of Passengers_12'].dropna())"
      ],
      "metadata": {
        "colab": {
          "base_uri": "https://localhost:8080/"
        },
        "id": "UYAJnVTrw49t",
        "outputId": "d7755c7f-e294-4f74-aa82-3b4be0df0d2c"
      },
      "execution_count": null,
      "outputs": [
        {
          "output_type": "stream",
          "name": "stdout",
          "text": [
            "ADF-value:-3.383020726492481\n",
            "p-value:0.011551493085514952\n",
            "rejecting null hypothesis, data is stationary and have no unit root\n"
          ]
        }
      ]
    },
    {
      "cell_type": "code",
      "source": [
        "from statsmodels.graphics.tsaplots import plot_acf,plot_pacf"
      ],
      "metadata": {
        "id": "JV4Ku42ixAu7"
      },
      "execution_count": null,
      "outputs": []
    },
    {
      "cell_type": "code",
      "source": [
        "acf_1=plot_acf(passanger['Thousands of Passengers_1'].dropna())"
      ],
      "metadata": {
        "colab": {
          "base_uri": "https://localhost:8080/",
          "height": 281
        },
        "id": "QV1HYgNR-tZ7",
        "outputId": "18dd2e95-3cce-4b6c-eb34-64fc3dab1879"
      },
      "execution_count": null,
      "outputs": [
        {
          "output_type": "display_data",
          "data": {
            "text/plain": [
              "<Figure size 432x288 with 1 Axes>"
            ],
            "image/png": "[encoded data removed]"
          },
          "metadata": {
            "needs_background": "light"
          }
        }
      ]
    },
    {
      "cell_type": "code",
      "source": [
        "pacf_1=plot_pacf(passanger['Thousands of Passengers_1'].dropna())"
      ],
      "metadata": {
        "colab": {
          "base_uri": "https://localhost:8080/",
          "height": 281
        },
        "id": "jwBRp7vX_pUs",
        "outputId": "6634a00f-a073-46ba-b52b-341355a55868"
      },
      "execution_count": null,
      "outputs": [
        {
          "output_type": "display_data",
          "data": {
            "text/plain": [
              "<Figure size 432x288 with 1 Axes>"
            ],
            "image/png": "[encoded data removed]"
          },
          "metadata": {
            "needs_background": "light"
          }
        }
      ]
    },
    {
      "cell_type": "code",
      "source": [
        "acf_2=plot_acf(passanger['Thousands of Passengers_2'].dropna())"
      ],
      "metadata": {
        "colab": {
          "base_uri": "https://localhost:8080/",
          "height": 281
        },
        "id": "H3DTDBR0-26b",
        "outputId": "6e621786-487b-4f91-e7c6-44a1f63bf328"
      },
      "execution_count": null,
      "outputs": [
        {
          "output_type": "display_data",
          "data": {
            "text/plain": [
              "<Figure size 432x288 with 1 Axes>"
            ],
            "image/png": "[encoded data removed]"
          },
          "metadata": {
            "needs_background": "light"
          }
        }
      ]
    },
    {
      "cell_type": "code",
      "source": [
        "pacf_2=plot_pacf(passanger['Thousands of Passengers_2'].dropna())"
      ],
      "metadata": {
        "colab": {
          "base_uri": "https://localhost:8080/",
          "height": 336
        },
        "id": "whdrzXCH_5w2",
        "outputId": "b8bb2ff9-2c60-4d22-d5be-268941454c81"
      },
      "execution_count": null,
      "outputs": [
        {
          "output_type": "stream",
          "name": "stderr",
          "text": [
            "/usr/local/lib/python3.7/dist-packages/statsmodels/regression/linear_model.py:1434: RuntimeWarning: invalid value encountered in sqrt\n",
            "  return rho, np.sqrt(sigmasq)\n"
          ]
        },
        {
          "output_type": "display_data",
          "data": {
            "text/plain": [
              "<Figure size 432x288 with 1 Axes>"
            ],
            "image/png": "[encoded data removed]"
          },
          "metadata": {
            "needs_background": "light"
          }
        }
      ]
    },
    {
      "cell_type": "code",
      "source": [
        "acf_12=plot_acf(passanger['Thousands of Passengers_12'].dropna())"
      ],
      "metadata": {
        "colab": {
          "base_uri": "https://localhost:8080/",
          "height": 281
        },
        "id": "ktEGEzdT_Hzj",
        "outputId": "d7484401-b533-4e07-8153-29186c829205"
      },
      "execution_count": null,
      "outputs": [
        {
          "output_type": "display_data",
          "data": {
            "text/plain": [
              "<Figure size 432x288 with 1 Axes>"
            ],
            "image/png": "[encoded data removed]"
          },
          "metadata": {
            "needs_background": "light"
          }
        }
      ]
    },
    {
      "cell_type": "code",
      "source": [
        "pacf_12=plot_pacf(passanger['Thousands of Passengers_12'].dropna())"
      ],
      "metadata": {
        "colab": {
          "base_uri": "https://localhost:8080/",
          "height": 281
        },
        "id": "HdM8ycJt_MEv",
        "outputId": "a37cfcd8-f9fe-46a0-b2f2-6a29796966ed"
      },
      "execution_count": null,
      "outputs": [
        {
          "output_type": "display_data",
          "data": {
            "text/plain": [
              "<Figure size 432x288 with 1 Axes>"
            ],
            "image/png": "[encoded data removed]"
          },
          "metadata": {
            "needs_background": "light"
          }
        }
      ]
    },
    {
      "cell_type": "code",
      "source": [
        "from datetime import datetime,timedelta"
      ],
      "metadata": {
        "id": "PMeA2AmkAEIl"
      },
      "execution_count": null,
      "outputs": []
    },
    {
      "cell_type": "code",
      "source": [
        "train_dataset_end=datetime(1955,12,1)\n",
        "test_dataset_end=datetime(1960,12,1)"
      ],
      "metadata": {
        "id": "X68c52JtE21F"
      },
      "execution_count": null,
      "outputs": []
    },
    {
      "cell_type": "code",
      "source": [
        "train_dataset_end"
      ],
      "metadata": {
        "colab": {
          "base_uri": "https://localhost:8080/"
        },
        "id": "xU8MgPISFJTS",
        "outputId": "df3644d4-ff34-494a-e1f5-4ac2897527be"
      },
      "execution_count": null,
      "outputs": [
        {
          "output_type": "execute_result",
          "data": {
            "text/plain": [
              "datetime.datetime(1955, 12, 1, 0, 0)"
            ]
          },
          "metadata": {},
          "execution_count": 140
        }
      ]
    },
    {
      "cell_type": "code",
      "source": [
        "test_dataset_end"
      ],
      "metadata": {
        "colab": {
          "base_uri": "https://localhost:8080/"
        },
        "id": "A4A499Z-FLrS",
        "outputId": "1242ef3c-8a62-45ad-9bac-d03264aca3dd"
      },
      "execution_count": null,
      "outputs": [
        {
          "output_type": "execute_result",
          "data": {
            "text/plain": [
              "datetime.datetime(1960, 12, 1, 0, 0)"
            ]
          },
          "metadata": {},
          "execution_count": 141
        }
      ]
    },
    {
      "cell_type": "code",
      "source": [
        "train=passanger[:train_dataset_end]"
      ],
      "metadata": {
        "id": "HyW3Vi3wFR0n"
      },
      "execution_count": null,
      "outputs": []
    },
    {
      "cell_type": "code",
      "source": [
        "train"
      ],
      "metadata": {
        "colab": {
          "base_uri": "https://localhost:8080/",
          "height": 690
        },
        "id": "jaXnumDQFZho",
        "outputId": "ab75fb81-d77e-4e8a-aaa9-5a49ff4bce04"
      },
      "execution_count": null,
      "outputs": [
        {
          "output_type": "execute_result",
          "data": {
            "text/plain": [
              "            Thousands of Passengers  Thousands of Passengers_1  \\\n",
              "Month                                                            \n",
              "1949-01-01                    112.0                        NaN   \n",
              "1949-02-01                    118.0                        6.0   \n",
              "1949-03-01                    132.0                       14.0   \n",
              "1949-04-01                    129.0                       -3.0   \n",
              "1949-05-01                    121.0                       -8.0   \n",
              "...                             ...                        ...   \n",
              "1955-08-01                    347.0                      -17.0   \n",
              "1955-09-01                    312.0                      -35.0   \n",
              "1955-10-01                    274.0                      -38.0   \n",
              "1955-11-01                    237.0                      -37.0   \n",
              "1955-12-01                    278.0                       41.0   \n",
              "\n",
              "            Thousands of Passengers_2  Thousands of Passengers_12  \n",
              "Month                                                              \n",
              "1949-01-01                        NaN                         NaN  \n",
              "1949-02-01                        NaN                         NaN  \n",
              "1949-03-01                        8.0                         NaN  \n",
              "1949-04-01                      -17.0                         NaN  \n",
              "1949-05-01                       -5.0                         NaN  \n",
              "...                               ...                         ...  \n",
              "1955-08-01                      -66.0                        54.0  \n",
              "1955-09-01                      -18.0                        53.0  \n",
              "1955-10-01                       -3.0                        45.0  \n",
              "1955-11-01                        1.0                        34.0  \n",
              "1955-12-01                       78.0                        49.0  \n",
              "\n",
              "[84 rows x 4 columns]"
            ],
            "text/html": [
              "\n",
              "  <div id=\"df-9810321c-1bf8-4bc5-af14-13852985160b\">\n",
              "    <div class=\"colab-df-container\">\n",
              "      <div>\n",
              "<style scoped>\n",
              "    .dataframe tbody tr th:only-of-type {\n",
              "        vertical-align: middle;\n",
              "    }\n",
              "\n",
              "    .dataframe tbody tr th {\n",
              "        vertical-align: top;\n",
              "    }\n",
              "\n",
              "    .dataframe thead th {\n",
              "        text-align: right;\n",
              "    }\n",
              "</style>\n",
              "<table border=\"1\" class=\"dataframe\">\n",
              "  <thead>\n",
              "    <tr style=\"text-align: right;\">\n",
              "      <th></th>\n",
              "      <th>Thousands of Passengers</th>\n",
              "      <th>Thousands of Passengers_1</th>\n",
              "      <th>Thousands of Passengers_2</th>\n",
              "      <th>Thousands of Passengers_12</th>\n",
              "    </tr>\n",
              "    <tr>\n",
              "      <th>Month</th>\n",
              "      <th></th>\n",
              "      <th></th>\n",
              "      <th></th>\n",
              "      <th></th>\n",
              "    </tr>\n",
              "  </thead>\n",
              "  <tbody>\n",
              "    <tr>\n",
              "      <th>1949-01-01</th>\n",
              "      <td>112.0</td>\n",
              "      <td>NaN</td>\n",
              "      <td>NaN</td>\n",
              "      <td>NaN</td>\n",
              "    </tr>\n",
              "    <tr>\n",
              "      <th>1949-02-01</th>\n",
              "      <td>118.0</td>\n",
              "      <td>6.0</td>\n",
              "      <td>NaN</td>\n",
              "      <td>NaN</td>\n",
              "    </tr>\n",
              "    <tr>\n",
              "      <th>1949-03-01</th>\n",
              "      <td>132.0</td>\n",
              "      <td>14.0</td>\n",
              "      <td>8.0</td>\n",
              "      <td>NaN</td>\n",
              "    </tr>\n",
              "    <tr>\n",
              "      <th>1949-04-01</th>\n",
              "      <td>129.0</td>\n",
              "      <td>-3.0</td>\n",
              "      <td>-17.0</td>\n",
              "      <td>NaN</td>\n",
              "    </tr>\n",
              "    <tr>\n",
              "      <th>1949-05-01</th>\n",
              "      <td>121.0</td>\n",
              "      <td>-8.0</td>\n",
              "      <td>-5.0</td>\n",
              "      <td>NaN</td>\n",
              "    </tr>\n",
              "    <tr>\n",
              "      <th>...</th>\n",
              "      <td>...</td>\n",
              "      <td>...</td>\n",
              "      <td>...</td>\n",
              "      <td>...</td>\n",
              "    </tr>\n",
              "    <tr>\n",
              "      <th>1955-08-01</th>\n",
              "      <td>347.0</td>\n",
              "      <td>-17.0</td>\n",
              "      <td>-66.0</td>\n",
              "      <td>54.0</td>\n",
              "    </tr>\n",
              "    <tr>\n",
              "      <th>1955-09-01</th>\n",
              "      <td>312.0</td>\n",
              "      <td>-35.0</td>\n",
              "      <td>-18.0</td>\n",
              "      <td>53.0</td>\n",
              "    </tr>\n",
              "    <tr>\n",
              "      <th>1955-10-01</th>\n",
              "      <td>274.0</td>\n",
              "      <td>-38.0</td>\n",
              "      <td>-3.0</td>\n",
              "      <td>45.0</td>\n",
              "    </tr>\n",
              "    <tr>\n",
              "      <th>1955-11-01</th>\n",
              "      <td>237.0</td>\n",
              "      <td>-37.0</td>\n",
              "      <td>1.0</td>\n",
              "      <td>34.0</td>\n",
              "    </tr>\n",
              "    <tr>\n",
              "      <th>1955-12-01</th>\n",
              "      <td>278.0</td>\n",
              "      <td>41.0</td>\n",
              "      <td>78.0</td>\n",
              "      <td>49.0</td>\n",
              "    </tr>\n",
              "  </tbody>\n",
              "</table>\n",
              "<p>84 rows × 4 columns</p>\n",
              "</div>\n",
              "      <button class=\"colab-df-convert\" onclick=\"convertToInteractive('df-9810321c-1bf8-4bc5-af14-13852985160b')\"\n",
              "              title=\"Convert this dataframe to an interactive table.\"\n",
              "              style=\"display:none;\">\n",
              "        \n",
              "  <svg xmlns=\"http://www.w3.org/2000/svg\" height=\"24px\"viewBox=\"0 0 24 24\"\n",
              "       width=\"24px\">\n",
              "    <path d=\"M0 0h24v24H0V0z\" fill=\"none\"/>\n",
              "    <path d=\"M18.56 5.44l.94 2.06.94-2.06 2.06-.94-2.06-.94-.94-2.06-.94 2.06-2.06.94zm-11 1L8.5 8.5l.94-2.06 2.06-.94-2.06-.94L8.5 2.5l-.94 2.06-2.06.94zm10 10l.94 2.06.94-2.06 2.06-.94-2.06-.94-.94-2.06-.94 2.06-2.06.94z\"/><path d=\"M17.41 7.96l-1.37-1.37c-.4-.4-.92-.59-1.43-.59-.52 0-1.04.2-1.43.59L10.3 9.45l-7.72 7.72c-.78.78-.78 2.05 0 2.83L4 21.41c.39.39.9.59 1.41.59.51 0 1.02-.2 1.41-.59l7.78-7.78 2.81-2.81c.8-.78.8-2.07 0-2.86zM5.41 20L4 18.59l7.72-7.72 1.47 1.35L5.41 20z\"/>\n",
              "  </svg>\n",
              "      </button>\n",
              "      \n",
              "  <style>\n",
              "    .colab-df-container {\n",
              "      display:flex;\n",
              "      flex-wrap:wrap;\n",
              "      gap: 12px;\n",
              "    }\n",
              "\n",
              "    .colab-df-convert {\n",
              "      background-color: #E8F0FE;\n",
              "      border: none;\n",
              "      border-radius: 50%;\n",
              "      cursor: pointer;\n",
              "      display: none;\n",
              "      fill: #1967D2;\n",
              "      height: 32px;\n",
              "      padding: 0 0 0 0;\n",
              "      width: 32px;\n",
              "    }\n",
              "\n",
              "    .colab-df-convert:hover {\n",
              "      background-color: #E2EBFA;\n",
              "      box-shadow: 0px 1px 2px rgba(60, 64, 67, 0.3), 0px 1px 3px 1px rgba(60, 64, 67, 0.15);\n",
              "      fill: #174EA6;\n",
              "    }\n",
              "\n",
              "    [theme=dark] .colab-df-convert {\n",
              "      background-color: #3B4455;\n",
              "      fill: #D2E3FC;\n",
              "    }\n",
              "\n",
              "    [theme=dark] .colab-df-convert:hover {\n",
              "      background-color: #434B5C;\n",
              "      box-shadow: 0px 1px 3px 1px rgba(0, 0, 0, 0.15);\n",
              "      filter: drop-shadow(0px 1px 2px rgba(0, 0, 0, 0.3));\n",
              "      fill: #FFFFFF;\n",
              "    }\n",
              "  </style>\n",
              "\n",
              "      <script>\n",
              "        const buttonEl =\n",
              "          document.querySelector('#df-9810321c-1bf8-4bc5-af14-13852985160b button.colab-df-convert');\n",
              "        buttonEl.style.display =\n",
              "          google.colab.kernel.accessAllowed ? 'block' : 'none';\n",
              "\n",
              "        async function convertToInteractive(key) {\n",
              "          const element = document.querySelector('#df-9810321c-1bf8-4bc5-af14-13852985160b');\n",
              "          const dataTable =\n",
              "            await google.colab.kernel.invokeFunction('convertToInteractive',\n",
              "                                                     [key], {});\n",
              "          if (!dataTable) return;\n",
              "\n",
              "          const docLinkHtml = 'Like what you see? Visit the ' +\n",
              "            '<a target=\"_blank\" href=https://colab.research.google.com/notebooks/data_table.ipynb>data table notebook</a>'\n",
              "            + ' to learn more about interactive tables.';\n",
              "          element.innerHTML = '';\n",
              "          dataTable['output_type'] = 'display_data';\n",
              "          await google.colab.output.renderOutput(dataTable, element);\n",
              "          const docLink = document.createElement('div');\n",
              "          docLink.innerHTML = docLinkHtml;\n",
              "          element.appendChild(docLink);\n",
              "        }\n",
              "      </script>\n",
              "    </div>\n",
              "  </div>\n",
              "  "
            ]
          },
          "metadata": {},
          "execution_count": 143
        }
      ]
    },
    {
      "cell_type": "code",
      "source": [
        "test=passanger[train_dataset_end+timedelta(days=1):test_dataset_end]"
      ],
      "metadata": {
        "id": "z-sfdDsVFbPm"
      },
      "execution_count": null,
      "outputs": []
    },
    {
      "cell_type": "code",
      "source": [
        "test"
      ],
      "metadata": {
        "colab": {
          "base_uri": "https://localhost:8080/",
          "height": 1000
        },
        "id": "qHW632UgF-9C",
        "outputId": "2d8896be-2855-47d9-fc5f-208ed833309c"
      },
      "execution_count": null,
      "outputs": [
        {
          "output_type": "execute_result",
          "data": {
            "text/plain": [
              "            Thousands of Passengers  Thousands of Passengers_1  \\\n",
              "Month                                                            \n",
              "1956-01-01                    284.0                        6.0   \n",
              "1956-02-01                    277.0                       -7.0   \n",
              "1956-03-01                    317.0                       40.0   \n",
              "1956-04-01                    313.0                       -4.0   \n",
              "1956-05-01                    318.0                        5.0   \n",
              "1956-06-01                    374.0                       56.0   \n",
              "1956-07-01                    413.0                       39.0   \n",
              "1956-08-01                    405.0                       -8.0   \n",
              "1956-09-01                    355.0                      -50.0   \n",
              "1956-10-01                    306.0                      -49.0   \n",
              "1956-11-01                    271.0                      -35.0   \n",
              "1956-12-01                    306.0                       35.0   \n",
              "1957-01-01                    315.0                        9.0   \n",
              "1957-02-01                    301.0                      -14.0   \n",
              "1957-03-01                    356.0                       55.0   \n",
              "1957-04-01                    348.0                       -8.0   \n",
              "1957-05-01                    355.0                        7.0   \n",
              "1957-06-01                    422.0                       67.0   \n",
              "1957-07-01                    465.0                       43.0   \n",
              "1957-08-01                    467.0                        2.0   \n",
              "1957-09-01                    404.0                      -63.0   \n",
              "1957-10-01                    347.0                      -57.0   \n",
              "1957-11-01                    305.0                      -42.0   \n",
              "1957-12-01                    336.0                       31.0   \n",
              "1958-01-01                    340.0                        4.0   \n",
              "1958-02-01                    318.0                      -22.0   \n",
              "1958-03-01                    362.0                       44.0   \n",
              "1958-04-01                    348.0                      -14.0   \n",
              "1958-05-01                    363.0                       15.0   \n",
              "1958-06-01                    435.0                       72.0   \n",
              "1958-07-01                    491.0                       56.0   \n",
              "1958-08-01                    505.0                       14.0   \n",
              "1958-09-01                    404.0                     -101.0   \n",
              "1958-10-01                    359.0                      -45.0   \n",
              "1958-11-01                    310.0                      -49.0   \n",
              "1958-12-01                    337.0                       27.0   \n",
              "1959-01-01                    360.0                       23.0   \n",
              "1959-02-01                    342.0                      -18.0   \n",
              "1959-03-01                    406.0                       64.0   \n",
              "1959-04-01                    396.0                      -10.0   \n",
              "1959-05-01                    420.0                       24.0   \n",
              "1959-06-01                    472.0                       52.0   \n",
              "1959-07-01                    548.0                       76.0   \n",
              "1959-08-01                    559.0                       11.0   \n",
              "1959-09-01                    463.0                      -96.0   \n",
              "1959-10-01                    407.0                      -56.0   \n",
              "1959-11-01                    362.0                      -45.0   \n",
              "1959-12-01                    405.0                       43.0   \n",
              "1960-01-01                    417.0                       12.0   \n",
              "1960-02-01                    391.0                      -26.0   \n",
              "1960-03-01                    419.0                       28.0   \n",
              "1960-04-01                    461.0                       42.0   \n",
              "1960-05-01                    472.0                       11.0   \n",
              "1960-06-01                    535.0                       63.0   \n",
              "1960-07-01                    622.0                       87.0   \n",
              "1960-08-01                    606.0                      -16.0   \n",
              "1960-09-01                    508.0                      -98.0   \n",
              "1960-10-01                    461.0                      -47.0   \n",
              "1960-11-01                    390.0                      -71.0   \n",
              "1960-12-01                    432.0                       42.0   \n",
              "\n",
              "            Thousands of Passengers_2  Thousands of Passengers_12  \n",
              "Month                                                              \n",
              "1956-01-01                      -35.0                        42.0  \n",
              "1956-02-01                      -13.0                        44.0  \n",
              "1956-03-01                       47.0                        50.0  \n",
              "1956-04-01                      -44.0                        44.0  \n",
              "1956-05-01                        9.0                        48.0  \n",
              "1956-06-01                       51.0                        59.0  \n",
              "1956-07-01                      -17.0                        49.0  \n",
              "1956-08-01                      -47.0                        58.0  \n",
              "1956-09-01                      -42.0                        43.0  \n",
              "1956-10-01                        1.0                        32.0  \n",
              "1956-11-01                       14.0                        34.0  \n",
              "1956-12-01                       70.0                        28.0  \n",
              "1957-01-01                      -26.0                        31.0  \n",
              "1957-02-01                      -23.0                        24.0  \n",
              "1957-03-01                       69.0                        39.0  \n",
              "1957-04-01                      -63.0                        35.0  \n",
              "1957-05-01                       15.0                        37.0  \n",
              "1957-06-01                       60.0                        48.0  \n",
              "1957-07-01                      -24.0                        52.0  \n",
              "1957-08-01                      -41.0                        62.0  \n",
              "1957-09-01                      -65.0                        49.0  \n",
              "1957-10-01                        6.0                        41.0  \n",
              "1957-11-01                       15.0                        34.0  \n",
              "1957-12-01                       73.0                        30.0  \n",
              "1958-01-01                      -27.0                        25.0  \n",
              "1958-02-01                      -26.0                        17.0  \n",
              "1958-03-01                       66.0                         6.0  \n",
              "1958-04-01                      -58.0                         0.0  \n",
              "1958-05-01                       29.0                         8.0  \n",
              "1958-06-01                       57.0                        13.0  \n",
              "1958-07-01                      -16.0                        26.0  \n",
              "1958-08-01                      -42.0                        38.0  \n",
              "1958-09-01                     -115.0                         0.0  \n",
              "1958-10-01                       56.0                        12.0  \n",
              "1958-11-01                       -4.0                         5.0  \n",
              "1958-12-01                       76.0                         1.0  \n",
              "1959-01-01                       -4.0                        20.0  \n",
              "1959-02-01                      -41.0                        24.0  \n",
              "1959-03-01                       82.0                        44.0  \n",
              "1959-04-01                      -74.0                        48.0  \n",
              "1959-05-01                       34.0                        57.0  \n",
              "1959-06-01                       28.0                        37.0  \n",
              "1959-07-01                       24.0                        57.0  \n",
              "1959-08-01                      -65.0                        54.0  \n",
              "1959-09-01                     -107.0                        59.0  \n",
              "1959-10-01                       40.0                        48.0  \n",
              "1959-11-01                       11.0                        52.0  \n",
              "1959-12-01                       88.0                        68.0  \n",
              "1960-01-01                      -31.0                        57.0  \n",
              "1960-02-01                      -38.0                        49.0  \n",
              "1960-03-01                       54.0                        13.0  \n",
              "1960-04-01                       14.0                        65.0  \n",
              "1960-05-01                      -31.0                        52.0  \n",
              "1960-06-01                       52.0                        63.0  \n",
              "1960-07-01                       24.0                        74.0  \n",
              "1960-08-01                     -103.0                        47.0  \n",
              "1960-09-01                      -82.0                        45.0  \n",
              "1960-10-01                       51.0                        54.0  \n",
              "1960-11-01                      -24.0                        28.0  \n",
              "1960-12-01                      113.0                        27.0  "
            ],
            "text/html": [
              "\n",
              "  <div id=\"df-bdfe1606-4919-4aaa-aa15-b1c1947e0eac\">\n",
              "    <div class=\"colab-df-container\">\n",
              "      <div>\n",
              "<style scoped>\n",
              "    .dataframe tbody tr th:only-of-type {\n",
              "        vertical-align: middle;\n",
              "    }\n",
              "\n",
              "    .dataframe tbody tr th {\n",
              "        vertical-align: top;\n",
              "    }\n",
              "\n",
              "    .dataframe thead th {\n",
              "        text-align: right;\n",
              "    }\n",
              "</style>\n",
              "<table border=\"1\" class=\"dataframe\">\n",
              "  <thead>\n",
              "    <tr style=\"text-align: right;\">\n",
              "      <th></th>\n",
              "      <th>Thousands of Passengers</th>\n",
              "      <th>Thousands of Passengers_1</th>\n",
              "      <th>Thousands of Passengers_2</th>\n",
              "      <th>Thousands of Passengers_12</th>\n",
              "    </tr>\n",
              "    <tr>\n",
              "      <th>Month</th>\n",
              "      <th></th>\n",
              "      <th></th>\n",
              "      <th></th>\n",
              "      <th></th>\n",
              "    </tr>\n",
              "  </thead>\n",
              "  <tbody>\n",
              "    <tr>\n",
              "      <th>1956-01-01</th>\n",
              "      <td>284.0</td>\n",
              "      <td>6.0</td>\n",
              "      <td>-35.0</td>\n",
              "      <td>42.0</td>\n",
              "    </tr>\n",
              "    <tr>\n",
              "      <th>1956-02-01</th>\n",
              "      <td>277.0</td>\n",
              "      <td>-7.0</td>\n",
              "      <td>-13.0</td>\n",
              "      <td>44.0</td>\n",
              "    </tr>\n",
              "    <tr>\n",
              "      <th>1956-03-01</th>\n",
              "      <td>317.0</td>\n",
              "      <td>40.0</td>\n",
              "      <td>47.0</td>\n",
              "      <td>50.0</td>\n",
              "    </tr>\n",
              "    <tr>\n",
              "      <th>1956-04-01</th>\n",
              "      <td>313.0</td>\n",
              "      <td>-4.0</td>\n",
              "      <td>-44.0</td>\n",
              "      <td>44.0</td>\n",
              "    </tr>\n",
              "    <tr>\n",
              "      <th>1956-05-01</th>\n",
              "      <td>318.0</td>\n",
              "      <td>5.0</td>\n",
              "      <td>9.0</td>\n",
              "      <td>48.0</td>\n",
              "    </tr>\n",
              "    <tr>\n",
              "      <th>1956-06-01</th>\n",
              "      <td>374.0</td>\n",
              "      <td>56.0</td>\n",
              "      <td>51.0</td>\n",
              "      <td>59.0</td>\n",
              "    </tr>\n",
              "    <tr>\n",
              "      <th>1956-07-01</th>\n",
              "      <td>413.0</td>\n",
              "      <td>39.0</td>\n",
              "      <td>-17.0</td>\n",
              "      <td>49.0</td>\n",
              "    </tr>\n",
              "    <tr>\n",
              "      <th>1956-08-01</th>\n",
              "      <td>405.0</td>\n",
              "      <td>-8.0</td>\n",
              "      <td>-47.0</td>\n",
              "      <td>58.0</td>\n",
              "    </tr>\n",
              "    <tr>\n",
              "      <th>1956-09-01</th>\n",
              "      <td>355.0</td>\n",
              "      <td>-50.0</td>\n",
              "      <td>-42.0</td>\n",
              "      <td>43.0</td>\n",
              "    </tr>\n",
              "    <tr>\n",
              "      <th>1956-10-01</th>\n",
              "      <td>306.0</td>\n",
              "      <td>-49.0</td>\n",
              "      <td>1.0</td>\n",
              "      <td>32.0</td>\n",
              "    </tr>\n",
              "    <tr>\n",
              "      <th>1956-11-01</th>\n",
              "      <td>271.0</td>\n",
              "      <td>-35.0</td>\n",
              "      <td>14.0</td>\n",
              "      <td>34.0</td>\n",
              "    </tr>\n",
              "    <tr>\n",
              "      <th>1956-12-01</th>\n",
              "      <td>306.0</td>\n",
              "      <td>35.0</td>\n",
              "      <td>70.0</td>\n",
              "      <td>28.0</td>\n",
              "    </tr>\n",
              "    <tr>\n",
              "      <th>1957-01-01</th>\n",
              "      <td>315.0</td>\n",
              "      <td>9.0</td>\n",
              "      <td>-26.0</td>\n",
              "      <td>31.0</td>\n",
              "    </tr>\n",
              "    <tr>\n",
              "      <th>1957-02-01</th>\n",
              "      <td>301.0</td>\n",
              "      <td>-14.0</td>\n",
              "      <td>-23.0</td>\n",
              "      <td>24.0</td>\n",
              "    </tr>\n",
              "    <tr>\n",
              "      <th>1957-03-01</th>\n",
              "      <td>356.0</td>\n",
              "      <td>55.0</td>\n",
              "      <td>69.0</td>\n",
              "      <td>39.0</td>\n",
              "    </tr>\n",
              "    <tr>\n",
              "      <th>1957-04-01</th>\n",
              "      <td>348.0</td>\n",
              "      <td>-8.0</td>\n",
              "      <td>-63.0</td>\n",
              "      <td>35.0</td>\n",
              "    </tr>\n",
              "    <tr>\n",
              "      <th>1957-05-01</th>\n",
              "      <td>355.0</td>\n",
              "      <td>7.0</td>\n",
              "      <td>15.0</td>\n",
              "      <td>37.0</td>\n",
              "    </tr>\n",
              "    <tr>\n",
              "      <th>1957-06-01</th>\n",
              "      <td>422.0</td>\n",
              "      <td>67.0</td>\n",
              "      <td>60.0</td>\n",
              "      <td>48.0</td>\n",
              "    </tr>\n",
              "    <tr>\n",
              "      <th>1957-07-01</th>\n",
              "      <td>465.0</td>\n",
              "      <td>43.0</td>\n",
              "      <td>-24.0</td>\n",
              "      <td>52.0</td>\n",
              "    </tr>\n",
              "    <tr>\n",
              "      <th>1957-08-01</th>\n",
              "      <td>467.0</td>\n",
              "      <td>2.0</td>\n",
              "      <td>-41.0</td>\n",
              "      <td>62.0</td>\n",
              "    </tr>\n",
              "    <tr>\n",
              "      <th>1957-09-01</th>\n",
              "      <td>404.0</td>\n",
              "      <td>-63.0</td>\n",
              "      <td>-65.0</td>\n",
              "      <td>49.0</td>\n",
              "    </tr>\n",
              "    <tr>\n",
              "      <th>1957-10-01</th>\n",
              "      <td>347.0</td>\n",
              "      <td>-57.0</td>\n",
              "      <td>6.0</td>\n",
              "      <td>41.0</td>\n",
              "    </tr>\n",
              "    <tr>\n",
              "      <th>1957-11-01</th>\n",
              "      <td>305.0</td>\n",
              "      <td>-42.0</td>\n",
              "      <td>15.0</td>\n",
              "      <td>34.0</td>\n",
              "    </tr>\n",
              "    <tr>\n",
              "      <th>1957-12-01</th>\n",
              "      <td>336.0</td>\n",
              "      <td>31.0</td>\n",
              "      <td>73.0</td>\n",
              "      <td>30.0</td>\n",
              "    </tr>\n",
              "    <tr>\n",
              "      <th>1958-01-01</th>\n",
              "      <td>340.0</td>\n",
              "      <td>4.0</td>\n",
              "      <td>-27.0</td>\n",
              "      <td>25.0</td>\n",
              "    </tr>\n",
              "    <tr>\n",
              "      <th>1958-02-01</th>\n",
              "      <td>318.0</td>\n",
              "      <td>-22.0</td>\n",
              "      <td>-26.0</td>\n",
              "      <td>17.0</td>\n",
              "    </tr>\n",
              "    <tr>\n",
              "      <th>1958-03-01</th>\n",
              "      <td>362.0</td>\n",
              "      <td>44.0</td>\n",
              "      <td>66.0</td>\n",
              "      <td>6.0</td>\n",
              "    </tr>\n",
              "    <tr>\n",
              "      <th>1958-04-01</th>\n",
              "      <td>348.0</td>\n",
              "      <td>-14.0</td>\n",
              "      <td>-58.0</td>\n",
              "      <td>0.0</td>\n",
              "    </tr>\n",
              "    <tr>\n",
              "      <th>1958-05-01</th>\n",
              "      <td>363.0</td>\n",
              "      <td>15.0</td>\n",
              "      <td>29.0</td>\n",
              "      <td>8.0</td>\n",
              "    </tr>\n",
              "    <tr>\n",
              "      <th>1958-06-01</th>\n",
              "      <td>435.0</td>\n",
              "      <td>72.0</td>\n",
              "      <td>57.0</td>\n",
              "      <td>13.0</td>\n",
              "    </tr>\n",
              "    <tr>\n",
              "      <th>1958-07-01</th>\n",
              "      <td>491.0</td>\n",
              "      <td>56.0</td>\n",
              "      <td>-16.0</td>\n",
              "      <td>26.0</td>\n",
              "    </tr>\n",
              "    <tr>\n",
              "      <th>1958-08-01</th>\n",
              "      <td>505.0</td>\n",
              "      <td>14.0</td>\n",
              "      <td>-42.0</td>\n",
              "      <td>38.0</td>\n",
              "    </tr>\n",
              "    <tr>\n",
              "      <th>1958-09-01</th>\n",
              "      <td>404.0</td>\n",
              "      <td>-101.0</td>\n",
              "      <td>-115.0</td>\n",
              "      <td>0.0</td>\n",
              "    </tr>\n",
              "    <tr>\n",
              "      <th>1958-10-01</th>\n",
              "      <td>359.0</td>\n",
              "      <td>-45.0</td>\n",
              "      <td>56.0</td>\n",
              "      <td>12.0</td>\n",
              "    </tr>\n",
              "    <tr>\n",
              "      <th>1958-11-01</th>\n",
              "      <td>310.0</td>\n",
              "      <td>-49.0</td>\n",
              "      <td>-4.0</td>\n",
              "      <td>5.0</td>\n",
              "    </tr>\n",
              "    <tr>\n",
              "      <th>1958-12-01</th>\n",
              "      <td>337.0</td>\n",
              "      <td>27.0</td>\n",
              "      <td>76.0</td>\n",
              "      <td>1.0</td>\n",
              "    </tr>\n",
              "    <tr>\n",
              "      <th>1959-01-01</th>\n",
              "      <td>360.0</td>\n",
              "      <td>23.0</td>\n",
              "      <td>-4.0</td>\n",
              "      <td>20.0</td>\n",
              "    </tr>\n",
              "    <tr>\n",
              "      <th>1959-02-01</th>\n",
              "      <td>342.0</td>\n",
              "      <td>-18.0</td>\n",
              "      <td>-41.0</td>\n",
              "      <td>24.0</td>\n",
              "    </tr>\n",
              "    <tr>\n",
              "      <th>1959-03-01</th>\n",
              "      <td>406.0</td>\n",
              "      <td>64.0</td>\n",
              "      <td>82.0</td>\n",
              "      <td>44.0</td>\n",
              "    </tr>\n",
              "    <tr>\n",
              "      <th>1959-04-01</th>\n",
              "      <td>396.0</td>\n",
              "      <td>-10.0</td>\n",
              "      <td>-74.0</td>\n",
              "      <td>48.0</td>\n",
              "    </tr>\n",
              "    <tr>\n",
              "      <th>1959-05-01</th>\n",
              "      <td>420.0</td>\n",
              "      <td>24.0</td>\n",
              "      <td>34.0</td>\n",
              "      <td>57.0</td>\n",
              "    </tr>\n",
              "    <tr>\n",
              "      <th>1959-06-01</th>\n",
              "      <td>472.0</td>\n",
              "      <td>52.0</td>\n",
              "      <td>28.0</td>\n",
              "      <td>37.0</td>\n",
              "    </tr>\n",
              "    <tr>\n",
              "      <th>1959-07-01</th>\n",
              "      <td>548.0</td>\n",
              "      <td>76.0</td>\n",
              "      <td>24.0</td>\n",
              "      <td>57.0</td>\n",
              "    </tr>\n",
              "    <tr>\n",
              "      <th>1959-08-01</th>\n",
              "      <td>559.0</td>\n",
              "      <td>11.0</td>\n",
              "      <td>-65.0</td>\n",
              "      <td>54.0</td>\n",
              "    </tr>\n",
              "    <tr>\n",
              "      <th>1959-09-01</th>\n",
              "      <td>463.0</td>\n",
              "      <td>-96.0</td>\n",
              "      <td>-107.0</td>\n",
              "      <td>59.0</td>\n",
              "    </tr>\n",
              "    <tr>\n",
              "      <th>1959-10-01</th>\n",
              "      <td>407.0</td>\n",
              "      <td>-56.0</td>\n",
              "      <td>40.0</td>\n",
              "      <td>48.0</td>\n",
              "    </tr>\n",
              "    <tr>\n",
              "      <th>1959-11-01</th>\n",
              "      <td>362.0</td>\n",
              "      <td>-45.0</td>\n",
              "      <td>11.0</td>\n",
              "      <td>52.0</td>\n",
              "    </tr>\n",
              "    <tr>\n",
              "      <th>1959-12-01</th>\n",
              "      <td>405.0</td>\n",
              "      <td>43.0</td>\n",
              "      <td>88.0</td>\n",
              "      <td>68.0</td>\n",
              "    </tr>\n",
              "    <tr>\n",
              "      <th>1960-01-01</th>\n",
              "      <td>417.0</td>\n",
              "      <td>12.0</td>\n",
              "      <td>-31.0</td>\n",
              "      <td>57.0</td>\n",
              "    </tr>\n",
              "    <tr>\n",
              "      <th>1960-02-01</th>\n",
              "      <td>391.0</td>\n",
              "      <td>-26.0</td>\n",
              "      <td>-38.0</td>\n",
              "      <td>49.0</td>\n",
              "    </tr>\n",
              "    <tr>\n",
              "      <th>1960-03-01</th>\n",
              "      <td>419.0</td>\n",
              "      <td>28.0</td>\n",
              "      <td>54.0</td>\n",
              "      <td>13.0</td>\n",
              "    </tr>\n",
              "    <tr>\n",
              "      <th>1960-04-01</th>\n",
              "      <td>461.0</td>\n",
              "      <td>42.0</td>\n",
              "      <td>14.0</td>\n",
              "      <td>65.0</td>\n",
              "    </tr>\n",
              "    <tr>\n",
              "      <th>1960-05-01</th>\n",
              "      <td>472.0</td>\n",
              "      <td>11.0</td>\n",
              "      <td>-31.0</td>\n",
              "      <td>52.0</td>\n",
              "    </tr>\n",
              "    <tr>\n",
              "      <th>1960-06-01</th>\n",
              "      <td>535.0</td>\n",
              "      <td>63.0</td>\n",
              "      <td>52.0</td>\n",
              "      <td>63.0</td>\n",
              "    </tr>\n",
              "    <tr>\n",
              "      <th>1960-07-01</th>\n",
              "      <td>622.0</td>\n",
              "      <td>87.0</td>\n",
              "      <td>24.0</td>\n",
              "      <td>74.0</td>\n",
              "    </tr>\n",
              "    <tr>\n",
              "      <th>1960-08-01</th>\n",
              "      <td>606.0</td>\n",
              "      <td>-16.0</td>\n",
              "      <td>-103.0</td>\n",
              "      <td>47.0</td>\n",
              "    </tr>\n",
              "    <tr>\n",
              "      <th>1960-09-01</th>\n",
              "      <td>508.0</td>\n",
              "      <td>-98.0</td>\n",
              "      <td>-82.0</td>\n",
              "      <td>45.0</td>\n",
              "    </tr>\n",
              "    <tr>\n",
              "      <th>1960-10-01</th>\n",
              "      <td>461.0</td>\n",
              "      <td>-47.0</td>\n",
              "      <td>51.0</td>\n",
              "      <td>54.0</td>\n",
              "    </tr>\n",
              "    <tr>\n",
              "      <th>1960-11-01</th>\n",
              "      <td>390.0</td>\n",
              "      <td>-71.0</td>\n",
              "      <td>-24.0</td>\n",
              "      <td>28.0</td>\n",
              "    </tr>\n",
              "    <tr>\n",
              "      <th>1960-12-01</th>\n",
              "      <td>432.0</td>\n",
              "      <td>42.0</td>\n",
              "      <td>113.0</td>\n",
              "      <td>27.0</td>\n",
              "    </tr>\n",
              "  </tbody>\n",
              "</table>\n",
              "</div>\n",
              "      <button class=\"colab-df-convert\" onclick=\"convertToInteractive('df-bdfe1606-4919-4aaa-aa15-b1c1947e0eac')\"\n",
              "              title=\"Convert this dataframe to an interactive table.\"\n",
              "              style=\"display:none;\">\n",
              "        \n",
              "  <svg xmlns=\"http://www.w3.org/2000/svg\" height=\"24px\"viewBox=\"0 0 24 24\"\n",
              "       width=\"24px\">\n",
              "    <path d=\"M0 0h24v24H0V0z\" fill=\"none\"/>\n",
              "    <path d=\"M18.56 5.44l.94 2.06.94-2.06 2.06-.94-2.06-.94-.94-2.06-.94 2.06-2.06.94zm-11 1L8.5 8.5l.94-2.06 2.06-.94-2.06-.94L8.5 2.5l-.94 2.06-2.06.94zm10 10l.94 2.06.94-2.06 2.06-.94-2.06-.94-.94-2.06-.94 2.06-2.06.94z\"/><path d=\"M17.41 7.96l-1.37-1.37c-.4-.4-.92-.59-1.43-.59-.52 0-1.04.2-1.43.59L10.3 9.45l-7.72 7.72c-.78.78-.78 2.05 0 2.83L4 21.41c.39.39.9.59 1.41.59.51 0 1.02-.2 1.41-.59l7.78-7.78 2.81-2.81c.8-.78.8-2.07 0-2.86zM5.41 20L4 18.59l7.72-7.72 1.47 1.35L5.41 20z\"/>\n",
              "  </svg>\n",
              "      </button>\n",
              "      \n",
              "  <style>\n",
              "    .colab-df-container {\n",
              "      display:flex;\n",
              "      flex-wrap:wrap;\n",
              "      gap: 12px;\n",
              "    }\n",
              "\n",
              "    .colab-df-convert {\n",
              "      background-color: #E8F0FE;\n",
              "      border: none;\n",
              "      border-radius: 50%;\n",
              "      cursor: pointer;\n",
              "      display: none;\n",
              "      fill: #1967D2;\n",
              "      height: 32px;\n",
              "      padding: 0 0 0 0;\n",
              "      width: 32px;\n",
              "    }\n",
              "\n",
              "    .colab-df-convert:hover {\n",
              "      background-color: #E2EBFA;\n",
              "      box-shadow: 0px 1px 2px rgba(60, 64, 67, 0.3), 0px 1px 3px 1px rgba(60, 64, 67, 0.15);\n",
              "      fill: #174EA6;\n",
              "    }\n",
              "\n",
              "    [theme=dark] .colab-df-convert {\n",
              "      background-color: #3B4455;\n",
              "      fill: #D2E3FC;\n",
              "    }\n",
              "\n",
              "    [theme=dark] .colab-df-convert:hover {\n",
              "      background-color: #434B5C;\n",
              "      box-shadow: 0px 1px 3px 1px rgba(0, 0, 0, 0.15);\n",
              "      filter: drop-shadow(0px 1px 2px rgba(0, 0, 0, 0.3));\n",
              "      fill: #FFFFFF;\n",
              "    }\n",
              "  </style>\n",
              "\n",
              "      <script>\n",
              "        const buttonEl =\n",
              "          document.querySelector('#df-bdfe1606-4919-4aaa-aa15-b1c1947e0eac button.colab-df-convert');\n",
              "        buttonEl.style.display =\n",
              "          google.colab.kernel.accessAllowed ? 'block' : 'none';\n",
              "\n",
              "        async function convertToInteractive(key) {\n",
              "          const element = document.querySelector('#df-bdfe1606-4919-4aaa-aa15-b1c1947e0eac');\n",
              "          const dataTable =\n",
              "            await google.colab.kernel.invokeFunction('convertToInteractive',\n",
              "                                                     [key], {});\n",
              "          if (!dataTable) return;\n",
              "\n",
              "          const docLinkHtml = 'Like what you see? Visit the ' +\n",
              "            '<a target=\"_blank\" href=https://colab.research.google.com/notebooks/data_table.ipynb>data table notebook</a>'\n",
              "            + ' to learn more about interactive tables.';\n",
              "          element.innerHTML = '';\n",
              "          dataTable['output_type'] = 'display_data';\n",
              "          await google.colab.output.renderOutput(dataTable, element);\n",
              "          const docLink = document.createElement('div');\n",
              "          docLink.innerHTML = docLinkHtml;\n",
              "          element.appendChild(docLink);\n",
              "        }\n",
              "      </script>\n",
              "    </div>\n",
              "  </div>\n",
              "  "
            ]
          },
          "metadata": {},
          "execution_count": 147
        }
      ]
    },
    {
      "cell_type": "code",
      "source": [
        "pred_start_date=test.index[0]\n",
        "pred_start_date"
      ],
      "metadata": {
        "colab": {
          "base_uri": "https://localhost:8080/"
        },
        "id": "R54OoUY5GL5t",
        "outputId": "f4577591-5438-4e78-ab40-8d4a0b25f141"
      },
      "execution_count": null,
      "outputs": [
        {
          "output_type": "execute_result",
          "data": {
            "text/plain": [
              "Timestamp('1956-01-01 00:00:00')"
            ]
          },
          "metadata": {},
          "execution_count": 149
        }
      ]
    },
    {
      "cell_type": "code",
      "source": [
        "pred_end_date=test.index[-1]\n",
        "pred_end_date"
      ],
      "metadata": {
        "colab": {
          "base_uri": "https://localhost:8080/"
        },
        "id": "6MvL3qt6GfRz",
        "outputId": "515a55e7-0bbe-4908-9f97-faab7a954eb5"
      },
      "execution_count": null,
      "outputs": [
        {
          "output_type": "execute_result",
          "data": {
            "text/plain": [
              "Timestamp('1960-12-01 00:00:00')"
            ]
          },
          "metadata": {},
          "execution_count": 151
        }
      ]
    },
    {
      "cell_type": "code",
      "source": [
        "from statsmodels.tsa.arima_model import ARIMA"
      ],
      "metadata": {
        "id": "jifR3PoOG216"
      },
      "execution_count": null,
      "outputs": []
    },
    {
      "cell_type": "code",
      "source": [
        "model_ARIMA=ARIMA(train['Thousands of Passengers'],order=(10,2,0))"
      ],
      "metadata": {
        "id": "E4FjZD5PHILe"
      },
      "execution_count": null,
      "outputs": []
    },
    {
      "cell_type": "code",
      "source": [
        "model_ARIMA_fit=model_ARIMA.fit()"
      ],
      "metadata": {
        "id": "H8yCuyKVHtiH"
      },
      "execution_count": null,
      "outputs": []
    },
    {
      "cell_type": "code",
      "source": [
        "model_ARIMA_fit.summary()"
      ],
      "metadata": {
        "colab": {
          "base_uri": "https://localhost:8080/",
          "height": 699
        },
        "id": "PvoxiVBnIBLg",
        "outputId": "9624c371-b77e-4472-d598-6aca64d05c0d"
      },
      "execution_count": null,
      "outputs": [
        {
          "output_type": "execute_result",
          "data": {
            "text/plain": [
              "<class 'statsmodels.iolib.summary.Summary'>\n",
              "\"\"\"\n",
              "                                 ARIMA Model Results                                  \n",
              "======================================================================================\n",
              "Dep. Variable:     D2.Thousands of Passengers   No. Observations:                   82\n",
              "Model:                        ARIMA(10, 2, 0)   Log Likelihood                -357.239\n",
              "Method:                               css-mle   S.D. of innovations             18.333\n",
              "Date:                        Thu, 24 Nov 2022   AIC                            738.477\n",
              "Time:                                10:33:32   BIC                            767.358\n",
              "Sample:                            03-01-1949   HQIC                           750.072\n",
              "                                 - 12-01-1955                                         \n",
              "=====================================================================================================\n",
              "                                        coef    std err          z      P>|z|      [0.025      0.975]\n",
              "-----------------------------------------------------------------------------------------------------\n",
              "const                                 0.0164      0.347      0.047      0.962      -0.665       0.697\n",
              "ar.L1.D2.Thousands of Passengers     -0.5165      0.097     -5.300      0.000      -0.707      -0.325\n",
              "ar.L2.D2.Thousands of Passengers     -0.7203      0.108     -6.650      0.000      -0.933      -0.508\n",
              "ar.L3.D2.Thousands of Passengers     -0.4856      0.120     -4.032      0.000      -0.722      -0.250\n",
              "ar.L4.D2.Thousands of Passengers     -0.7506      0.131     -5.717      0.000      -1.008      -0.493\n",
              "ar.L5.D2.Thousands of Passengers     -0.5065      0.151     -3.360      0.001      -0.802      -0.211\n",
              "ar.L6.D2.Thousands of Passengers     -0.5204      0.149     -3.500      0.000      -0.812      -0.229\n",
              "ar.L7.D2.Thousands of Passengers     -0.3055      0.136     -2.250      0.024      -0.572      -0.039\n",
              "ar.L8.D2.Thousands of Passengers     -0.5943      0.125     -4.744      0.000      -0.840      -0.349\n",
              "ar.L9.D2.Thousands of Passengers     -0.2966      0.116     -2.556      0.011      -0.524      -0.069\n",
              "ar.L10.D2.Thousands of Passengers    -0.4826      0.101     -4.765      0.000      -0.681      -0.284\n",
              "                                    Roots                                     \n",
              "==============================================================================\n",
              "                   Real          Imaginary           Modulus         Frequency\n",
              "------------------------------------------------------------------------------\n",
              "AR.1             0.9098           -0.5670j            1.0720           -0.0887\n",
              "AR.2             0.9098           +0.5670j            1.0720            0.0887\n",
              "AR.3             0.4844           -0.9210j            1.0406           -0.1729\n",
              "AR.4             0.4844           +0.9210j            1.0406            0.1729\n",
              "AR.5            -0.9676           -0.4146j            1.0527           -0.4356\n",
              "AR.6            -0.9676           +0.4146j            1.0527            0.4356\n",
              "AR.7            -0.6004           -0.8889j            1.0726           -0.3445\n",
              "AR.8            -0.6004           +0.8889j            1.0726            0.3445\n",
              "AR.9            -0.1335           -1.1349j            1.1427           -0.2686\n",
              "AR.10           -0.1335           +1.1349j            1.1427            0.2686\n",
              "------------------------------------------------------------------------------\n",
              "\"\"\""
            ],
            "text/html": [
              "<table class=\"simpletable\">\n",
              "<caption>ARIMA Model Results</caption>\n",
              "<tr>\n",
              "  <th>Dep. Variable:</th> <td>D2.Thousands of Passengers</td> <th>  No. Observations:  </th>    <td>82</td>   \n",
              "</tr>\n",
              "<tr>\n",
              "  <th>Model:</th>               <td>ARIMA(10, 2, 0)</td>      <th>  Log Likelihood     </th> <td>-357.239</td>\n",
              "</tr>\n",
              "<tr>\n",
              "  <th>Method:</th>                  <td>css-mle</td>          <th>  S.D. of innovations</th>  <td>18.333</td> \n",
              "</tr>\n",
              "<tr>\n",
              "  <th>Date:</th>               <td>Thu, 24 Nov 2022</td>      <th>  AIC                </th>  <td>738.477</td>\n",
              "</tr>\n",
              "<tr>\n",
              "  <th>Time:</th>                   <td>10:33:32</td>          <th>  BIC                </th>  <td>767.358</td>\n",
              "</tr>\n",
              "<tr>\n",
              "  <th>Sample:</th>                <td>03-01-1949</td>         <th>  HQIC               </th>  <td>750.072</td>\n",
              "</tr>\n",
              "<tr>\n",
              "  <th></th>                      <td>- 12-01-1955</td>        <th>                     </th>     <td> </td>   \n",
              "</tr>\n",
              "</table>\n",
              "<table class=\"simpletable\">\n",
              "<tr>\n",
              "                  <td></td>                     <th>coef</th>     <th>std err</th>      <th>z</th>      <th>P>|z|</th>  <th>[0.025</th>    <th>0.975]</th>  \n",
              "</tr>\n",
              "<tr>\n",
              "  <th>const</th>                             <td>    0.0164</td> <td>    0.347</td> <td>    0.047</td> <td> 0.962</td> <td>   -0.665</td> <td>    0.697</td>\n",
              "</tr>\n",
              "<tr>\n",
              "  <th>ar.L1.D2.Thousands of Passengers</th>  <td>   -0.5165</td> <td>    0.097</td> <td>   -5.300</td> <td> 0.000</td> <td>   -0.707</td> <td>   -0.325</td>\n",
              "</tr>\n",
              "<tr>\n",
              "  <th>ar.L2.D2.Thousands of Passengers</th>  <td>   -0.7203</td> <td>    0.108</td> <td>   -6.650</td> <td> 0.000</td> <td>   -0.933</td> <td>   -0.508</td>\n",
              "</tr>\n",
              "<tr>\n",
              "  <th>ar.L3.D2.Thousands of Passengers</th>  <td>   -0.4856</td> <td>    0.120</td> <td>   -4.032</td> <td> 0.000</td> <td>   -0.722</td> <td>   -0.250</td>\n",
              "</tr>\n",
              "<tr>\n",
              "  <th>ar.L4.D2.Thousands of Passengers</th>  <td>   -0.7506</td> <td>    0.131</td> <td>   -5.717</td> <td> 0.000</td> <td>   -1.008</td> <td>   -0.493</td>\n",
              "</tr>\n",
              "<tr>\n",
              "  <th>ar.L5.D2.Thousands of Passengers</th>  <td>   -0.5065</td> <td>    0.151</td> <td>   -3.360</td> <td> 0.001</td> <td>   -0.802</td> <td>   -0.211</td>\n",
              "</tr>\n",
              "<tr>\n",
              "  <th>ar.L6.D2.Thousands of Passengers</th>  <td>   -0.5204</td> <td>    0.149</td> <td>   -3.500</td> <td> 0.000</td> <td>   -0.812</td> <td>   -0.229</td>\n",
              "</tr>\n",
              "<tr>\n",
              "  <th>ar.L7.D2.Thousands of Passengers</th>  <td>   -0.3055</td> <td>    0.136</td> <td>   -2.250</td> <td> 0.024</td> <td>   -0.572</td> <td>   -0.039</td>\n",
              "</tr>\n",
              "<tr>\n",
              "  <th>ar.L8.D2.Thousands of Passengers</th>  <td>   -0.5943</td> <td>    0.125</td> <td>   -4.744</td> <td> 0.000</td> <td>   -0.840</td> <td>   -0.349</td>\n",
              "</tr>\n",
              "<tr>\n",
              "  <th>ar.L9.D2.Thousands of Passengers</th>  <td>   -0.2966</td> <td>    0.116</td> <td>   -2.556</td> <td> 0.011</td> <td>   -0.524</td> <td>   -0.069</td>\n",
              "</tr>\n",
              "<tr>\n",
              "  <th>ar.L10.D2.Thousands of Passengers</th> <td>   -0.4826</td> <td>    0.101</td> <td>   -4.765</td> <td> 0.000</td> <td>   -0.681</td> <td>   -0.284</td>\n",
              "</tr>\n",
              "</table>\n",
              "<table class=\"simpletable\">\n",
              "<caption>Roots</caption>\n",
              "<tr>\n",
              "    <td></td>    <th>            Real</th>  <th>         Imaginary</th> <th>         Modulus</th>  <th>        Frequency</th>\n",
              "</tr>\n",
              "<tr>\n",
              "  <th>AR.1</th>  <td>           0.9098</td> <td>          -0.5670j</td> <td>           1.0720</td> <td>          -0.0887</td>\n",
              "</tr>\n",
              "<tr>\n",
              "  <th>AR.2</th>  <td>           0.9098</td> <td>          +0.5670j</td> <td>           1.0720</td> <td>           0.0887</td>\n",
              "</tr>\n",
              "<tr>\n",
              "  <th>AR.3</th>  <td>           0.4844</td> <td>          -0.9210j</td> <td>           1.0406</td> <td>          -0.1729</td>\n",
              "</tr>\n",
              "<tr>\n",
              "  <th>AR.4</th>  <td>           0.4844</td> <td>          +0.9210j</td> <td>           1.0406</td> <td>           0.1729</td>\n",
              "</tr>\n",
              "<tr>\n",
              "  <th>AR.5</th>  <td>          -0.9676</td> <td>          -0.4146j</td> <td>           1.0527</td> <td>          -0.4356</td>\n",
              "</tr>\n",
              "<tr>\n",
              "  <th>AR.6</th>  <td>          -0.9676</td> <td>          +0.4146j</td> <td>           1.0527</td> <td>           0.4356</td>\n",
              "</tr>\n",
              "<tr>\n",
              "  <th>AR.7</th>  <td>          -0.6004</td> <td>          -0.8889j</td> <td>           1.0726</td> <td>          -0.3445</td>\n",
              "</tr>\n",
              "<tr>\n",
              "  <th>AR.8</th>  <td>          -0.6004</td> <td>          +0.8889j</td> <td>           1.0726</td> <td>           0.3445</td>\n",
              "</tr>\n",
              "<tr>\n",
              "  <th>AR.9</th>  <td>          -0.1335</td> <td>          -1.1349j</td> <td>           1.1427</td> <td>          -0.2686</td>\n",
              "</tr>\n",
              "<tr>\n",
              "  <th>AR.10</th> <td>          -0.1335</td> <td>          +1.1349j</td> <td>           1.1427</td> <td>           0.2686</td>\n",
              "</tr>\n",
              "</table>"
            ]
          },
          "metadata": {},
          "execution_count": 178
        }
      ]
    },
    {
      "cell_type": "code",
      "source": [
        "pred=model_ARIMA_fit.predict(start=pred_start_date,end=pred_end_date)\n",
        "residuals=test['Thousands of Passengers']-pred"
      ],
      "metadata": {
        "colab": {
          "base_uri": "https://localhost:8080/"
        },
        "id": "fVTXCycsIIK9",
        "outputId": "d16bf3d6-24b6-41f5-9c79-92133d189919"
      },
      "execution_count": null,
      "outputs": [
        {
          "output_type": "stream",
          "name": "stderr",
          "text": [
            "/usr/local/lib/python3.7/dist-packages/statsmodels/tsa/base/tsa_model.py:132: FutureWarning: The 'freq' argument in Timestamp is deprecated and will be removed in a future version.\n",
            "  date_key = Timestamp(key, freq=base_index.freq)\n"
          ]
        }
      ]
    },
    {
      "cell_type": "code",
      "source": [
        "residuals"
      ],
      "metadata": {
        "colab": {
          "base_uri": "https://localhost:8080/"
        },
        "id": "VdShyWVmJDur",
        "outputId": "8fb7940f-5cd6-4dd0-af06-6ac12b7d1033"
      },
      "execution_count": null,
      "outputs": [
        {
          "output_type": "execute_result",
          "data": {
            "text/plain": [
              "Month\n",
              "1956-01-01    302.695968\n",
              "1956-02-01    289.830814\n",
              "1956-03-01    319.329670\n",
              "1956-04-01    328.562175\n",
              "1956-05-01    298.689307\n",
              "1956-06-01    354.352062\n",
              "1956-07-01    426.271470\n",
              "1956-08-01    441.529638\n",
              "1956-09-01    350.001340\n",
              "1956-10-01    315.913214\n",
              "1956-11-01    242.711491\n",
              "1956-12-01    281.647790\n",
              "1957-01-01    333.119981\n",
              "1957-02-01    304.741485\n",
              "1957-03-01    367.652378\n",
              "1957-04-01    343.198158\n",
              "1957-05-01    343.325720\n",
              "1957-06-01    413.019341\n",
              "1957-07-01    483.932109\n",
              "1957-08-01    477.557322\n",
              "1957-09-01    403.265275\n",
              "1957-10-01    346.226362\n",
              "1957-11-01    281.802342\n",
              "1957-12-01    337.112070\n",
              "1958-01-01    347.244820\n",
              "1958-02-01    325.413864\n",
              "1958-03-01    364.318087\n",
              "1958-04-01    341.830102\n",
              "1958-05-01    355.290646\n",
              "1958-06-01    435.056486\n",
              "1958-07-01    504.184604\n",
              "1958-08-01    505.771349\n",
              "1958-09-01    405.976038\n",
              "1958-10-01    350.193217\n",
              "1958-11-01    301.548547\n",
              "1958-12-01    341.117859\n",
              "1959-01-01    364.677818\n",
              "1959-02-01    347.031468\n",
              "1959-03-01    403.339730\n",
              "1959-04-01    392.149741\n",
              "1959-05-01    415.086069\n",
              "1959-06-01    477.071074\n",
              "1959-07-01    553.126395\n",
              "1959-08-01    559.484658\n",
              "1959-09-01    462.056159\n",
              "1959-10-01    399.681979\n",
              "1959-11-01    361.271108\n",
              "1959-12-01    407.556240\n",
              "1960-01-01    421.249825\n",
              "1960-02-01    391.671052\n",
              "1960-03-01    416.667436\n",
              "1960-04-01    457.847566\n",
              "1960-05-01    470.955140\n",
              "1960-06-01    539.473434\n",
              "1960-07-01    623.349819\n",
              "1960-08-01    606.615667\n",
              "1960-09-01    504.893947\n",
              "1960-10-01    458.035858\n",
              "1960-11-01    390.732256\n",
              "1960-12-01    434.251383\n",
              "dtype: float64"
            ]
          },
          "metadata": {},
          "execution_count": 180
        }
      ]
    },
    {
      "cell_type": "code",
      "source": [
        "model_ARIMA_fit.resid.plot(kind='kde')"
      ],
      "metadata": {
        "colab": {
          "base_uri": "https://localhost:8080/",
          "height": 286
        },
        "id": "uAySJ_2jJHMW",
        "outputId": "d22708ba-9b64-4af7-c04e-aa71af5a130e"
      },
      "execution_count": null,
      "outputs": [
        {
          "output_type": "execute_result",
          "data": {
            "text/plain": [
              "<matplotlib.axes._subplots.AxesSubplot at 0x7fae9143da90>"
            ]
          },
          "metadata": {},
          "execution_count": 181
        },
        {
          "output_type": "display_data",
          "data": {
            "text/plain": [
              "<Figure size 432x288 with 1 Axes>"
            ],
            "image/png": "[encoded data removed]"
          },
          "metadata": {
            "needs_background": "light"
          }
        }
      ]
    },
    {
      "cell_type": "code",
      "source": [
        "test['predicted_arima']=pred"
      ],
      "metadata": {
        "colab": {
          "base_uri": "https://localhost:8080/"
        },
        "id": "vHuugnJMJgla",
        "outputId": "15c0a058-6b99-48c6-b6e9-5b1a44797bc9"
      },
      "execution_count": null,
      "outputs": [
        {
          "output_type": "stream",
          "name": "stderr",
          "text": [
            "/usr/local/lib/python3.7/dist-packages/ipykernel_launcher.py:1: SettingWithCopyWarning: \n",
            "A value is trying to be set on a copy of a slice from a DataFrame.\n",
            "Try using .loc[row_indexer,col_indexer] = value instead\n",
            "\n",
            "See the caveats in the documentation: https://pandas.pydata.org/pandas-docs/stable/user_guide/indexing.html#returning-a-view-versus-a-copy\n",
            "  \"\"\"Entry point for launching an IPython kernel.\n"
          ]
        }
      ]
    },
    {
      "cell_type": "code",
      "source": [
        "test[['Thousands of Passengers','predicted_arima']].plot()"
      ],
      "metadata": {
        "colab": {
          "base_uri": "https://localhost:8080/",
          "height": 296
        },
        "id": "ZN6srG_RKNC-",
        "outputId": "21c79c7b-dc78-4aa6-9ec5-ab9b47f76367"
      },
      "execution_count": null,
      "outputs": [
        {
          "output_type": "execute_result",
          "data": {
            "text/plain": [
              "<matplotlib.axes._subplots.AxesSubplot at 0x7fae91834c10>"
            ]
          },
          "metadata": {},
          "execution_count": 183
        },
        {
          "output_type": "display_data",
          "data": {
            "text/plain": [
              "<Figure size 432x288 with 1 Axes>"
            ],
            "image/png": "[encoded data removed]"
          },
          "metadata": {
            "needs_background": "light"
          }
        }
      ]
    },
    {
      "cell_type": "code",
      "source": [
        "from statsmodels.tsa.statespace.sarimax import SARIMAX"
      ],
      "metadata": {
        "id": "PVELcPS_KaqS"
      },
      "execution_count": null,
      "outputs": []
    },
    {
      "cell_type": "code",
      "source": [
        "model_sarimax=SARIMAX(train['Thousands of Passengers'],order=(3,0,5),seasonal_order=(0,1,0,12))"
      ],
      "metadata": {
        "colab": {
          "base_uri": "https://localhost:8080/"
        },
        "id": "otOxUDaBNGUY",
        "outputId": "cbd1578c-4c6f-4725-f54b-9cccd7904d43"
      },
      "execution_count": null,
      "outputs": [
        {
          "output_type": "stream",
          "name": "stderr",
          "text": [
            "/usr/local/lib/python3.7/dist-packages/statsmodels/tsa/base/tsa_model.py:527: ValueWarning: No frequency information was provided, so inferred frequency MS will be used.\n",
            "  % freq, ValueWarning)\n"
          ]
        }
      ]
    },
    {
      "cell_type": "code",
      "source": [
        "model_sarimax_fit=model_sarimax.fit()"
      ],
      "metadata": {
        "colab": {
          "base_uri": "https://localhost:8080/"
        },
        "id": "NTJYRutSOnX4",
        "outputId": "eb39db2c-1400-4212-d9de-241335eb1cca"
      },
      "execution_count": null,
      "outputs": [
        {
          "output_type": "stream",
          "name": "stderr",
          "text": [
            "/usr/local/lib/python3.7/dist-packages/statsmodels/base/model.py:568: ConvergenceWarning: Maximum Likelihood optimization failed to converge. Check mle_retvals\n",
            "  ConvergenceWarning)\n"
          ]
        }
      ]
    },
    {
      "cell_type": "code",
      "source": [
        "model_sarimax_fit.summary()"
      ],
      "metadata": {
        "colab": {
          "base_uri": "https://localhost:8080/",
          "height": 558
        },
        "id": "rOqKps3oPVMb",
        "outputId": "6cec3a87-e7f2-48dc-8463-1a0f62a341db"
      },
      "execution_count": null,
      "outputs": [
        {
          "output_type": "execute_result",
          "data": {
            "text/plain": [
              "<class 'statsmodels.iolib.summary.Summary'>\n",
              "\"\"\"\n",
              "                                      SARIMAX Results                                      \n",
              "===========================================================================================\n",
              "Dep. Variable:             Thousands of Passengers   No. Observations:                   84\n",
              "Model:             SARIMAX(3, 0, 5)x(0, 1, [], 12)   Log Likelihood                -265.240\n",
              "Date:                             Thu, 24 Nov 2022   AIC                            548.479\n",
              "Time:                                     10:52:37   BIC                            568.969\n",
              "Sample:                                 01-01-1949   HQIC                           556.636\n",
              "                                      - 12-01-1955                                         \n",
              "Covariance Type:                               opg                                         \n",
              "==============================================================================\n",
              "                 coef    std err          z      P>|z|      [0.025      0.975]\n",
              "------------------------------------------------------------------------------\n",
              "ar.L1          0.5924      0.950      0.624      0.533      -1.269       2.454\n",
              "ar.L2          0.8319      0.232      3.593      0.000       0.378       1.286\n",
              "ar.L3         -0.4473      0.905     -0.495      0.621      -2.220       1.326\n",
              "ma.L1          0.1898      1.190      0.160      0.873      -2.142       2.521\n",
              "ma.L2         -0.5302      1.285     -0.413      0.680      -3.049       1.989\n",
              "ma.L3         -0.1004      0.391     -0.257      0.797      -0.867       0.666\n",
              "ma.L4         -0.1288      0.347     -0.371      0.711      -0.809       0.552\n",
              "ma.L5          0.2455      0.365      0.673      0.501      -0.469       0.960\n",
              "sigma2        87.7546     83.800      1.047      0.295     -76.491     252.000\n",
              "===================================================================================\n",
              "Ljung-Box (L1) (Q):                   0.02   Jarque-Bera (JB):                 2.67\n",
              "Prob(Q):                              0.88   Prob(JB):                         0.26\n",
              "Heteroskedasticity (H):               2.04   Skew:                             0.46\n",
              "Prob(H) (two-sided):                  0.09   Kurtosis:                         2.77\n",
              "===================================================================================\n",
              "\n",
              "Warnings:\n",
              "[1] Covariance matrix calculated using the outer product of gradients (complex-step).\n",
              "\"\"\""
            ],
            "text/html": [
              "<table class=\"simpletable\">\n",
              "<caption>SARIMAX Results</caption>\n",
              "<tr>\n",
              "  <th>Dep. Variable:</th>       <td>Thousands of Passengers</td>     <th>  No. Observations:  </th>    <td>84</td>   \n",
              "</tr>\n",
              "<tr>\n",
              "  <th>Model:</th>           <td>SARIMAX(3, 0, 5)x(0, 1, [], 12)</td> <th>  Log Likelihood     </th> <td>-265.240</td>\n",
              "</tr>\n",
              "<tr>\n",
              "  <th>Date:</th>                   <td>Thu, 24 Nov 2022</td>         <th>  AIC                </th>  <td>548.479</td>\n",
              "</tr>\n",
              "<tr>\n",
              "  <th>Time:</th>                       <td>10:52:37</td>             <th>  BIC                </th>  <td>568.969</td>\n",
              "</tr>\n",
              "<tr>\n",
              "  <th>Sample:</th>                    <td>01-01-1949</td>            <th>  HQIC               </th>  <td>556.636</td>\n",
              "</tr>\n",
              "<tr>\n",
              "  <th></th>                          <td>- 12-01-1955</td>           <th>                     </th>     <td> </td>   \n",
              "</tr>\n",
              "<tr>\n",
              "  <th>Covariance Type:</th>               <td>opg</td>               <th>                     </th>     <td> </td>   \n",
              "</tr>\n",
              "</table>\n",
              "<table class=\"simpletable\">\n",
              "<tr>\n",
              "     <td></td>       <th>coef</th>     <th>std err</th>      <th>z</th>      <th>P>|z|</th>  <th>[0.025</th>    <th>0.975]</th>  \n",
              "</tr>\n",
              "<tr>\n",
              "  <th>ar.L1</th>  <td>    0.5924</td> <td>    0.950</td> <td>    0.624</td> <td> 0.533</td> <td>   -1.269</td> <td>    2.454</td>\n",
              "</tr>\n",
              "<tr>\n",
              "  <th>ar.L2</th>  <td>    0.8319</td> <td>    0.232</td> <td>    3.593</td> <td> 0.000</td> <td>    0.378</td> <td>    1.286</td>\n",
              "</tr>\n",
              "<tr>\n",
              "  <th>ar.L3</th>  <td>   -0.4473</td> <td>    0.905</td> <td>   -0.495</td> <td> 0.621</td> <td>   -2.220</td> <td>    1.326</td>\n",
              "</tr>\n",
              "<tr>\n",
              "  <th>ma.L1</th>  <td>    0.1898</td> <td>    1.190</td> <td>    0.160</td> <td> 0.873</td> <td>   -2.142</td> <td>    2.521</td>\n",
              "</tr>\n",
              "<tr>\n",
              "  <th>ma.L2</th>  <td>   -0.5302</td> <td>    1.285</td> <td>   -0.413</td> <td> 0.680</td> <td>   -3.049</td> <td>    1.989</td>\n",
              "</tr>\n",
              "<tr>\n",
              "  <th>ma.L3</th>  <td>   -0.1004</td> <td>    0.391</td> <td>   -0.257</td> <td> 0.797</td> <td>   -0.867</td> <td>    0.666</td>\n",
              "</tr>\n",
              "<tr>\n",
              "  <th>ma.L4</th>  <td>   -0.1288</td> <td>    0.347</td> <td>   -0.371</td> <td> 0.711</td> <td>   -0.809</td> <td>    0.552</td>\n",
              "</tr>\n",
              "<tr>\n",
              "  <th>ma.L5</th>  <td>    0.2455</td> <td>    0.365</td> <td>    0.673</td> <td> 0.501</td> <td>   -0.469</td> <td>    0.960</td>\n",
              "</tr>\n",
              "<tr>\n",
              "  <th>sigma2</th> <td>   87.7546</td> <td>   83.800</td> <td>    1.047</td> <td> 0.295</td> <td>  -76.491</td> <td>  252.000</td>\n",
              "</tr>\n",
              "</table>\n",
              "<table class=\"simpletable\">\n",
              "<tr>\n",
              "  <th>Ljung-Box (L1) (Q):</th>     <td>0.02</td> <th>  Jarque-Bera (JB):  </th> <td>2.67</td>\n",
              "</tr>\n",
              "<tr>\n",
              "  <th>Prob(Q):</th>                <td>0.88</td> <th>  Prob(JB):          </th> <td>0.26</td>\n",
              "</tr>\n",
              "<tr>\n",
              "  <th>Heteroskedasticity (H):</th> <td>2.04</td> <th>  Skew:              </th> <td>0.46</td>\n",
              "</tr>\n",
              "<tr>\n",
              "  <th>Prob(H) (two-sided):</th>    <td>0.09</td> <th>  Kurtosis:          </th> <td>2.77</td>\n",
              "</tr>\n",
              "</table><br/><br/>Warnings:<br/>[1] Covariance matrix calculated using the outer product of gradients (complex-step)."
            ]
          },
          "metadata": {},
          "execution_count": 200
        }
      ]
    },
    {
      "cell_type": "code",
      "source": [
        "pred_sarima=model_ARIMA_fit.predict(start=pred_start_date,end=pred_end_date)\n",
        "residuals_sarima=test['Thousands of Passengers']-pred_sarima\n"
      ],
      "metadata": {
        "colab": {
          "base_uri": "https://localhost:8080/"
        },
        "id": "NdglHAZYPaCh",
        "outputId": "10909c27-f50d-47f3-d21a-f4407f3def19"
      },
      "execution_count": null,
      "outputs": [
        {
          "output_type": "stream",
          "name": "stderr",
          "text": [
            "/usr/local/lib/python3.7/dist-packages/statsmodels/tsa/base/tsa_model.py:132: FutureWarning: The 'freq' argument in Timestamp is deprecated and will be removed in a future version.\n",
            "  date_key = Timestamp(key, freq=base_index.freq)\n"
          ]
        }
      ]
    },
    {
      "cell_type": "code",
      "source": [
        "residuals_sarima"
      ],
      "metadata": {
        "colab": {
          "base_uri": "https://localhost:8080/"
        },
        "id": "XcJNsbsTPxOa",
        "outputId": "bc82e67d-ed37-4956-88d5-d5dec2338c1c"
      },
      "execution_count": null,
      "outputs": [
        {
          "output_type": "execute_result",
          "data": {
            "text/plain": [
              "Month\n",
              "1956-01-01    302.695968\n",
              "1956-02-01    289.830814\n",
              "1956-03-01    319.329670\n",
              "1956-04-01    328.562175\n",
              "1956-05-01    298.689307\n",
              "1956-06-01    354.352062\n",
              "1956-07-01    426.271470\n",
              "1956-08-01    441.529638\n",
              "1956-09-01    350.001340\n",
              "1956-10-01    315.913214\n",
              "1956-11-01    242.711491\n",
              "1956-12-01    281.647790\n",
              "1957-01-01    333.119981\n",
              "1957-02-01    304.741485\n",
              "1957-03-01    367.652378\n",
              "1957-04-01    343.198158\n",
              "1957-05-01    343.325720\n",
              "1957-06-01    413.019341\n",
              "1957-07-01    483.932109\n",
              "1957-08-01    477.557322\n",
              "1957-09-01    403.265275\n",
              "1957-10-01    346.226362\n",
              "1957-11-01    281.802342\n",
              "1957-12-01    337.112070\n",
              "1958-01-01    347.244820\n",
              "1958-02-01    325.413864\n",
              "1958-03-01    364.318087\n",
              "1958-04-01    341.830102\n",
              "1958-05-01    355.290646\n",
              "1958-06-01    435.056486\n",
              "1958-07-01    504.184604\n",
              "1958-08-01    505.771349\n",
              "1958-09-01    405.976038\n",
              "1958-10-01    350.193217\n",
              "1958-11-01    301.548547\n",
              "1958-12-01    341.117859\n",
              "1959-01-01    364.677818\n",
              "1959-02-01    347.031468\n",
              "1959-03-01    403.339730\n",
              "1959-04-01    392.149741\n",
              "1959-05-01    415.086069\n",
              "1959-06-01    477.071074\n",
              "1959-07-01    553.126395\n",
              "1959-08-01    559.484658\n",
              "1959-09-01    462.056159\n",
              "1959-10-01    399.681979\n",
              "1959-11-01    361.271108\n",
              "1959-12-01    407.556240\n",
              "1960-01-01    421.249825\n",
              "1960-02-01    391.671052\n",
              "1960-03-01    416.667436\n",
              "1960-04-01    457.847566\n",
              "1960-05-01    470.955140\n",
              "1960-06-01    539.473434\n",
              "1960-07-01    623.349819\n",
              "1960-08-01    606.615667\n",
              "1960-09-01    504.893947\n",
              "1960-10-01    458.035858\n",
              "1960-11-01    390.732256\n",
              "1960-12-01    434.251383\n",
              "dtype: float64"
            ]
          },
          "metadata": {},
          "execution_count": 202
        }
      ]
    },
    {
      "cell_type": "code",
      "source": [
        "model_sarimax_fit.resid.plot()"
      ],
      "metadata": {
        "colab": {
          "base_uri": "https://localhost:8080/",
          "height": 296
        },
        "id": "z0ogrvuwPy9M",
        "outputId": "08af0f1e-a22c-42d1-ad73-1e375388e815"
      },
      "execution_count": null,
      "outputs": [
        {
          "output_type": "execute_result",
          "data": {
            "text/plain": [
              "<matplotlib.axes._subplots.AxesSubplot at 0x7fae8e9a4690>"
            ]
          },
          "metadata": {},
          "execution_count": 203
        },
        {
          "output_type": "display_data",
          "data": {
            "text/plain": [
              "<Figure size 432x288 with 1 Axes>"
            ],
            "image/png": "[encoded data removed]"
          },
          "metadata": {
            "needs_background": "light"
          }
        }
      ]
    },
    {
      "cell_type": "code",
      "source": [
        "model_sarimax_fit.resid.plot(kind='kde')"
      ],
      "metadata": {
        "colab": {
          "base_uri": "https://localhost:8080/",
          "height": 282
        },
        "id": "J1sLEb8LP8HL",
        "outputId": "2aa62cde-94da-4948-8997-b5bd504bdd73"
      },
      "execution_count": null,
      "outputs": [
        {
          "output_type": "execute_result",
          "data": {
            "text/plain": [
              "<matplotlib.axes._subplots.AxesSubplot at 0x7fae8e8e48d0>"
            ]
          },
          "metadata": {},
          "execution_count": 204
        },
        {
          "output_type": "display_data",
          "data": {
            "text/plain": [
              "<Figure size 432x288 with 1 Axes>"
            ],
            "image/png": "[encoded data removed]"
          },
          "metadata": {
            "needs_background": "light"
          }
        }
      ]
    },
    {
      "cell_type": "code",
      "source": [
        "test['predicted_sarimax']=pred_sarima"
      ],
      "metadata": {
        "colab": {
          "base_uri": "https://localhost:8080/"
        },
        "id": "dhNFRDtiQ4Iz",
        "outputId": "ebbc2cb5-5185-402f-8f6d-de8b1ac493f1"
      },
      "execution_count": null,
      "outputs": [
        {
          "output_type": "stream",
          "name": "stderr",
          "text": [
            "/usr/local/lib/python3.7/dist-packages/ipykernel_launcher.py:1: SettingWithCopyWarning: \n",
            "A value is trying to be set on a copy of a slice from a DataFrame.\n",
            "Try using .loc[row_indexer,col_indexer] = value instead\n",
            "\n",
            "See the caveats in the documentation: https://pandas.pydata.org/pandas-docs/stable/user_guide/indexing.html#returning-a-view-versus-a-copy\n",
            "  \"\"\"Entry point for launching an IPython kernel.\n"
          ]
        }
      ]
    },
    {
      "cell_type": "code",
      "source": [
        "test[['Thousands of Passengers','predicted_arima','predicted_sarimax']].plot()"
      ],
      "metadata": {
        "colab": {
          "base_uri": "https://localhost:8080/",
          "height": 296
        },
        "id": "Sw0Ld4raQNra",
        "outputId": "198f38e3-8769-4b71-cd80-55ae33ab25d5"
      },
      "execution_count": null,
      "outputs": [
        {
          "output_type": "execute_result",
          "data": {
            "text/plain": [
              "<matplotlib.axes._subplots.AxesSubplot at 0x7fae8e859350>"
            ]
          },
          "metadata": {},
          "execution_count": 206
        },
        {
          "output_type": "display_data",
          "data": {
            "text/plain": [
              "<Figure size 432x288 with 1 Axes>"
            ],
            "image/png": "[encoded data removed]"
          },
          "metadata": {
            "needs_background": "light"
          }
        }
      ]
    },
    {
      "cell_type": "code",
      "source": [],
      "metadata": {
        "id": "89QBPO_7Qf1Q"
      },
      "execution_count": null,
      "outputs": []
    }
  ]
}