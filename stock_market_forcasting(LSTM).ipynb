{
  "nbformat": 4,
  "nbformat_minor": 0,
  "metadata": {
    "colab": {
      "provenance": []
    },
    "kernelspec": {
      "name": "python3",
      "display_name": "Python 3"
    },
    "language_info": {
      "name": "python"
    }
  },
  "cells": [
    {
      "cell_type": "code",
      "execution_count": null,
      "metadata": {
        "colab": {
          "base_uri": "https://localhost:8080/"
        },
        "id": "zMY6ulqR9bxG",
        "outputId": "4ee6780f-b025-48fe-a022-b0b7f892dcee"
      },
      "outputs": [
        {
          "output_type": "stream",
          "name": "stdout",
          "text": [
            "Looking in indexes: https://pypi.org/simple, https://us-python.pkg.dev/colab-wheels/public/simple/\n",
            "Collecting tensorflow-gpu\n",
            "  Downloading tensorflow_gpu-2.11.0-cp37-cp37m-manylinux_2_17_x86_64.manylinux2014_x86_64.whl (588.3 MB)\n",
            "\u001b[K     |████████████████████████████████| 588.3 MB 6.5 kB/s \n",
            "\u001b[?25hRequirement already satisfied: packaging in /usr/local/lib/python3.7/dist-packages (from tensorflow-gpu) (21.3)\n",
            "Requirement already satisfied: six>=1.12.0 in /usr/local/lib/python3.7/dist-packages (from tensorflow-gpu) (1.15.0)\n",
            "Requirement already satisfied: absl-py>=1.0.0 in /usr/local/lib/python3.7/dist-packages (from tensorflow-gpu) (1.3.0)\n",
            "Requirement already satisfied: setuptools in /usr/local/lib/python3.7/dist-packages (from tensorflow-gpu) (57.4.0)\n",
            "Requirement already satisfied: opt-einsum>=2.3.2 in /usr/local/lib/python3.7/dist-packages (from tensorflow-gpu) (3.3.0)\n",
            "Requirement already satisfied: astunparse>=1.6.0 in /usr/local/lib/python3.7/dist-packages (from tensorflow-gpu) (1.6.3)\n",
            "Collecting tensorboard<2.12,>=2.11\n",
            "  Downloading tensorboard-2.11.0-py3-none-any.whl (6.0 MB)\n",
            "\u001b[K     |████████████████████████████████| 6.0 MB 41.2 MB/s \n",
            "\u001b[?25hRequirement already satisfied: gast<=0.4.0,>=0.2.1 in /usr/local/lib/python3.7/dist-packages (from tensorflow-gpu) (0.4.0)\n",
            "Requirement already satisfied: numpy>=1.20 in /usr/local/lib/python3.7/dist-packages (from tensorflow-gpu) (1.21.6)\n",
            "Requirement already satisfied: h5py>=2.9.0 in /usr/local/lib/python3.7/dist-packages (from tensorflow-gpu) (3.1.0)\n",
            "Requirement already satisfied: libclang>=13.0.0 in /usr/local/lib/python3.7/dist-packages (from tensorflow-gpu) (14.0.6)\n",
            "Requirement already satisfied: typing-extensions>=3.6.6 in /usr/local/lib/python3.7/dist-packages (from tensorflow-gpu) (4.1.1)\n",
            "Requirement already satisfied: protobuf<3.20,>=3.9.2 in /usr/local/lib/python3.7/dist-packages (from tensorflow-gpu) (3.19.6)\n",
            "Requirement already satisfied: termcolor>=1.1.0 in /usr/local/lib/python3.7/dist-packages (from tensorflow-gpu) (2.1.0)\n",
            "Collecting keras<2.12,>=2.11.0\n",
            "  Downloading keras-2.11.0-py2.py3-none-any.whl (1.7 MB)\n",
            "\u001b[K     |████████████████████████████████| 1.7 MB 56.1 MB/s \n",
            "\u001b[?25hRequirement already satisfied: tensorflow-io-gcs-filesystem>=0.23.1 in /usr/local/lib/python3.7/dist-packages (from tensorflow-gpu) (0.27.0)\n",
            "Collecting tensorflow-estimator<2.12,>=2.11.0\n",
            "  Downloading tensorflow_estimator-2.11.0-py2.py3-none-any.whl (439 kB)\n",
            "\u001b[K     |████████████████████████████████| 439 kB 71.3 MB/s \n",
            "\u001b[?25hRequirement already satisfied: google-pasta>=0.1.1 in /usr/local/lib/python3.7/dist-packages (from tensorflow-gpu) (0.2.0)\n",
            "Requirement already satisfied: wrapt>=1.11.0 in /usr/local/lib/python3.7/dist-packages (from tensorflow-gpu) (1.14.1)\n",
            "Collecting flatbuffers>=2.0\n",
            "  Downloading flatbuffers-22.11.23-py2.py3-none-any.whl (26 kB)\n",
            "Requirement already satisfied: grpcio<2.0,>=1.24.3 in /usr/local/lib/python3.7/dist-packages (from tensorflow-gpu) (1.50.0)\n",
            "Requirement already satisfied: wheel<1.0,>=0.23.0 in /usr/local/lib/python3.7/dist-packages (from astunparse>=1.6.0->tensorflow-gpu) (0.38.4)\n",
            "Requirement already satisfied: cached-property in /usr/local/lib/python3.7/dist-packages (from h5py>=2.9.0->tensorflow-gpu) (1.5.2)\n",
            "Requirement already satisfied: werkzeug>=1.0.1 in /usr/local/lib/python3.7/dist-packages (from tensorboard<2.12,>=2.11->tensorflow-gpu) (1.0.1)\n",
            "Requirement already satisfied: google-auth<3,>=1.6.3 in /usr/local/lib/python3.7/dist-packages (from tensorboard<2.12,>=2.11->tensorflow-gpu) (2.14.1)\n",
            "Requirement already satisfied: tensorboard-plugin-wit>=1.6.0 in /usr/local/lib/python3.7/dist-packages (from tensorboard<2.12,>=2.11->tensorflow-gpu) (1.8.1)\n",
            "Requirement already satisfied: markdown>=2.6.8 in /usr/local/lib/python3.7/dist-packages (from tensorboard<2.12,>=2.11->tensorflow-gpu) (3.4.1)\n",
            "Requirement already satisfied: requests<3,>=2.21.0 in /usr/local/lib/python3.7/dist-packages (from tensorboard<2.12,>=2.11->tensorflow-gpu) (2.23.0)\n",
            "Requirement already satisfied: tensorboard-data-server<0.7.0,>=0.6.0 in /usr/local/lib/python3.7/dist-packages (from tensorboard<2.12,>=2.11->tensorflow-gpu) (0.6.1)\n",
            "Requirement already satisfied: google-auth-oauthlib<0.5,>=0.4.1 in /usr/local/lib/python3.7/dist-packages (from tensorboard<2.12,>=2.11->tensorflow-gpu) (0.4.6)\n",
            "Requirement already satisfied: pyasn1-modules>=0.2.1 in /usr/local/lib/python3.7/dist-packages (from google-auth<3,>=1.6.3->tensorboard<2.12,>=2.11->tensorflow-gpu) (0.2.8)\n",
            "Requirement already satisfied: cachetools<6.0,>=2.0.0 in /usr/local/lib/python3.7/dist-packages (from google-auth<3,>=1.6.3->tensorboard<2.12,>=2.11->tensorflow-gpu) (5.2.0)\n",
            "Requirement already satisfied: rsa<5,>=3.1.4 in /usr/local/lib/python3.7/dist-packages (from google-auth<3,>=1.6.3->tensorboard<2.12,>=2.11->tensorflow-gpu) (4.9)\n",
            "Requirement already satisfied: requests-oauthlib>=0.7.0 in /usr/local/lib/python3.7/dist-packages (from google-auth-oauthlib<0.5,>=0.4.1->tensorboard<2.12,>=2.11->tensorflow-gpu) (1.3.1)\n",
            "Requirement already satisfied: importlib-metadata>=4.4 in /usr/local/lib/python3.7/dist-packages (from markdown>=2.6.8->tensorboard<2.12,>=2.11->tensorflow-gpu) (4.13.0)\n",
            "Requirement already satisfied: zipp>=0.5 in /usr/local/lib/python3.7/dist-packages (from importlib-metadata>=4.4->markdown>=2.6.8->tensorboard<2.12,>=2.11->tensorflow-gpu) (3.10.0)\n",
            "Requirement already satisfied: pyasn1<0.5.0,>=0.4.6 in /usr/local/lib/python3.7/dist-packages (from pyasn1-modules>=0.2.1->google-auth<3,>=1.6.3->tensorboard<2.12,>=2.11->tensorflow-gpu) (0.4.8)\n",
            "Requirement already satisfied: certifi>=2017.4.17 in /usr/local/lib/python3.7/dist-packages (from requests<3,>=2.21.0->tensorboard<2.12,>=2.11->tensorflow-gpu) (2022.9.24)\n",
            "Requirement already satisfied: urllib3!=1.25.0,!=1.25.1,<1.26,>=1.21.1 in /usr/local/lib/python3.7/dist-packages (from requests<3,>=2.21.0->tensorboard<2.12,>=2.11->tensorflow-gpu) (1.24.3)\n",
            "Requirement already satisfied: chardet<4,>=3.0.2 in /usr/local/lib/python3.7/dist-packages (from requests<3,>=2.21.0->tensorboard<2.12,>=2.11->tensorflow-gpu) (3.0.4)\n",
            "Requirement already satisfied: idna<3,>=2.5 in /usr/local/lib/python3.7/dist-packages (from requests<3,>=2.21.0->tensorboard<2.12,>=2.11->tensorflow-gpu) (2.10)\n",
            "Requirement already satisfied: oauthlib>=3.0.0 in /usr/local/lib/python3.7/dist-packages (from requests-oauthlib>=0.7.0->google-auth-oauthlib<0.5,>=0.4.1->tensorboard<2.12,>=2.11->tensorflow-gpu) (3.2.2)\n",
            "Requirement already satisfied: pyparsing!=3.0.5,>=2.0.2 in /usr/local/lib/python3.7/dist-packages (from packaging->tensorflow-gpu) (3.0.9)\n",
            "Installing collected packages: tensorflow-estimator, tensorboard, keras, flatbuffers, tensorflow-gpu\n",
            "  Attempting uninstall: tensorflow-estimator\n",
            "    Found existing installation: tensorflow-estimator 2.9.0\n",
            "    Uninstalling tensorflow-estimator-2.9.0:\n",
            "      Successfully uninstalled tensorflow-estimator-2.9.0\n",
            "  Attempting uninstall: tensorboard\n",
            "    Found existing installation: tensorboard 2.9.1\n",
            "    Uninstalling tensorboard-2.9.1:\n",
            "      Successfully uninstalled tensorboard-2.9.1\n",
            "  Attempting uninstall: keras\n",
            "    Found existing installation: keras 2.9.0\n",
            "    Uninstalling keras-2.9.0:\n",
            "      Successfully uninstalled keras-2.9.0\n",
            "  Attempting uninstall: flatbuffers\n",
            "    Found existing installation: flatbuffers 1.12\n",
            "    Uninstalling flatbuffers-1.12:\n",
            "      Successfully uninstalled flatbuffers-1.12\n",
            "\u001b[31mERROR: pip's dependency resolver does not currently take into account all the packages that are installed. This behaviour is the source of the following dependency conflicts.\n",
            "tensorflow 2.9.2 requires flatbuffers<2,>=1.12, but you have flatbuffers 22.11.23 which is incompatible.\n",
            "tensorflow 2.9.2 requires keras<2.10.0,>=2.9.0rc0, but you have keras 2.11.0 which is incompatible.\n",
            "tensorflow 2.9.2 requires tensorboard<2.10,>=2.9, but you have tensorboard 2.11.0 which is incompatible.\n",
            "tensorflow 2.9.2 requires tensorflow-estimator<2.10.0,>=2.9.0rc0, but you have tensorflow-estimator 2.11.0 which is incompatible.\u001b[0m\n",
            "Successfully installed flatbuffers-22.11.23 keras-2.11.0 tensorboard-2.11.0 tensorflow-estimator-2.11.0 tensorflow-gpu-2.11.0\n"
          ]
        }
      ],
      "source": [
        "!pip install tensorflow-gpu"
      ]
    },
    {
      "cell_type": "code",
      "source": [
        "!pip install --upgrade pandas\n",
        "!pip install --upgrade pandas-datareader"
      ],
      "metadata": {
        "colab": {
          "base_uri": "https://localhost:8080/"
        },
        "id": "Yh4MqAqH-4b5",
        "outputId": "3f2d2a97-7055-4751-8570-e27c7640725e"
      },
      "execution_count": null,
      "outputs": [
        {
          "output_type": "stream",
          "name": "stdout",
          "text": [
            "Looking in indexes: https://pypi.org/simple, https://us-python.pkg.dev/colab-wheels/public/simple/\n",
            "Requirement already satisfied: pandas in /usr/local/lib/python3.7/dist-packages (1.3.5)\n",
            "Requirement already satisfied: pytz>=2017.3 in /usr/local/lib/python3.7/dist-packages (from pandas) (2022.6)\n",
            "Requirement already satisfied: python-dateutil>=2.7.3 in /usr/local/lib/python3.7/dist-packages (from pandas) (2.8.2)\n",
            "Requirement already satisfied: numpy>=1.17.3 in /usr/local/lib/python3.7/dist-packages (from pandas) (1.21.6)\n",
            "Requirement already satisfied: six>=1.5 in /usr/local/lib/python3.7/dist-packages (from python-dateutil>=2.7.3->pandas) (1.15.0)\n",
            "Looking in indexes: https://pypi.org/simple, https://us-python.pkg.dev/colab-wheels/public/simple/\n",
            "Requirement already satisfied: pandas-datareader in /usr/local/lib/python3.7/dist-packages (0.9.0)\n",
            "Collecting pandas-datareader\n",
            "  Downloading pandas_datareader-0.10.0-py3-none-any.whl (109 kB)\n",
            "\u001b[K     |████████████████████████████████| 109 kB 4.5 MB/s \n",
            "\u001b[?25hRequirement already satisfied: pandas>=0.23 in /usr/local/lib/python3.7/dist-packages (from pandas-datareader) (1.3.5)\n",
            "Requirement already satisfied: requests>=2.19.0 in /usr/local/lib/python3.7/dist-packages (from pandas-datareader) (2.23.0)\n",
            "Requirement already satisfied: lxml in /usr/local/lib/python3.7/dist-packages (from pandas-datareader) (4.9.1)\n",
            "Requirement already satisfied: numpy>=1.17.3 in /usr/local/lib/python3.7/dist-packages (from pandas>=0.23->pandas-datareader) (1.21.6)\n",
            "Requirement already satisfied: python-dateutil>=2.7.3 in /usr/local/lib/python3.7/dist-packages (from pandas>=0.23->pandas-datareader) (2.8.2)\n",
            "Requirement already satisfied: pytz>=2017.3 in /usr/local/lib/python3.7/dist-packages (from pandas>=0.23->pandas-datareader) (2022.6)\n",
            "Requirement already satisfied: six>=1.5 in /usr/local/lib/python3.7/dist-packages (from python-dateutil>=2.7.3->pandas>=0.23->pandas-datareader) (1.15.0)\n",
            "Requirement already satisfied: chardet<4,>=3.0.2 in /usr/local/lib/python3.7/dist-packages (from requests>=2.19.0->pandas-datareader) (3.0.4)\n",
            "Requirement already satisfied: idna<3,>=2.5 in /usr/local/lib/python3.7/dist-packages (from requests>=2.19.0->pandas-datareader) (2.10)\n",
            "Requirement already satisfied: urllib3!=1.25.0,!=1.25.1,<1.26,>=1.21.1 in /usr/local/lib/python3.7/dist-packages (from requests>=2.19.0->pandas-datareader) (1.24.3)\n",
            "Requirement already satisfied: certifi>=2017.4.17 in /usr/local/lib/python3.7/dist-packages (from requests>=2.19.0->pandas-datareader) (2022.9.24)\n",
            "Installing collected packages: pandas-datareader\n",
            "  Attempting uninstall: pandas-datareader\n",
            "    Found existing installation: pandas-datareader 0.9.0\n",
            "    Uninstalling pandas-datareader-0.9.0:\n",
            "      Successfully uninstalled pandas-datareader-0.9.0\n",
            "Successfully installed pandas-datareader-0.10.0\n"
          ]
        }
      ]
    },
    {
      "cell_type": "code",
      "source": [
        "import pandas_datareader.data as web\n",
        "import pandas as pd\n",
        "from datetime import datetime\n"
      ],
      "metadata": {
        "id": "pD2f1jF99zhk"
      },
      "execution_count": null,
      "outputs": []
    },
    {
      "cell_type": "code",
      "source": [
        "data=web.get_data_yahoo('MSFT')"
      ],
      "metadata": {
        "id": "nwr1BNO7-1a3"
      },
      "execution_count": null,
      "outputs": []
    },
    {
      "cell_type": "code",
      "source": [
        "data"
      ],
      "metadata": {
        "colab": {
          "base_uri": "https://localhost:8080/",
          "height": 455
        },
        "id": "V0r1xytc_KSe",
        "outputId": "824f3658-925b-4647-9a82-35210783f752"
      },
      "execution_count": null,
      "outputs": [
        {
          "output_type": "execute_result",
          "data": {
            "text/plain": [
              "                  High         Low        Open       Close      Volume  \\\n",
              "Date                                                                     \n",
              "2017-11-27   83.980003   83.300003   83.309998   83.870003  18265200.0   \n",
              "2017-11-28   85.059998   84.019997   84.070000   84.879997  21926000.0   \n",
              "2017-11-29   84.919998   83.180000   84.709999   83.339996  27381100.0   \n",
              "2017-11-30   84.519997   83.339996   83.510002   84.169998  33054600.0   \n",
              "2017-12-01   84.809998   83.220001   83.599998   84.260002  29532100.0   \n",
              "...                ...         ...         ...         ...         ...   \n",
              "2022-11-18  243.740005  239.029999  243.509995  241.220001  27591800.0   \n",
              "2022-11-21  244.669998  241.190002  241.429993  242.050003  26394700.0   \n",
              "2022-11-22  245.309998  240.710007  243.589996  245.029999  19665700.0   \n",
              "2022-11-23  248.279999  244.270004  245.110001  247.580002  19508500.0   \n",
              "2022-11-25  248.699997  246.729996  247.309998  247.490005   9200800.0   \n",
              "\n",
              "             Adj Close  \n",
              "Date                    \n",
              "2017-11-27   78.981621  \n",
              "2017-11-28   79.932762  \n",
              "2017-11-29   78.482529  \n",
              "2017-11-30   79.264122  \n",
              "2017-12-01   79.348915  \n",
              "...                ...  \n",
              "2022-11-18  241.220001  \n",
              "2022-11-21  242.050003  \n",
              "2022-11-22  245.029999  \n",
              "2022-11-23  247.580002  \n",
              "2022-11-25  247.490005  \n",
              "\n",
              "[1259 rows x 6 columns]"
            ],
            "text/html": [
              "\n",
              "  <div id=\"df-f65d1e90-5662-4f0c-b30d-fa3a3833d439\">\n",
              "    <div class=\"colab-df-container\">\n",
              "      <div>\n",
              "<style scoped>\n",
              "    .dataframe tbody tr th:only-of-type {\n",
              "        vertical-align: middle;\n",
              "    }\n",
              "\n",
              "    .dataframe tbody tr th {\n",
              "        vertical-align: top;\n",
              "    }\n",
              "\n",
              "    .dataframe thead th {\n",
              "        text-align: right;\n",
              "    }\n",
              "</style>\n",
              "<table border=\"1\" class=\"dataframe\">\n",
              "  <thead>\n",
              "    <tr style=\"text-align: right;\">\n",
              "      <th></th>\n",
              "      <th>High</th>\n",
              "      <th>Low</th>\n",
              "      <th>Open</th>\n",
              "      <th>Close</th>\n",
              "      <th>Volume</th>\n",
              "      <th>Adj Close</th>\n",
              "    </tr>\n",
              "    <tr>\n",
              "      <th>Date</th>\n",
              "      <th></th>\n",
              "      <th></th>\n",
              "      <th></th>\n",
              "      <th></th>\n",
              "      <th></th>\n",
              "      <th></th>\n",
              "    </tr>\n",
              "  </thead>\n",
              "  <tbody>\n",
              "    <tr>\n",
              "      <th>2017-11-27</th>\n",
              "      <td>83.980003</td>\n",
              "      <td>83.300003</td>\n",
              "      <td>83.309998</td>\n",
              "      <td>83.870003</td>\n",
              "      <td>18265200.0</td>\n",
              "      <td>78.981621</td>\n",
              "    </tr>\n",
              "    <tr>\n",
              "      <th>2017-11-28</th>\n",
              "      <td>85.059998</td>\n",
              "      <td>84.019997</td>\n",
              "      <td>84.070000</td>\n",
              "      <td>84.879997</td>\n",
              "      <td>21926000.0</td>\n",
              "      <td>79.932762</td>\n",
              "    </tr>\n",
              "    <tr>\n",
              "      <th>2017-11-29</th>\n",
              "      <td>84.919998</td>\n",
              "      <td>83.180000</td>\n",
              "      <td>84.709999</td>\n",
              "      <td>83.339996</td>\n",
              "      <td>27381100.0</td>\n",
              "      <td>78.482529</td>\n",
              "    </tr>\n",
              "    <tr>\n",
              "      <th>2017-11-30</th>\n",
              "      <td>84.519997</td>\n",
              "      <td>83.339996</td>\n",
              "      <td>83.510002</td>\n",
              "      <td>84.169998</td>\n",
              "      <td>33054600.0</td>\n",
              "      <td>79.264122</td>\n",
              "    </tr>\n",
              "    <tr>\n",
              "      <th>2017-12-01</th>\n",
              "      <td>84.809998</td>\n",
              "      <td>83.220001</td>\n",
              "      <td>83.599998</td>\n",
              "      <td>84.260002</td>\n",
              "      <td>29532100.0</td>\n",
              "      <td>79.348915</td>\n",
              "    </tr>\n",
              "    <tr>\n",
              "      <th>...</th>\n",
              "      <td>...</td>\n",
              "      <td>...</td>\n",
              "      <td>...</td>\n",
              "      <td>...</td>\n",
              "      <td>...</td>\n",
              "      <td>...</td>\n",
              "    </tr>\n",
              "    <tr>\n",
              "      <th>2022-11-18</th>\n",
              "      <td>243.740005</td>\n",
              "      <td>239.029999</td>\n",
              "      <td>243.509995</td>\n",
              "      <td>241.220001</td>\n",
              "      <td>27591800.0</td>\n",
              "      <td>241.220001</td>\n",
              "    </tr>\n",
              "    <tr>\n",
              "      <th>2022-11-21</th>\n",
              "      <td>244.669998</td>\n",
              "      <td>241.190002</td>\n",
              "      <td>241.429993</td>\n",
              "      <td>242.050003</td>\n",
              "      <td>26394700.0</td>\n",
              "      <td>242.050003</td>\n",
              "    </tr>\n",
              "    <tr>\n",
              "      <th>2022-11-22</th>\n",
              "      <td>245.309998</td>\n",
              "      <td>240.710007</td>\n",
              "      <td>243.589996</td>\n",
              "      <td>245.029999</td>\n",
              "      <td>19665700.0</td>\n",
              "      <td>245.029999</td>\n",
              "    </tr>\n",
              "    <tr>\n",
              "      <th>2022-11-23</th>\n",
              "      <td>248.279999</td>\n",
              "      <td>244.270004</td>\n",
              "      <td>245.110001</td>\n",
              "      <td>247.580002</td>\n",
              "      <td>19508500.0</td>\n",
              "      <td>247.580002</td>\n",
              "    </tr>\n",
              "    <tr>\n",
              "      <th>2022-11-25</th>\n",
              "      <td>248.699997</td>\n",
              "      <td>246.729996</td>\n",
              "      <td>247.309998</td>\n",
              "      <td>247.490005</td>\n",
              "      <td>9200800.0</td>\n",
              "      <td>247.490005</td>\n",
              "    </tr>\n",
              "  </tbody>\n",
              "</table>\n",
              "<p>1259 rows × 6 columns</p>\n",
              "</div>\n",
              "      <button class=\"colab-df-convert\" onclick=\"convertToInteractive('df-f65d1e90-5662-4f0c-b30d-fa3a3833d439')\"\n",
              "              title=\"Convert this dataframe to an interactive table.\"\n",
              "              style=\"display:none;\">\n",
              "        \n",
              "  <svg xmlns=\"http://www.w3.org/2000/svg\" height=\"24px\"viewBox=\"0 0 24 24\"\n",
              "       width=\"24px\">\n",
              "    <path d=\"M0 0h24v24H0V0z\" fill=\"none\"/>\n",
              "    <path d=\"M18.56 5.44l.94 2.06.94-2.06 2.06-.94-2.06-.94-.94-2.06-.94 2.06-2.06.94zm-11 1L8.5 8.5l.94-2.06 2.06-.94-2.06-.94L8.5 2.5l-.94 2.06-2.06.94zm10 10l.94 2.06.94-2.06 2.06-.94-2.06-.94-.94-2.06-.94 2.06-2.06.94z\"/><path d=\"M17.41 7.96l-1.37-1.37c-.4-.4-.92-.59-1.43-.59-.52 0-1.04.2-1.43.59L10.3 9.45l-7.72 7.72c-.78.78-.78 2.05 0 2.83L4 21.41c.39.39.9.59 1.41.59.51 0 1.02-.2 1.41-.59l7.78-7.78 2.81-2.81c.8-.78.8-2.07 0-2.86zM5.41 20L4 18.59l7.72-7.72 1.47 1.35L5.41 20z\"/>\n",
              "  </svg>\n",
              "      </button>\n",
              "      \n",
              "  <style>\n",
              "    .colab-df-container {\n",
              "      display:flex;\n",
              "      flex-wrap:wrap;\n",
              "      gap: 12px;\n",
              "    }\n",
              "\n",
              "    .colab-df-convert {\n",
              "      background-color: #E8F0FE;\n",
              "      border: none;\n",
              "      border-radius: 50%;\n",
              "      cursor: pointer;\n",
              "      display: none;\n",
              "      fill: #1967D2;\n",
              "      height: 32px;\n",
              "      padding: 0 0 0 0;\n",
              "      width: 32px;\n",
              "    }\n",
              "\n",
              "    .colab-df-convert:hover {\n",
              "      background-color: #E2EBFA;\n",
              "      box-shadow: 0px 1px 2px rgba(60, 64, 67, 0.3), 0px 1px 3px 1px rgba(60, 64, 67, 0.15);\n",
              "      fill: #174EA6;\n",
              "    }\n",
              "\n",
              "    [theme=dark] .colab-df-convert {\n",
              "      background-color: #3B4455;\n",
              "      fill: #D2E3FC;\n",
              "    }\n",
              "\n",
              "    [theme=dark] .colab-df-convert:hover {\n",
              "      background-color: #434B5C;\n",
              "      box-shadow: 0px 1px 3px 1px rgba(0, 0, 0, 0.15);\n",
              "      filter: drop-shadow(0px 1px 2px rgba(0, 0, 0, 0.3));\n",
              "      fill: #FFFFFF;\n",
              "    }\n",
              "  </style>\n",
              "\n",
              "      <script>\n",
              "        const buttonEl =\n",
              "          document.querySelector('#df-f65d1e90-5662-4f0c-b30d-fa3a3833d439 button.colab-df-convert');\n",
              "        buttonEl.style.display =\n",
              "          google.colab.kernel.accessAllowed ? 'block' : 'none';\n",
              "\n",
              "        async function convertToInteractive(key) {\n",
              "          const element = document.querySelector('#df-f65d1e90-5662-4f0c-b30d-fa3a3833d439');\n",
              "          const dataTable =\n",
              "            await google.colab.kernel.invokeFunction('convertToInteractive',\n",
              "                                                     [key], {});\n",
              "          if (!dataTable) return;\n",
              "\n",
              "          const docLinkHtml = 'Like what you see? Visit the ' +\n",
              "            '<a target=\"_blank\" href=https://colab.research.google.com/notebooks/data_table.ipynb>data table notebook</a>'\n",
              "            + ' to learn more about interactive tables.';\n",
              "          element.innerHTML = '';\n",
              "          dataTable['output_type'] = 'display_data';\n",
              "          await google.colab.output.renderOutput(dataTable, element);\n",
              "          const docLink = document.createElement('div');\n",
              "          docLink.innerHTML = docLinkHtml;\n",
              "          element.appendChild(docLink);\n",
              "        }\n",
              "      </script>\n",
              "    </div>\n",
              "  </div>\n",
              "  "
            ]
          },
          "metadata": {},
          "execution_count": 156
        }
      ]
    },
    {
      "cell_type": "code",
      "source": [
        "data1=data.reset_index()['Close']"
      ],
      "metadata": {
        "id": "sxyJ6-9B_YYD"
      },
      "execution_count": null,
      "outputs": []
    },
    {
      "cell_type": "code",
      "source": [
        "data1"
      ],
      "metadata": {
        "colab": {
          "base_uri": "https://localhost:8080/"
        },
        "id": "qAYzndWm_pa2",
        "outputId": "5ff3f3b0-00f6-41b9-b39b-2f11a0618f86"
      },
      "execution_count": null,
      "outputs": [
        {
          "output_type": "execute_result",
          "data": {
            "text/plain": [
              "0        83.870003\n",
              "1        84.879997\n",
              "2        83.339996\n",
              "3        84.169998\n",
              "4        84.260002\n",
              "           ...    \n",
              "1254    241.220001\n",
              "1255    242.050003\n",
              "1256    245.029999\n",
              "1257    247.580002\n",
              "1258    247.490005\n",
              "Name: Close, Length: 1259, dtype: float64"
            ]
          },
          "metadata": {},
          "execution_count": 158
        }
      ]
    },
    {
      "cell_type": "code",
      "source": [
        "data1.plot(figsize=(15,6))"
      ],
      "metadata": {
        "colab": {
          "base_uri": "https://localhost:8080/",
          "height": 391
        },
        "id": "eZKd-nsnARQD",
        "outputId": "90745eaf-b73c-455d-d5ea-669b83f5ebd3"
      },
      "execution_count": null,
      "outputs": [
        {
          "output_type": "execute_result",
          "data": {
            "text/plain": [
              "<matplotlib.axes._subplots.AxesSubplot at 0x7f8829c90c10>"
            ]
          },
          "metadata": {},
          "execution_count": 159
        },
        {
          "output_type": "display_data",
          "data": {
            "text/plain": [
              "<Figure size 1080x432 with 1 Axes>"
            ],
            "image/png": "[encoded data removed]"
          },
          "metadata": {
            "needs_background": "light"
          }
        }
      ]
    },
    {
      "cell_type": "code",
      "source": [
        "### LSTM are sensitive to the scale of data ,apply minmax or standard sclar"
      ],
      "metadata": {
        "id": "UmFXMiFnDEOA"
      },
      "execution_count": null,
      "outputs": []
    },
    {
      "cell_type": "code",
      "source": [
        "import numpy as np\n"
      ],
      "metadata": {
        "id": "W3CFHuZnEFO5"
      },
      "execution_count": null,
      "outputs": []
    },
    {
      "cell_type": "code",
      "source": [
        "data0=data1"
      ],
      "metadata": {
        "id": "mgMxSBizEnol"
      },
      "execution_count": null,
      "outputs": []
    },
    {
      "cell_type": "code",
      "source": [
        "from sklearn.preprocessing import MinMaxScaler\n",
        "SD=MinMaxScaler(feature_range=(0,1))\n",
        "data1=SD.fit_transform(np.array(data1).reshape(-1,1))\n"
      ],
      "metadata": {
        "id": "uchDxUsHDkPn"
      },
      "execution_count": null,
      "outputs": []
    },
    {
      "cell_type": "code",
      "source": [
        "data1.shape"
      ],
      "metadata": {
        "colab": {
          "base_uri": "https://localhost:8080/"
        },
        "id": "OkRzGaYSEPSX",
        "outputId": "4fe4adf3-2db8-4711-c689-2878bda759b3"
      },
      "execution_count": null,
      "outputs": [
        {
          "output_type": "execute_result",
          "data": {
            "text/plain": [
              "(1259, 1)"
            ]
          },
          "metadata": {},
          "execution_count": 164
        }
      ]
    },
    {
      "cell_type": "code",
      "source": [
        "data1"
      ],
      "metadata": {
        "colab": {
          "base_uri": "https://localhost:8080/"
        },
        "id": "m3Ny5ne1EaAE",
        "outputId": "7746bb83-7d43-44cf-cc42-06f1625209d5"
      },
      "execution_count": null,
      "outputs": [
        {
          "output_type": "execute_result",
          "data": {
            "text/plain": [
              "array([[0.01064764],\n",
              "       [0.01450214],\n",
              "       [0.00862495],\n",
              "       ...,\n",
              "       [0.62569174],\n",
              "       [0.63542346],\n",
              "       [0.63508001]])"
            ]
          },
          "metadata": {},
          "execution_count": 165
        }
      ]
    },
    {
      "cell_type": "code",
      "source": [
        "training_size=int(len(data1)*0.65)\n",
        "testing_size=len(data1)-training_size\n",
        "train_data=data1[0:training_size,:]\n",
        "test_data=data1[training_size:len(data1),:1]"
      ],
      "metadata": {
        "id": "vh683RxvE6vi"
      },
      "execution_count": null,
      "outputs": []
    },
    {
      "cell_type": "code",
      "source": [
        "training_size,testing_size"
      ],
      "metadata": {
        "colab": {
          "base_uri": "https://localhost:8080/"
        },
        "id": "VVyW4MjhHpDn",
        "outputId": "46e0a876-8166-4b85-cbbf-0e1096f11ea5"
      },
      "execution_count": null,
      "outputs": [
        {
          "output_type": "execute_result",
          "data": {
            "text/plain": [
              "(818, 441)"
            ]
          },
          "metadata": {},
          "execution_count": 167
        }
      ]
    },
    {
      "cell_type": "code",
      "source": [
        "import numpy\n",
        "def split(dataset,time_step=1):\n",
        "  dataX,dataY=[],[]\n",
        "  for i in range(len(dataset)-time_step-1):\n",
        "    a=dataset[i:(i+time_step),0]\n",
        "    dataX.append(a)\n",
        "    dataY.append(dataset[i+time_step,0])\n",
        "  return numpy.array(dataX),numpy.array(dataY)"
      ],
      "metadata": {
        "id": "svIu2zuDICDO"
      },
      "execution_count": null,
      "outputs": []
    },
    {
      "cell_type": "code",
      "source": [
        "\n",
        "time_step=200\n",
        "X_train,y_train =split(train_data,time_step)\n",
        "X_test,y_test =split(test_data,time_step)"
      ],
      "metadata": {
        "id": "C1IPIN7QJVHs"
      },
      "execution_count": null,
      "outputs": []
    },
    {
      "cell_type": "code",
      "source": [
        "print(X_train)"
      ],
      "metadata": {
        "colab": {
          "base_uri": "https://localhost:8080/"
        },
        "id": "eosfqAIxJ4n0",
        "outputId": "e779ea1b-3b0f-4fdf-c4be-8b285a2dd526"
      },
      "execution_count": null,
      "outputs": [
        {
          "output_type": "stream",
          "name": "stdout",
          "text": [
            "[[0.01064764 0.01450214 0.00862495 ... 0.10800289 0.11510132 0.11689501]\n",
            " [0.01450214 0.00862495 0.01179253 ... 0.11510132 0.11689501 0.12147465]\n",
            " [0.00862495 0.01179253 0.01213602 ... 0.11689501 0.12147465 0.12323018]\n",
            " ...\n",
            " [0.39125295 0.39537457 0.40323631 ... 0.62095944 0.61019734 0.58554365]\n",
            " [0.39537457 0.40323631 0.38709308 ... 0.61019734 0.58554365 0.5808114 ]\n",
            " [0.40323631 0.38709308 0.37655995 ... 0.58554365 0.5808114  0.58569634]]\n"
          ]
        }
      ]
    },
    {
      "cell_type": "code",
      "source": [
        "print(X_train.shape),print(y_train.shape)"
      ],
      "metadata": {
        "colab": {
          "base_uri": "https://localhost:8080/"
        },
        "id": "fIlI63y2KIRa",
        "outputId": "1550a569-f650-42cb-f341-9737c54cd430"
      },
      "execution_count": null,
      "outputs": [
        {
          "output_type": "stream",
          "name": "stdout",
          "text": [
            "(617, 200)\n",
            "(617,)\n"
          ]
        },
        {
          "output_type": "execute_result",
          "data": {
            "text/plain": [
              "(None, None)"
            ]
          },
          "metadata": {},
          "execution_count": 190
        }
      ]
    },
    {
      "cell_type": "code",
      "source": [
        "print(X_test.shape),print(y_test.shape)"
      ],
      "metadata": {
        "colab": {
          "base_uri": "https://localhost:8080/"
        },
        "id": "RbYtYHWoKtd4",
        "outputId": "ca974335-44d2-40fa-fef1-936f280cdfea"
      },
      "execution_count": null,
      "outputs": [
        {
          "output_type": "stream",
          "name": "stdout",
          "text": [
            "(240, 200)\n",
            "(240,)\n"
          ]
        },
        {
          "output_type": "execute_result",
          "data": {
            "text/plain": [
              "(None, None)"
            ]
          },
          "metadata": {},
          "execution_count": 191
        }
      ]
    },
    {
      "cell_type": "code",
      "source": [
        "X_train=X_train.reshape(X_train.shape[0],X_train.shape[1],1)\n",
        "X_test=X_test.reshape(X_test.shape[0],X_test.shape[1],1)"
      ],
      "metadata": {
        "id": "ua6YXrvGL9cA"
      },
      "execution_count": null,
      "outputs": []
    },
    {
      "cell_type": "code",
      "source": [
        "from tensorflow.keras.models import Sequential\n",
        "from tensorflow.keras.layers import Dense\n",
        "from tensorflow.keras.layers import LSTM\n",
        "import tensorflow as tf\n"
      ],
      "metadata": {
        "id": "oeIfQxQBMtHG"
      },
      "execution_count": null,
      "outputs": []
    },
    {
      "cell_type": "code",
      "source": [
        "SQ=Sequential()"
      ],
      "metadata": {
        "id": "YbYQXbBTNqjH"
      },
      "execution_count": null,
      "outputs": []
    },
    {
      "cell_type": "code",
      "source": [
        "SQ.add(LSTM(50,return_sequences=True,input_shape=(200,1)))\n",
        "SQ.add(LSTM(50,return_sequences=True))\n",
        "SQ.add(LSTM(50))\n",
        "SQ.add(Dense(1))\n",
        "SQ.compile(loss='mean_squared_error',optimizer='adam')"
      ],
      "metadata": {
        "id": "2hQQJp4cNvLn"
      },
      "execution_count": null,
      "outputs": []
    },
    {
      "cell_type": "code",
      "source": [
        "SQ.summary()"
      ],
      "metadata": {
        "colab": {
          "base_uri": "https://localhost:8080/"
        },
        "id": "qCKyE18OOauC",
        "outputId": "dd6e0ecc-da1a-4d5b-c454-5e9d992abc09"
      },
      "execution_count": null,
      "outputs": [
        {
          "output_type": "stream",
          "name": "stdout",
          "text": [
            "Model: \"sequential_5\"\n",
            "_________________________________________________________________\n",
            " Layer (type)                Output Shape              Param #   \n",
            "=================================================================\n",
            " lstm_17 (LSTM)              (None, 200, 50)           10400     \n",
            "                                                                 \n",
            " lstm_18 (LSTM)              (None, 200, 50)           20200     \n",
            "                                                                 \n",
            " lstm_19 (LSTM)              (None, 50)                20200     \n",
            "                                                                 \n",
            " dense_5 (Dense)             (None, 1)                 51        \n",
            "                                                                 \n",
            "=================================================================\n",
            "Total params: 50,851\n",
            "Trainable params: 50,851\n",
            "Non-trainable params: 0\n",
            "_________________________________________________________________\n"
          ]
        }
      ]
    },
    {
      "cell_type": "code",
      "source": [
        "early_stopping=tf.keras.callbacks.EarlyStopping(\n",
        "    monitor=\"val_loss\",\n",
        "    min_delta=0.0001,\n",
        "    patience=20,\n",
        "    verbose=1,\n",
        "    mode=\"auto\",\n",
        "    baseline=None,\n",
        "    restore_best_weights=False,\n",
        ")"
      ],
      "metadata": {
        "id": "OvvW8U2ZYgss"
      },
      "execution_count": null,
      "outputs": []
    },
    {
      "cell_type": "code",
      "source": [
        "history=SQ.fit(X_train,y_train,validation_data=(X_test,y_test),epochs=1000,batch_size=70,callbacks=early_stopping)"
      ],
      "metadata": {
        "colab": {
          "base_uri": "https://localhost:8080/"
        },
        "id": "IWB_kTZuOeV1",
        "outputId": "7268f6a4-8080-43a9-f003-c570876e3344"
      },
      "execution_count": null,
      "outputs": [
        {
          "output_type": "stream",
          "name": "stdout",
          "text": [
            "Epoch 1/1000\n",
            "9/9 [==============================] - 12s 608ms/step - loss: 0.0395 - val_loss: 0.0042\n",
            "Epoch 2/1000\n",
            "9/9 [==============================] - 4s 431ms/step - loss: 0.0082 - val_loss: 0.0460\n",
            "Epoch 3/1000\n",
            "9/9 [==============================] - 4s 466ms/step - loss: 0.0037 - val_loss: 0.0028\n",
            "Epoch 4/1000\n",
            "9/9 [==============================] - 4s 433ms/step - loss: 0.0021 - val_loss: 0.0066\n",
            "Epoch 5/1000\n",
            "9/9 [==============================] - 4s 437ms/step - loss: 0.0012 - val_loss: 0.0042\n",
            "Epoch 6/1000\n",
            "9/9 [==============================] - 7s 772ms/step - loss: 9.2731e-04 - val_loss: 0.0049\n",
            "Epoch 7/1000\n",
            "9/9 [==============================] - 6s 725ms/step - loss: 8.8070e-04 - val_loss: 0.0025\n",
            "Epoch 8/1000\n",
            "9/9 [==============================] - 4s 437ms/step - loss: 8.3743e-04 - val_loss: 0.0038\n",
            "Epoch 9/1000\n",
            "9/9 [==============================] - 4s 432ms/step - loss: 7.8788e-04 - val_loss: 0.0024\n",
            "Epoch 10/1000\n",
            "9/9 [==============================] - 4s 433ms/step - loss: 7.9286e-04 - val_loss: 0.0026\n",
            "Epoch 11/1000\n",
            "9/9 [==============================] - 4s 441ms/step - loss: 7.6224e-04 - val_loss: 0.0031\n",
            "Epoch 12/1000\n",
            "9/9 [==============================] - 4s 435ms/step - loss: 7.6799e-04 - val_loss: 0.0027\n",
            "Epoch 13/1000\n",
            "9/9 [==============================] - 4s 438ms/step - loss: 7.4911e-04 - val_loss: 0.0031\n",
            "Epoch 14/1000\n",
            "9/9 [==============================] - 4s 438ms/step - loss: 7.7319e-04 - val_loss: 0.0027\n",
            "Epoch 15/1000\n",
            "9/9 [==============================] - 4s 442ms/step - loss: 7.4998e-04 - val_loss: 0.0027\n",
            "Epoch 16/1000\n",
            "9/9 [==============================] - 4s 440ms/step - loss: 7.4004e-04 - val_loss: 0.0024\n",
            "Epoch 17/1000\n",
            "9/9 [==============================] - 5s 570ms/step - loss: 7.6701e-04 - val_loss: 0.0024\n",
            "Epoch 18/1000\n",
            "9/9 [==============================] - 4s 442ms/step - loss: 8.0035e-04 - val_loss: 0.0026\n",
            "Epoch 19/1000\n",
            "9/9 [==============================] - 4s 434ms/step - loss: 7.4273e-04 - val_loss: 0.0025\n",
            "Epoch 20/1000\n",
            "9/9 [==============================] - 4s 436ms/step - loss: 7.4127e-04 - val_loss: 0.0027\n",
            "Epoch 21/1000\n",
            "9/9 [==============================] - 4s 437ms/step - loss: 7.1576e-04 - val_loss: 0.0023\n",
            "Epoch 22/1000\n",
            "9/9 [==============================] - 4s 436ms/step - loss: 7.3481e-04 - val_loss: 0.0023\n",
            "Epoch 23/1000\n",
            "9/9 [==============================] - 4s 440ms/step - loss: 7.4224e-04 - val_loss: 0.0023\n",
            "Epoch 24/1000\n",
            "9/9 [==============================] - 4s 435ms/step - loss: 7.2183e-04 - val_loss: 0.0023\n",
            "Epoch 25/1000\n",
            "9/9 [==============================] - 4s 437ms/step - loss: 7.2442e-04 - val_loss: 0.0023\n",
            "Epoch 26/1000\n",
            "9/9 [==============================] - 4s 434ms/step - loss: 7.1839e-04 - val_loss: 0.0024\n",
            "Epoch 27/1000\n",
            "9/9 [==============================] - 4s 439ms/step - loss: 7.3747e-04 - val_loss: 0.0028\n",
            "Epoch 28/1000\n",
            "9/9 [==============================] - 4s 438ms/step - loss: 7.1044e-04 - val_loss: 0.0025\n",
            "Epoch 29/1000\n",
            "9/9 [==============================] - 4s 437ms/step - loss: 7.2624e-04 - val_loss: 0.0027\n",
            "Epoch 30/1000\n",
            "9/9 [==============================] - 4s 438ms/step - loss: 7.4321e-04 - val_loss: 0.0026\n",
            "Epoch 31/1000\n",
            "9/9 [==============================] - 4s 438ms/step - loss: 7.4019e-04 - val_loss: 0.0023\n",
            "Epoch 32/1000\n",
            "9/9 [==============================] - 4s 445ms/step - loss: 6.9713e-04 - val_loss: 0.0022\n",
            "Epoch 33/1000\n",
            "9/9 [==============================] - 4s 458ms/step - loss: 6.7583e-04 - val_loss: 0.0023\n",
            "Epoch 34/1000\n",
            "9/9 [==============================] - 4s 442ms/step - loss: 6.6435e-04 - val_loss: 0.0021\n",
            "Epoch 35/1000\n",
            "9/9 [==============================] - 4s 436ms/step - loss: 6.9324e-04 - val_loss: 0.0024\n",
            "Epoch 36/1000\n",
            "9/9 [==============================] - 4s 436ms/step - loss: 6.8013e-04 - val_loss: 0.0021\n",
            "Epoch 37/1000\n",
            "9/9 [==============================] - 4s 439ms/step - loss: 6.4570e-04 - val_loss: 0.0021\n",
            "Epoch 38/1000\n",
            "9/9 [==============================] - 4s 437ms/step - loss: 6.4491e-04 - val_loss: 0.0021\n",
            "Epoch 39/1000\n",
            "9/9 [==============================] - 4s 438ms/step - loss: 6.2575e-04 - val_loss: 0.0021\n",
            "Epoch 40/1000\n",
            "9/9 [==============================] - 4s 437ms/step - loss: 6.3259e-04 - val_loss: 0.0021\n",
            "Epoch 41/1000\n",
            "9/9 [==============================] - 4s 442ms/step - loss: 6.5234e-04 - val_loss: 0.0022\n",
            "Epoch 42/1000\n",
            "9/9 [==============================] - 4s 439ms/step - loss: 6.2997e-04 - val_loss: 0.0020\n",
            "Epoch 43/1000\n",
            "9/9 [==============================] - 4s 441ms/step - loss: 6.3160e-04 - val_loss: 0.0021\n",
            "Epoch 44/1000\n",
            "9/9 [==============================] - 4s 441ms/step - loss: 6.7110e-04 - val_loss: 0.0021\n",
            "Epoch 45/1000\n",
            "9/9 [==============================] - 6s 687ms/step - loss: 6.5426e-04 - val_loss: 0.0021\n",
            "Epoch 46/1000\n",
            "9/9 [==============================] - 4s 450ms/step - loss: 6.2029e-04 - val_loss: 0.0020\n",
            "Epoch 47/1000\n",
            "9/9 [==============================] - 4s 437ms/step - loss: 5.8103e-04 - val_loss: 0.0020\n",
            "Epoch 48/1000\n",
            "9/9 [==============================] - 4s 440ms/step - loss: 5.7839e-04 - val_loss: 0.0020\n",
            "Epoch 49/1000\n",
            "9/9 [==============================] - 4s 438ms/step - loss: 5.7472e-04 - val_loss: 0.0020\n",
            "Epoch 50/1000\n",
            "9/9 [==============================] - 4s 443ms/step - loss: 6.1480e-04 - val_loss: 0.0021\n",
            "Epoch 51/1000\n",
            "9/9 [==============================] - 4s 442ms/step - loss: 5.9426e-04 - val_loss: 0.0024\n",
            "Epoch 52/1000\n",
            "9/9 [==============================] - 4s 435ms/step - loss: 5.6235e-04 - val_loss: 0.0019\n",
            "Epoch 53/1000\n",
            "9/9 [==============================] - 4s 442ms/step - loss: 5.4088e-04 - val_loss: 0.0020\n",
            "Epoch 54/1000\n",
            "9/9 [==============================] - 4s 437ms/step - loss: 5.3656e-04 - val_loss: 0.0022\n",
            "Epoch 55/1000\n",
            "9/9 [==============================] - 4s 432ms/step - loss: 5.3773e-04 - val_loss: 0.0022\n",
            "Epoch 56/1000\n",
            "9/9 [==============================] - 4s 438ms/step - loss: 5.1822e-04 - val_loss: 0.0018\n",
            "Epoch 57/1000\n",
            "9/9 [==============================] - 4s 434ms/step - loss: 5.4254e-04 - val_loss: 0.0018\n",
            "Epoch 58/1000\n",
            "9/9 [==============================] - 4s 433ms/step - loss: 5.2204e-04 - val_loss: 0.0019\n",
            "Epoch 59/1000\n",
            "9/9 [==============================] - 4s 445ms/step - loss: 5.1834e-04 - val_loss: 0.0021\n",
            "Epoch 60/1000\n",
            "9/9 [==============================] - 4s 438ms/step - loss: 4.9034e-04 - val_loss: 0.0022\n",
            "Epoch 61/1000\n",
            "9/9 [==============================] - 4s 443ms/step - loss: 4.9767e-04 - val_loss: 0.0018\n",
            "Epoch 62/1000\n",
            "9/9 [==============================] - 4s 437ms/step - loss: 4.8950e-04 - val_loss: 0.0017\n",
            "Epoch 63/1000\n",
            "9/9 [==============================] - 4s 434ms/step - loss: 4.9241e-04 - val_loss: 0.0019\n",
            "Epoch 64/1000\n",
            "9/9 [==============================] - 4s 444ms/step - loss: 5.0233e-04 - val_loss: 0.0023\n",
            "Epoch 65/1000\n",
            "9/9 [==============================] - 4s 441ms/step - loss: 4.8174e-04 - val_loss: 0.0020\n",
            "Epoch 66/1000\n",
            "9/9 [==============================] - 4s 441ms/step - loss: 4.5954e-04 - val_loss: 0.0020\n",
            "Epoch 67/1000\n",
            "9/9 [==============================] - 4s 443ms/step - loss: 4.4666e-04 - val_loss: 0.0017\n",
            "Epoch 68/1000\n",
            "9/9 [==============================] - 4s 444ms/step - loss: 4.7248e-04 - val_loss: 0.0017\n",
            "Epoch 69/1000\n",
            "9/9 [==============================] - 4s 437ms/step - loss: 5.1209e-04 - val_loss: 0.0017\n",
            "Epoch 70/1000\n",
            "9/9 [==============================] - 4s 430ms/step - loss: 4.6962e-04 - val_loss: 0.0026\n",
            "Epoch 71/1000\n",
            "9/9 [==============================] - 4s 432ms/step - loss: 4.5574e-04 - val_loss: 0.0019\n",
            "Epoch 72/1000\n",
            "9/9 [==============================] - 4s 437ms/step - loss: 4.3334e-04 - val_loss: 0.0021\n",
            "Epoch 73/1000\n",
            "9/9 [==============================] - 4s 434ms/step - loss: 4.1912e-04 - val_loss: 0.0018\n",
            "Epoch 74/1000\n",
            "9/9 [==============================] - 4s 436ms/step - loss: 4.1281e-04 - val_loss: 0.0023\n",
            "Epoch 75/1000\n",
            "9/9 [==============================] - 4s 438ms/step - loss: 4.1763e-04 - val_loss: 0.0020\n",
            "Epoch 76/1000\n",
            "9/9 [==============================] - 4s 438ms/step - loss: 4.0188e-04 - val_loss: 0.0018\n",
            "Epoch 77/1000\n",
            "9/9 [==============================] - 4s 446ms/step - loss: 3.9573e-04 - val_loss: 0.0017\n",
            "Epoch 78/1000\n",
            "9/9 [==============================] - 4s 445ms/step - loss: 4.2959e-04 - val_loss: 0.0020\n",
            "Epoch 79/1000\n",
            "9/9 [==============================] - 4s 435ms/step - loss: 4.1834e-04 - val_loss: 0.0019\n",
            "Epoch 80/1000\n",
            "9/9 [==============================] - 4s 441ms/step - loss: 4.4845e-04 - val_loss: 0.0020\n",
            "Epoch 81/1000\n",
            "9/9 [==============================] - 4s 435ms/step - loss: 4.4051e-04 - val_loss: 0.0021\n",
            "Epoch 82/1000\n",
            "9/9 [==============================] - 4s 438ms/step - loss: 4.0714e-04 - val_loss: 0.0017\n",
            "Epoch 83/1000\n",
            "9/9 [==============================] - 4s 437ms/step - loss: 4.0911e-04 - val_loss: 0.0016\n",
            "Epoch 84/1000\n",
            "9/9 [==============================] - 4s 447ms/step - loss: 4.4335e-04 - val_loss: 0.0023\n",
            "Epoch 85/1000\n",
            "9/9 [==============================] - 4s 439ms/step - loss: 4.1861e-04 - val_loss: 0.0016\n",
            "Epoch 86/1000\n",
            "9/9 [==============================] - 4s 435ms/step - loss: 4.1088e-04 - val_loss: 0.0016\n",
            "Epoch 87/1000\n",
            "9/9 [==============================] - 4s 435ms/step - loss: 3.8544e-04 - val_loss: 0.0016\n",
            "Epoch 88/1000\n",
            "9/9 [==============================] - 4s 436ms/step - loss: 3.7078e-04 - val_loss: 0.0016\n",
            "Epoch 89/1000\n",
            "9/9 [==============================] - 4s 484ms/step - loss: 3.8496e-04 - val_loss: 0.0018\n",
            "Epoch 90/1000\n",
            "9/9 [==============================] - 6s 644ms/step - loss: 3.8443e-04 - val_loss: 0.0016\n",
            "Epoch 91/1000\n",
            "9/9 [==============================] - 4s 439ms/step - loss: 3.7338e-04 - val_loss: 0.0015\n",
            "Epoch 92/1000\n",
            "9/9 [==============================] - 4s 435ms/step - loss: 3.7449e-04 - val_loss: 0.0021\n",
            "Epoch 93/1000\n",
            "9/9 [==============================] - 4s 437ms/step - loss: 3.9884e-04 - val_loss: 0.0016\n",
            "Epoch 94/1000\n",
            "9/9 [==============================] - 4s 437ms/step - loss: 3.7440e-04 - val_loss: 0.0015\n",
            "Epoch 95/1000\n",
            "9/9 [==============================] - 4s 440ms/step - loss: 3.5883e-04 - val_loss: 0.0015\n",
            "Epoch 96/1000\n",
            "9/9 [==============================] - 4s 439ms/step - loss: 3.5545e-04 - val_loss: 0.0015\n",
            "Epoch 97/1000\n",
            "9/9 [==============================] - 4s 437ms/step - loss: 3.5246e-04 - val_loss: 0.0014\n",
            "Epoch 98/1000\n",
            "9/9 [==============================] - 4s 437ms/step - loss: 3.6068e-04 - val_loss: 0.0016\n",
            "Epoch 99/1000\n",
            "9/9 [==============================] - 4s 435ms/step - loss: 4.1345e-04 - val_loss: 0.0025\n",
            "Epoch 100/1000\n",
            "9/9 [==============================] - 4s 464ms/step - loss: 5.3642e-04 - val_loss: 0.0018\n",
            "Epoch 101/1000\n",
            "9/9 [==============================] - 4s 441ms/step - loss: 4.2627e-04 - val_loss: 0.0020\n",
            "Epoch 102/1000\n",
            "9/9 [==============================] - 4s 437ms/step - loss: 4.5598e-04 - val_loss: 0.0014\n",
            "Epoch 103/1000\n",
            "9/9 [==============================] - 4s 432ms/step - loss: 3.5029e-04 - val_loss: 0.0014\n",
            "Epoch 104/1000\n",
            "9/9 [==============================] - 4s 445ms/step - loss: 3.7416e-04 - val_loss: 0.0017\n",
            "Epoch 105/1000\n",
            "9/9 [==============================] - 4s 439ms/step - loss: 3.6416e-04 - val_loss: 0.0014\n",
            "Epoch 106/1000\n",
            "9/9 [==============================] - 4s 435ms/step - loss: 3.5030e-04 - val_loss: 0.0013\n",
            "Epoch 107/1000\n",
            "9/9 [==============================] - 4s 438ms/step - loss: 3.3671e-04 - val_loss: 0.0014\n",
            "Epoch 108/1000\n",
            "9/9 [==============================] - 4s 438ms/step - loss: 3.3717e-04 - val_loss: 0.0013\n",
            "Epoch 109/1000\n",
            "9/9 [==============================] - 4s 439ms/step - loss: 3.3583e-04 - val_loss: 0.0013\n",
            "Epoch 110/1000\n",
            "9/9 [==============================] - 4s 433ms/step - loss: 3.4952e-04 - val_loss: 0.0013\n",
            "Epoch 111/1000\n",
            "9/9 [==============================] - 4s 438ms/step - loss: 3.3660e-04 - val_loss: 0.0016\n",
            "Epoch 112/1000\n",
            "9/9 [==============================] - 4s 435ms/step - loss: 3.5838e-04 - val_loss: 0.0013\n",
            "Epoch 113/1000\n",
            "9/9 [==============================] - 4s 438ms/step - loss: 3.3616e-04 - val_loss: 0.0013\n",
            "Epoch 114/1000\n",
            "9/9 [==============================] - 4s 437ms/step - loss: 3.2010e-04 - val_loss: 0.0013\n",
            "Epoch 115/1000\n",
            "9/9 [==============================] - 4s 437ms/step - loss: 3.2893e-04 - val_loss: 0.0013\n",
            "Epoch 116/1000\n",
            "9/9 [==============================] - 4s 441ms/step - loss: 3.1939e-04 - val_loss: 0.0013\n",
            "Epoch 117/1000\n",
            "9/9 [==============================] - 4s 434ms/step - loss: 3.4643e-04 - val_loss: 0.0016\n",
            "Epoch 118/1000\n",
            "9/9 [==============================] - 4s 434ms/step - loss: 3.4431e-04 - val_loss: 0.0013\n",
            "Epoch 119/1000\n",
            "9/9 [==============================] - 4s 437ms/step - loss: 3.2132e-04 - val_loss: 0.0013\n",
            "Epoch 120/1000\n",
            "9/9 [==============================] - 4s 435ms/step - loss: 3.3383e-04 - val_loss: 0.0012\n",
            "Epoch 121/1000\n",
            "9/9 [==============================] - 4s 434ms/step - loss: 3.1468e-04 - val_loss: 0.0012\n",
            "Epoch 122/1000\n",
            "9/9 [==============================] - 4s 435ms/step - loss: 3.2343e-04 - val_loss: 0.0012\n",
            "Epoch 123/1000\n",
            "9/9 [==============================] - 4s 435ms/step - loss: 3.0246e-04 - val_loss: 0.0012\n",
            "Epoch 124/1000\n",
            "9/9 [==============================] - 4s 442ms/step - loss: 2.9967e-04 - val_loss: 0.0011\n",
            "Epoch 125/1000\n",
            "9/9 [==============================] - 4s 435ms/step - loss: 3.0974e-04 - val_loss: 0.0012\n",
            "Epoch 126/1000\n",
            "9/9 [==============================] - 4s 439ms/step - loss: 2.9742e-04 - val_loss: 0.0011\n",
            "Epoch 127/1000\n",
            "9/9 [==============================] - 4s 433ms/step - loss: 3.2752e-04 - val_loss: 0.0015\n",
            "Epoch 128/1000\n",
            "9/9 [==============================] - 4s 433ms/step - loss: 3.2251e-04 - val_loss: 0.0011\n",
            "Epoch 129/1000\n",
            "9/9 [==============================] - 4s 435ms/step - loss: 3.1507e-04 - val_loss: 0.0012\n",
            "Epoch 130/1000\n",
            "9/9 [==============================] - 6s 721ms/step - loss: 3.0413e-04 - val_loss: 0.0012\n",
            "Epoch 131/1000\n",
            "9/9 [==============================] - 4s 435ms/step - loss: 3.4267e-04 - val_loss: 0.0013\n",
            "Epoch 132/1000\n",
            "9/9 [==============================] - 4s 437ms/step - loss: 3.3863e-04 - val_loss: 0.0015\n",
            "Epoch 133/1000\n",
            "9/9 [==============================] - 4s 438ms/step - loss: 2.9813e-04 - val_loss: 0.0012\n",
            "Epoch 134/1000\n",
            "9/9 [==============================] - 4s 434ms/step - loss: 2.8416e-04 - val_loss: 0.0010\n",
            "Epoch 135/1000\n",
            "9/9 [==============================] - 4s 430ms/step - loss: 2.8438e-04 - val_loss: 0.0010\n",
            "Epoch 136/1000\n",
            "9/9 [==============================] - 4s 443ms/step - loss: 2.9943e-04 - val_loss: 0.0012\n",
            "Epoch 137/1000\n",
            "9/9 [==============================] - 4s 433ms/step - loss: 2.8023e-04 - val_loss: 0.0011\n",
            "Epoch 138/1000\n",
            "9/9 [==============================] - 4s 446ms/step - loss: 2.8243e-04 - val_loss: 0.0010\n",
            "Epoch 139/1000\n",
            "9/9 [==============================] - 4s 462ms/step - loss: 2.7957e-04 - val_loss: 0.0010\n",
            "Epoch 140/1000\n",
            "9/9 [==============================] - 4s 434ms/step - loss: 2.8730e-04 - val_loss: 9.9674e-04\n",
            "Epoch 141/1000\n",
            "9/9 [==============================] - 4s 429ms/step - loss: 2.8647e-04 - val_loss: 0.0010\n",
            "Epoch 143/1000\n",
            "9/9 [==============================] - 4s 427ms/step - loss: 2.7049e-04 - val_loss: 9.8332e-04\n",
            "Epoch 144/1000\n",
            "9/9 [==============================] - 4s 433ms/step - loss: 2.9516e-04 - val_loss: 9.4474e-04\n",
            "Epoch 145/1000\n",
            "9/9 [==============================] - 4s 430ms/step - loss: 2.8322e-04 - val_loss: 0.0010\n",
            "Epoch 146/1000\n",
            "9/9 [==============================] - 4s 435ms/step - loss: 2.7159e-04 - val_loss: 9.3812e-04\n",
            "Epoch 147/1000\n",
            "9/9 [==============================] - 4s 433ms/step - loss: 2.6360e-04 - val_loss: 9.6845e-04\n",
            "Epoch 148/1000\n",
            "9/9 [==============================] - 4s 429ms/step - loss: 2.7327e-04 - val_loss: 0.0013\n",
            "Epoch 149/1000\n",
            "9/9 [==============================] - 4s 432ms/step - loss: 3.0848e-04 - val_loss: 0.0011\n",
            "Epoch 150/1000\n",
            "9/9 [==============================] - 4s 432ms/step - loss: 2.8256e-04 - val_loss: 9.1019e-04\n",
            "Epoch 151/1000\n",
            "9/9 [==============================] - 4s 435ms/step - loss: 2.5969e-04 - val_loss: 9.1258e-04\n",
            "Epoch 152/1000\n",
            "9/9 [==============================] - 4s 429ms/step - loss: 2.5715e-04 - val_loss: 8.9242e-04\n",
            "Epoch 153/1000\n",
            "9/9 [==============================] - 4s 432ms/step - loss: 2.6165e-04 - val_loss: 8.8952e-04\n",
            "Epoch 154/1000\n",
            "9/9 [==============================] - 4s 433ms/step - loss: 2.5108e-04 - val_loss: 9.1060e-04\n",
            "Epoch 155/1000\n",
            "9/9 [==============================] - 4s 430ms/step - loss: 2.6261e-04 - val_loss: 0.0010\n",
            "Epoch 156/1000\n",
            "9/9 [==============================] - 4s 442ms/step - loss: 2.7202e-04 - val_loss: 8.7643e-04\n",
            "Epoch 157/1000\n",
            "9/9 [==============================] - 4s 433ms/step - loss: 2.6594e-04 - val_loss: 9.5052e-04\n",
            "Epoch 158/1000\n",
            "9/9 [==============================] - 4s 440ms/step - loss: 2.4632e-04 - val_loss: 8.7302e-04\n",
            "Epoch 159/1000\n",
            "9/9 [==============================] - 4s 435ms/step - loss: 2.4474e-04 - val_loss: 8.4708e-04\n",
            "Epoch 160/1000\n",
            "9/9 [==============================] - 4s 434ms/step - loss: 2.5319e-04 - val_loss: 8.5229e-04\n",
            "Epoch 161/1000\n",
            "9/9 [==============================] - 4s 439ms/step - loss: 2.5561e-04 - val_loss: 9.8735e-04\n",
            "Epoch 162/1000\n",
            "9/9 [==============================] - 4s 437ms/step - loss: 2.5715e-04 - val_loss: 0.0016\n",
            "Epoch 163/1000\n",
            "9/9 [==============================] - 4s 433ms/step - loss: 2.8778e-04 - val_loss: 0.0016\n",
            "Epoch 164/1000\n",
            "9/9 [==============================] - 4s 433ms/step - loss: 3.2974e-04 - val_loss: 9.3785e-04\n",
            "Epoch 164: early stopping\n"
          ]
        }
      ]
    },
    {
      "cell_type": "markdown",
      "source": [
        "predicted the values"
      ],
      "metadata": {
        "id": "E2xVy-KEbWO7"
      }
    },
    {
      "cell_type": "code",
      "source": [
        "train_predict=SQ.predict(X_train)"
      ],
      "metadata": {
        "id": "jbLsIo6ePCZM",
        "colab": {
          "base_uri": "https://localhost:8080/"
        },
        "outputId": "b0d5c29f-7162-4aa8-db00-b099325912fb"
      },
      "execution_count": null,
      "outputs": [
        {
          "output_type": "stream",
          "name": "stdout",
          "text": [
            "20/20 [==============================] - 3s 69ms/step\n"
          ]
        }
      ]
    },
    {
      "cell_type": "code",
      "source": [
        "test_predict=SQ.predict(X_test)"
      ],
      "metadata": {
        "colab": {
          "base_uri": "https://localhost:8080/"
        },
        "id": "IRerx0T8ahBw",
        "outputId": "cdd4cb70-c85d-4485-f25a-eebdbd98efcf"
      },
      "execution_count": null,
      "outputs": [
        {
          "output_type": "stream",
          "name": "stdout",
          "text": [
            "8/8 [==============================] - 1s 69ms/step\n"
          ]
        }
      ]
    },
    {
      "cell_type": "markdown",
      "source": [
        "**inversing to the orignal form**"
      ],
      "metadata": {
        "id": "spGpRkc2bbaw"
      }
    },
    {
      "cell_type": "code",
      "source": [
        "train_predict=SD.inverse_transform(train_predict)\n",
        "test_predict=SD.inverse_transform(test_predict)"
      ],
      "metadata": {
        "id": "d1IvfEwoazkS"
      },
      "execution_count": null,
      "outputs": []
    },
    {
      "cell_type": "code",
      "source": [
        "import math\n",
        "from sklearn.metrics import mean_squared_error,r2_score"
      ],
      "metadata": {
        "id": "m6k4Gh17bkaS"
      },
      "execution_count": null,
      "outputs": []
    },
    {
      "cell_type": "code",
      "source": [
        "math.sqrt(mean_squared_error(y_train,train_predict))\n"
      ],
      "metadata": {
        "colab": {
          "base_uri": "https://localhost:8080/"
        },
        "id": "Xqqzug4SbzZE",
        "outputId": "468704aa-3d51-408b-db8b-ac73bb4b9193"
      },
      "execution_count": null,
      "outputs": [
        {
          "output_type": "execute_result",
          "data": {
            "text/plain": [
              "165.86394106280312"
            ]
          },
          "metadata": {},
          "execution_count": 203
        }
      ]
    },
    {
      "cell_type": "code",
      "source": [
        "math.sqrt(mean_squared_error(y_test,test_predict))"
      ],
      "metadata": {
        "colab": {
          "base_uri": "https://localhost:8080/"
        },
        "id": "VxZnrIQVcINc",
        "outputId": "a8261783-4d3e-468e-9963-a65e46d90f86"
      },
      "execution_count": null,
      "outputs": [
        {
          "output_type": "execute_result",
          "data": {
            "text/plain": [
              "278.4844370539506"
            ]
          },
          "metadata": {},
          "execution_count": 204
        }
      ]
    },
    {
      "cell_type": "code",
      "source": [
        "print(r2_score(test_predict,y_test))"
      ],
      "metadata": {
        "colab": {
          "base_uri": "https://localhost:8080/"
        },
        "id": "lT1nJ3pJeK2j",
        "outputId": "98827811-0155-4128-ca8b-41bd587da57a"
      },
      "execution_count": null,
      "outputs": [
        {
          "output_type": "stream",
          "name": "stdout",
          "text": [
            "-109.62463520926146\n"
          ]
        }
      ]
    },
    {
      "cell_type": "code",
      "source": [
        "import matplotlib.pyplot as plt\n"
      ],
      "metadata": {
        "id": "WeEx3uVid1Qy"
      },
      "execution_count": null,
      "outputs": []
    },
    {
      "cell_type": "code",
      "source": [
        "plt.rcParams[\"figure.figsize\"] = (30,10)"
      ],
      "metadata": {
        "id": "3xiFKKwSfQWn"
      },
      "execution_count": null,
      "outputs": []
    },
    {
      "cell_type": "code",
      "source": [
        "### Plotting \n",
        "# shift train predictions for plotting\n",
        "look_back=200\n",
        "trainPredictPlot = numpy.empty_like(data1)\n",
        "trainPredictPlot[:, :] = np.nan\n",
        "trainPredictPlot[look_back:len(train_predict)+look_back, :] = train_predict\n",
        "# shift test predictions for plotting\n",
        "testPredictPlot = numpy.empty_like(data1)\n",
        "testPredictPlot[:, :] = numpy.nan\n",
        "testPredictPlot[len(train_predict)+(look_back*2)+1:len(data1)-1, :] = test_predict\n",
        "# plot baseline and predictions\n",
        "plt.plot(SD.inverse_transform(data1))\n",
        "plt.plot(trainPredictPlot)\n",
        "plt.plot(testPredictPlot)\n",
        "plt.show()"
      ],
      "metadata": {
        "colab": {
          "base_uri": "https://localhost:8080/",
          "height": 592
        },
        "id": "xfXQp1_ocLc_",
        "outputId": "235da0c5-e276-4497-a658-29e6a4c6fb2f"
      },
      "execution_count": null,
      "outputs": [
        {
          "output_type": "display_data",
          "data": {
            "text/plain": [
              "<Figure size 2160x720 with 1 Axes>"
            ],
            "image/png": "[encoded data removed]"
          },
          "metadata": {
            "needs_background": "light"
          }
        }
      ]
    },
    {
      "cell_type": "code",
      "source": [],
      "metadata": {
        "id": "lfD6rkRbd5jv"
      },
      "execution_count": null,
      "outputs": []
    }
  ]
}